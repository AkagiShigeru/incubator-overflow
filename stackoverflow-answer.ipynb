{
 "cells": [
  {
   "cell_type": "code",
   "execution_count": null,
   "metadata": {
    "ExecuteTime": {
     "end_time": "2017-10-30T20:18:13.875326Z",
     "start_time": "2017-10-30T20:18:13.506358Z"
    }
   },
   "outputs": [],
   "source": [
    "%matplotlib inline\n",
    "from stack_nlp import *"
   ]
  },
  {
   "cell_type": "code",
   "execution_count": null,
   "metadata": {
    "ExecuteTime": {
     "end_time": "2017-10-30T20:18:14.763316Z",
     "start_time": "2017-10-30T20:18:14.756419Z"
    }
   },
   "outputs": [],
   "source": [
    "cfg = local_import(\"./default.py\")"
   ]
  },
  {
   "cell_type": "code",
   "execution_count": null,
   "metadata": {
    "ExecuteTime": {
     "end_time": "2017-10-30T20:18:48.181583Z",
     "start_time": "2017-10-30T20:18:16.740523Z"
    }
   },
   "outputs": [],
   "source": [
    "PrepareData(cfg)"
   ]
  },
  {
   "cell_type": "code",
   "execution_count": null,
   "metadata": {
    "ExecuteTime": {
     "end_time": "2017-10-30T20:18:52.276373Z",
     "start_time": "2017-10-30T20:18:52.268804Z"
    }
   },
   "outputs": [],
   "source": [
    "data = cfg.data"
   ]
  },
  {
   "cell_type": "code",
   "execution_count": null,
   "metadata": {
    "ExecuteTime": {
     "end_time": "2017-10-30T20:18:52.856422Z",
     "start_time": "2017-10-30T20:18:52.841929Z"
    }
   },
   "outputs": [],
   "source": [
    "data.keys()"
   ]
  },
  {
   "cell_type": "code",
   "execution_count": null,
   "metadata": {
    "ExecuteTime": {
     "end_time": "2017-10-30T20:18:54.086888Z",
     "start_time": "2017-10-30T20:18:54.081363Z"
    }
   },
   "outputs": [],
   "source": [
    "qs = data[\"meta\"];"
   ]
  },
  {
   "cell_type": "code",
   "execution_count": null,
   "metadata": {
    "ExecuteTime": {
     "end_time": "2017-10-30T20:18:55.478146Z",
     "start_time": "2017-10-30T20:18:55.469799Z"
    }
   },
   "outputs": [],
   "source": [
    "qs.head()\n",
    "print qs.shape"
   ]
  },
  {
   "cell_type": "code",
   "execution_count": null,
   "metadata": {
    "ExecuteTime": {
     "end_time": "2017-10-30T20:19:02.993614Z",
     "start_time": "2017-10-30T20:19:01.420845Z"
    }
   },
   "outputs": [],
   "source": [
    "plt.figure(figsize=(8, 6))\n",
    "plt.xlabel(r\"Time in hours to answer\")\n",
    "plt.ylabel(r\"Normalized counts (a.u.)\")\n",
    "plt.hist(qs.dt_answer.dt.total_seconds() * 1. / 3600, range=[0, 7 * 24], bins=7 * 24, \n",
    "         histtype=\"step\", lw=2, color=\"k\", label=\"First answer\", normed=True);\n",
    "plt.hist(qs.dt_accanswer.dt.total_seconds() * 1. / 3600, range=[0, 7 * 24], bins=7 * 24,\n",
    "        histtype=\"step\", lw=2, color=\"r\", label=\"Accepted answer\", normed=True);\n",
    "plt.semilogy(nonposy=\"clip\")\n",
    "plt.legend(loc=\"upper right\");"
   ]
  },
  {
   "cell_type": "code",
   "execution_count": null,
   "metadata": {
    "ExecuteTime": {
     "end_time": "2017-10-30T20:41:40.449632Z",
     "start_time": "2017-10-30T20:41:39.949641Z"
    }
   },
   "outputs": [],
   "source": [
    "plt.figure(figsize=(8, 6))\n",
    "plt.xlabel(r\"Time in hours to answer\")\n",
    "plt.ylabel(r\"Absolute counts\")\n",
    "plt.hist(qs.dt_answer.dt.total_seconds() * 1. / 3600, range=[0, 7 * 24], bins=7 * 24, \n",
    "         histtype=\"step\", lw=2, color=\"k\", label=\"First answer\");\n",
    "plt.hist(qs.dt_accanswer.dt.total_seconds() * 1. / 3600, range=[0, 7 * 24], bins=7 * 24,\n",
    "        histtype=\"step\", lw=2, color=\"r\", label=\"Accepted answer\");\n",
    "plt.semilogy(nonposy=\"clip\")\n",
    "plt.legend(loc=\"upper right\");"
   ]
  },
  {
   "cell_type": "code",
   "execution_count": null,
   "metadata": {
    "ExecuteTime": {
     "end_time": "2017-10-30T20:19:12.390406Z",
     "start_time": "2017-10-30T20:19:11.668030Z"
    }
   },
   "outputs": [],
   "source": [
    "plt.hist((qs.dt_accanswer - qs.dt_answer).dt.total_seconds() * 1. / 3600, range=[-2, 2], bins=100);\n",
    "plt.semilogy(nonposy=\"clip\")"
   ]
  },
  {
   "cell_type": "code",
   "execution_count": null,
   "metadata": {
    "ExecuteTime": {
     "end_time": "2017-10-30T20:47:10.582050Z",
     "start_time": "2017-10-30T20:47:10.550570Z"
    }
   },
   "outputs": [],
   "source": [
    "print np.sum(~qs.dt_answer.isnull())\n",
    "print np.sum(~qs.dt_accanswer.isnull())"
   ]
  },
  {
   "cell_type": "code",
   "execution_count": null,
   "metadata": {
    "ExecuteTime": {
     "end_time": "2017-10-30T20:24:41.898465Z",
     "start_time": "2017-10-30T20:24:39.757934Z"
    }
   },
   "outputs": [],
   "source": [
    "plt.plot(qs.dt_answer.dt.total_seconds() * 1. / 3600, qs.AnswerCount, \"k.\")"
   ]
  },
  {
   "cell_type": "code",
   "execution_count": null,
   "metadata": {
    "ExecuteTime": {
     "end_time": "2017-10-30T20:49:23.208518Z",
     "start_time": "2017-10-30T20:49:23.161789Z"
    }
   },
   "outputs": [],
   "source": [
    "plt.subplots?"
   ]
  },
  {
   "cell_type": "code",
   "execution_count": null,
   "metadata": {
    "ExecuteTime": {
     "end_time": "2017-10-30T20:57:29.879160Z",
     "start_time": "2017-10-30T20:57:19.947857Z"
    }
   },
   "outputs": [],
   "source": [
    "qs.columns\n",
    "dthours = qs.dt_accanswer.dt.total_seconds() * 1. / 3600\n",
    "# dthours = qs.dt_answer.dt.total_seconds() * 1. / 3600\n",
    "cols = [\"AnswerCount\", \"BodyNCodes\", \"BodyNQMarks\", \"BodySize\", \"titlelen\", \"nwords\", \"ordersum\", \"ratio\"]\n",
    "f, axarr = plt.subplots(2, 4, squeeze=False)\n",
    "for i, col in enumerate(cols):\n",
    "    axarr[i // 4, i % 4].plot(dthours, qs[col], \"k.\")\n",
    "    axarr[i // 4, i % 4].set_title(col)\n",
    "# Fine-tune figure; hide x ticks for top plots and y ticks for right plots\n",
    "# plt.setp([a.get_xticklabels() for a in axarr[0, :]], visible=False)\n",
    "# plt.setp([a.get_yticklabels() for a in axarr[:, 1]], visible=False)"
   ]
  },
  {
   "cell_type": "code",
   "execution_count": null,
   "metadata": {},
   "outputs": [],
   "source": []
  }
 ],
 "metadata": {
  "kernelspec": {
   "display_name": "Python 2",
   "language": "python",
   "name": "python2"
  },
  "language_info": {
   "codemirror_mode": {
    "name": "ipython",
    "version": 2
   },
   "file_extension": ".py",
   "mimetype": "text/x-python",
   "name": "python",
   "nbconvert_exporter": "python",
   "pygments_lexer": "ipython2",
   "version": "2.7.14"
  }
 },
 "nbformat": 4,
 "nbformat_minor": 2
}
