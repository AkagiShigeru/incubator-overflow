{
 "cells": [
  {
   "cell_type": "code",
   "execution_count": 1,
   "metadata": {
    "ExecuteTime": {
     "end_time": "2017-10-30T20:18:13.875326Z",
     "start_time": "2017-10-30T20:18:13.506358Z"
    }
   },
   "outputs": [],
   "source": [
    "%matplotlib inline\n",
    "from stack_nlp import *"
   ]
  },
  {
   "cell_type": "code",
   "execution_count": 2,
   "metadata": {
    "ExecuteTime": {
     "end_time": "2017-10-30T20:18:14.763316Z",
     "start_time": "2017-10-30T20:18:14.756419Z"
    }
   },
   "outputs": [],
   "source": [
    "cfg = local_import(\"./default.py\")"
   ]
  },
  {
   "cell_type": "code",
   "execution_count": 3,
   "metadata": {
    "ExecuteTime": {
     "end_time": "2017-10-30T20:18:48.181583Z",
     "start_time": "2017-10-30T20:18:16.740523Z"
    }
   },
   "outputs": [
    {
     "name": "stdout",
     "output_type": "stream",
     "text": [
      "Shape of question df (1696819, 21)\n",
      "Shape of answer df (2028240, 21)\n"
     ]
    }
   ],
   "source": [
    "PrepareData(cfg)"
   ]
  },
  {
   "cell_type": "code",
   "execution_count": 4,
   "metadata": {
    "ExecuteTime": {
     "end_time": "2017-10-30T20:18:52.276373Z",
     "start_time": "2017-10-30T20:18:52.268804Z"
    }
   },
   "outputs": [],
   "source": [
    "data = cfg.data"
   ]
  },
  {
   "cell_type": "code",
   "execution_count": 5,
   "metadata": {
    "ExecuteTime": {
     "end_time": "2017-10-30T20:18:52.856422Z",
     "start_time": "2017-10-30T20:18:52.841929Z"
    }
   },
   "outputs": [
    {
     "data": {
      "text/plain": [
       "['meta', 'dict', 'features', 'answers']"
      ]
     },
     "execution_count": 5,
     "metadata": {},
     "output_type": "execute_result"
    }
   ],
   "source": [
    "data.keys()"
   ]
  },
  {
   "cell_type": "code",
   "execution_count": 6,
   "metadata": {
    "ExecuteTime": {
     "end_time": "2017-10-30T20:18:54.086888Z",
     "start_time": "2017-10-30T20:18:54.081363Z"
    }
   },
   "outputs": [],
   "source": [
    "qs = data[\"meta\"];"
   ]
  },
  {
   "cell_type": "code",
   "execution_count": 7,
   "metadata": {
    "ExecuteTime": {
     "end_time": "2017-10-30T20:18:55.478146Z",
     "start_time": "2017-10-30T20:18:55.469799Z"
    }
   },
   "outputs": [
    {
     "name": "stdout",
     "output_type": "stream",
     "text": [
      "(673622, 37)\n"
     ]
    }
   ],
   "source": [
    "qs.head()\n",
    "print qs.shape"
   ]
  },
  {
   "cell_type": "code",
   "execution_count": 8,
   "metadata": {
    "ExecuteTime": {
     "end_time": "2017-10-30T20:19:02.993614Z",
     "start_time": "2017-10-30T20:19:01.420845Z"
    }
   },
   "outputs": [
    {
     "name": "stderr",
     "output_type": "stream",
     "text": [
      "/usr/lib/python2.7/site-packages/numpy/lib/function_base.py:748: RuntimeWarning: invalid value encountered in greater_equal\n",
      "  keep = (tmp_a >= mn)\n",
      "/usr/lib/python2.7/site-packages/numpy/lib/function_base.py:749: RuntimeWarning: invalid value encountered in less_equal\n",
      "  keep &= (tmp_a <= mx)\n"
     ]
    },
    {
     "data": {
      "image/png": "[encoded data removed]",
      "text/plain": [
       "<matplotlib.figure.Figure at 0x7f325d811c10>"
      ]
     },
     "metadata": {},
     "output_type": "display_data"
    }
   ],
   "source": [
    "plt.figure(figsize=(8, 6))\n",
    "plt.xlabel(r\"Time in hours to answer\")\n",
    "plt.ylabel(r\"Normalized counts (a.u.)\")\n",
    "plt.hist(qs.dt_answer.dt.total_seconds() * 1. / 3600, range=[0, 7 * 24], bins=7 * 24, \n",
    "         histtype=\"step\", lw=2, color=\"k\", label=\"First answer\", normed=True);\n",
    "plt.hist(qs.dt_accanswer.dt.total_seconds() * 1. / 3600, range=[0, 7 * 24], bins=7 * 24,\n",
    "        histtype=\"step\", lw=2, color=\"r\", label=\"Accepted answer\", normed=True);\n",
    "plt.semilogy(nonposy=\"clip\")\n",
    "plt.legend(loc=\"upper right\");"
   ]
  },
  {
   "cell_type": "code",
   "execution_count": 15,
   "metadata": {
    "ExecuteTime": {
     "end_time": "2017-10-30T20:41:40.449632Z",
     "start_time": "2017-10-30T20:41:39.949641Z"
    }
   },
   "outputs": [
    {
     "data": {
      "image/png": "[encoded data removed]",
      "text/plain": [
       "<matplotlib.figure.Figure at 0x7f3254c07590>"
      ]
     },
     "metadata": {},
     "output_type": "display_data"
    }
   ],
   "source": [
    "plt.figure(figsize=(8, 6))\n",
    "plt.xlabel(r\"Time in hours to answer\")\n",
    "plt.ylabel(r\"Absolute counts\")\n",
    "plt.hist(qs.dt_answer.dt.total_seconds() * 1. / 3600, range=[0, 7 * 24], bins=7 * 24, \n",
    "         histtype=\"step\", lw=2, color=\"k\", label=\"First answer\");\n",
    "plt.hist(qs.dt_accanswer.dt.total_seconds() * 1. / 3600, range=[0, 7 * 24], bins=7 * 24,\n",
    "        histtype=\"step\", lw=2, color=\"r\", label=\"Accepted answer\");\n",
    "plt.semilogy(nonposy=\"clip\")\n",
    "plt.legend(loc=\"upper right\");"
   ]
  },
  {
   "cell_type": "code",
   "execution_count": 9,
   "metadata": {
    "ExecuteTime": {
     "end_time": "2017-10-30T20:19:12.390406Z",
     "start_time": "2017-10-30T20:19:11.668030Z"
    }
   },
   "outputs": [
    {
     "data": {
      "text/plain": [
       "[]"
      ]
     },
     "execution_count": 9,
     "metadata": {},
     "output_type": "execute_result"
    },
    {
     "data": {
      "image/png": "[encoded data removed]",
      "text/plain": [
       "<matplotlib.figure.Figure at 0x7f3221a74f90>"
      ]
     },
     "metadata": {},
     "output_type": "display_data"
    }
   ],
   "source": [
    "plt.hist((qs.dt_accanswer - qs.dt_answer).dt.total_seconds() * 1. / 3600, range=[-2, 2], bins=100);\n",
    "plt.semilogy(nonposy=\"clip\")"
   ]
  },
  {
   "cell_type": "code",
   "execution_count": 19,
   "metadata": {
    "ExecuteTime": {
     "end_time": "2017-10-30T20:47:10.582050Z",
     "start_time": "2017-10-30T20:47:10.550570Z"
    }
   },
   "outputs": [
    {
     "name": "stdout",
     "output_type": "stream",
     "text": [
      "536044\n",
      "307514\n"
     ]
    }
   ],
   "source": [
    "print np.sum(~qs.dt_answer.isnull())\n",
    "print np.sum(~qs.dt_accanswer.isnull())"
   ]
  },
  {
   "cell_type": "code",
   "execution_count": 11,
   "metadata": {
    "ExecuteTime": {
     "end_time": "2017-10-30T20:24:41.898465Z",
     "start_time": "2017-10-30T20:24:39.757934Z"
    }
   },
   "outputs": [
    {
     "data": {
      "text/plain": [
       "[<matplotlib.lines.Line2D at 0x7f3255ea5bd0>]"
      ]
     },
     "execution_count": 11,
     "metadata": {},
     "output_type": "execute_result"
    },
    {
     "data": {
      "image/png": "[encoded data removed]",
      "text/plain": [
       "<matplotlib.figure.Figure at 0x7f3255f06e50>"
      ]
     },
     "metadata": {},
     "output_type": "display_data"
    }
   ],
   "source": [
    "plt.plot(qs.dt_answer.dt.total_seconds() * 1. / 3600, qs.AnswerCount, \"k.\")"
   ]
  },
  {
   "cell_type": "code",
   "execution_count": 23,
   "metadata": {
    "ExecuteTime": {
     "end_time": "2017-10-30T20:49:23.208518Z",
     "start_time": "2017-10-30T20:49:23.161789Z"
    }
   },
   "outputs": [],
   "source": [
    "plt.subplots?"
   ]
  },
  {
   "cell_type": "code",
   "execution_count": 25,
   "metadata": {
    "ExecuteTime": {
     "end_time": "2017-10-30T20:51:08.416326Z",
     "start_time": "2017-10-30T20:51:05.286392Z"
    }
   },
   "outputs": [
    {
     "ename": "IndexError",
     "evalue": "index 2 is out of bounds for axis 0 with size 2",
     "output_type": "error",
     "traceback": [
      "\u001b[0;31m---------------------------------------------------------------------------\u001b[0m",
      "\u001b[0;31mIndexError\u001b[0m                                Traceback (most recent call last)",
      "\u001b[0;32m<ipython-input-25-64335ecf509e>\u001b[0m in \u001b[0;36m<module>\u001b[0;34m()\u001b[0m\n\u001b[1;32m      5\u001b[0m \u001b[0mf\u001b[0m\u001b[0;34m,\u001b[0m \u001b[0maxarr\u001b[0m \u001b[0;34m=\u001b[0m \u001b[0mplt\u001b[0m\u001b[0;34m.\u001b[0m\u001b[0msubplots\u001b[0m\u001b[0;34m(\u001b[0m\u001b[0;36m2\u001b[0m\u001b[0;34m,\u001b[0m \u001b[0;36m4\u001b[0m\u001b[0;34m,\u001b[0m \u001b[0msqueeze\u001b[0m\u001b[0;34m=\u001b[0m\u001b[0mFalse\u001b[0m\u001b[0;34m)\u001b[0m\u001b[0;34m\u001b[0m\u001b[0m\n\u001b[1;32m      6\u001b[0m \u001b[0;32mfor\u001b[0m \u001b[0mi\u001b[0m\u001b[0;34m,\u001b[0m \u001b[0mcol\u001b[0m \u001b[0;32min\u001b[0m \u001b[0menumerate\u001b[0m\u001b[0;34m(\u001b[0m\u001b[0mcols\u001b[0m\u001b[0;34m)\u001b[0m\u001b[0;34m:\u001b[0m\u001b[0;34m\u001b[0m\u001b[0m\n\u001b[0;32m----> 7\u001b[0;31m     \u001b[0maxarr\u001b[0m\u001b[0;34m[\u001b[0m\u001b[0mi\u001b[0m \u001b[0;34m%\u001b[0m \u001b[0;36m4\u001b[0m\u001b[0;34m,\u001b[0m \u001b[0mi\u001b[0m \u001b[0;34m//\u001b[0m \u001b[0;36m4\u001b[0m\u001b[0;34m]\u001b[0m\u001b[0;34m.\u001b[0m\u001b[0mplot\u001b[0m\u001b[0;34m(\u001b[0m\u001b[0mdthours\u001b[0m\u001b[0;34m,\u001b[0m \u001b[0mqs\u001b[0m\u001b[0;34m[\u001b[0m\u001b[0mcol\u001b[0m\u001b[0;34m]\u001b[0m\u001b[0;34m,\u001b[0m \u001b[0;34m\"k.\"\u001b[0m\u001b[0;34m)\u001b[0m\u001b[0;34m\u001b[0m\u001b[0m\n\u001b[0m\u001b[1;32m      8\u001b[0m     \u001b[0maxarr\u001b[0m\u001b[0;34m[\u001b[0m\u001b[0mi\u001b[0m \u001b[0;34m%\u001b[0m \u001b[0;36m4\u001b[0m\u001b[0;34m,\u001b[0m \u001b[0mi\u001b[0m \u001b[0;34m//\u001b[0m \u001b[0;36m4\u001b[0m\u001b[0;34m]\u001b[0m\u001b[0;34m.\u001b[0m\u001b[0mset_title\u001b[0m\u001b[0;34m(\u001b[0m\u001b[0mcol\u001b[0m\u001b[0;34m)\u001b[0m\u001b[0;34m\u001b[0m\u001b[0m\n\u001b[1;32m      9\u001b[0m \u001b[0;31m# Fine-tune figure; hide x ticks for top plots and y ticks for right plots\u001b[0m\u001b[0;34m\u001b[0m\u001b[0;34m\u001b[0m\u001b[0m\n",
      "\u001b[0;31mIndexError\u001b[0m: index 2 is out of bounds for axis 0 with size 2"
     ]
    },
    {
     "data": {
      "image/png": "[encoded data removed]",
      "text/plain": [
       "<matplotlib.figure.Figure at 0x7f3255e1c710>"
      ]
     },
     "metadata": {},
     "output_type": "display_data"
    }
   ],
   "source": [
    "qs.columns\n",
    "dthours = qs.dt_accanswer.dt.total_seconds() * 1. / 3600\n",
    "# dthours = qs.dt_answer.dt.total_seconds() * 1. / 3600\n",
    "cols = [\"AnswerCount\", \"BodyNCodes\", \"BodyNQMarks\", \"BodySize\", \"titlelen\", \"nwords\", \"ordersum\", \"ratio\"]\n",
    "f, axarr = plt.subplots(2, 4, squeeze=False)\n",
    "for i, col in enumerate(cols):\n",
    "    axarr[i % 4, i // 4].plot(dthours, qs[col], \"k.\")\n",
    "    axarr[i % 4, i // 4].set_title(col)\n",
    "# Fine-tune figure; hide x ticks for top plots and y ticks for right plots\n",
    "# plt.setp([a.get_xticklabels() for a in axarr[0, :]], visible=False)\n",
    "# plt.setp([a.get_yticklabels() for a in axarr[:, 1]], visible=False)"
   ]
  },
  {
   "cell_type": "code",
   "execution_count": null,
   "metadata": {},
   "outputs": [],
   "source": []
  }
 ],
 "metadata": {
  "kernelspec": {
   "display_name": "Python 2",
   "language": "python",
   "name": "python2"
  },
  "language_info": {
   "codemirror_mode": {
    "name": "ipython",
    "version": 2
   },
   "file_extension": ".py",
   "mimetype": "text/x-python",
   "name": "python",
   "nbconvert_exporter": "python",
   "pygments_lexer": "ipython2",
   "version": "2.7.14"
  }
 },
 "nbformat": 4,
 "nbformat_minor": 2
}
