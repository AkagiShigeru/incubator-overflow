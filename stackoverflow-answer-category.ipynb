{
 "cells": [
  {
   "cell_type": "code",
   "execution_count": 1,
   "metadata": {
    "ExecuteTime": {
     "end_time": "2017-11-28T11:23:20.810680Z",
     "start_time": "2017-11-28T11:23:19.106914Z"
    }
   },
   "outputs": [
    {
     "name": "stderr",
     "output_type": "stream",
     "text": [
      "Using TensorFlow backend.\n"
     ]
    }
   ],
   "source": [
    "%matplotlib inline\n",
    "# %load_ext autoreload\n",
    "# %autoreload 1\n",
    "from stack_nlp import *\n",
    "from jupyter_mplsettings import *\n",
    "matplotlib.rc('font', **font)"
   ]
  },
  {
   "cell_type": "code",
   "execution_count": 2,
   "metadata": {
    "ExecuteTime": {
     "end_time": "2017-11-28T11:23:21.358887Z",
     "start_time": "2017-11-28T11:23:21.096008Z"
    }
   },
   "outputs": [
    {
     "data": {
      "text/html": [
       "<script>requirejs.config({paths: { 'plotly': ['https://cdn.plot.ly/plotly-latest.min']},});if(!window.Plotly) {{require(['plotly'],function(plotly) {window.Plotly=plotly;});}}</script>"
      ],
      "text/vnd.plotly.v1+html": [
       "<script>requirejs.config({paths: { 'plotly': ['https://cdn.plot.ly/plotly-latest.min']},});if(!window.Plotly) {{require(['plotly'],function(plotly) {window.Plotly=plotly;});}}</script>"
      ]
     },
     "metadata": {},
     "output_type": "display_data"
    }
   ],
   "source": [
    "import plotly\n",
    "import plotly.graph_objs as go\n",
    "plotly.offline.init_notebook_mode(connected=True)"
   ]
  },
  {
   "cell_type": "code",
   "execution_count": 3,
   "metadata": {
    "ExecuteTime": {
     "end_time": "2017-11-28T11:23:22.200087Z",
     "start_time": "2017-11-28T11:23:22.187557Z"
    }
   },
   "outputs": [],
   "source": [
    "cfg = local_import(\"./laptop.py\")"
   ]
  },
  {
   "cell_type": "code",
   "execution_count": 4,
   "metadata": {
    "ExecuteTime": {
     "end_time": "2017-11-28T11:24:01.936875Z",
     "start_time": "2017-11-28T11:23:23.277680Z"
    }
   },
   "outputs": [
    {
     "name": "stdout",
     "output_type": "stream",
     "text": [
      "Using meta path: /home/alex/data/stackexchange/overflow/caches/posts_2017.hdf5\n",
      "Shape of question df (1696819, 21)\n",
      "Loading word dictionary...\n",
      "Shape of dictionary (3048821, 4)\n",
      "Warning! Dropping some words from word list, please verify!\n",
      "Dropping 1211\n",
      "Shape of merged question df (1000000, 34)\n",
      "Selecting only questions with at least 5 meaningful words.\n",
      "This removes 8582 questions.\n",
      "Removing bad values with missing feature information.\n",
      "This affects 19 questions.\n",
      "Shape of answer df (2028240, 21)\n",
      "Calculating normalized columns. They are available under usual column name + _norm.\n"
     ]
    }
   ],
   "source": [
    "PrepareData(cfg)"
   ]
  },
  {
   "cell_type": "code",
   "execution_count": 5,
   "metadata": {
    "ExecuteTime": {
     "end_time": "2017-11-28T11:24:04.161292Z",
     "start_time": "2017-11-28T11:24:04.153891Z"
    }
   },
   "outputs": [],
   "source": [
    "data = cfg.data"
   ]
  },
  {
   "cell_type": "code",
   "execution_count": 6,
   "metadata": {
    "ExecuteTime": {
     "end_time": "2017-11-28T11:24:06.313468Z",
     "start_time": "2017-11-28T11:24:06.304046Z"
    }
   },
   "outputs": [
    {
     "data": {
      "text/plain": [
       "['dbconn', 'meta', 'dict', 'features', 'answers']"
      ]
     },
     "execution_count": 6,
     "metadata": {},
     "output_type": "execute_result"
    }
   ],
   "source": [
    "data.keys()"
   ]
  },
  {
   "cell_type": "code",
   "execution_count": 7,
   "metadata": {
    "ExecuteTime": {
     "end_time": "2017-11-28T11:24:08.403232Z",
     "start_time": "2017-11-28T11:24:08.399751Z"
    }
   },
   "outputs": [],
   "source": [
    "qs = data[\"meta\"];"
   ]
  },
  {
   "cell_type": "code",
   "execution_count": 8,
   "metadata": {
    "ExecuteTime": {
     "end_time": "2017-11-28T11:24:11.298525Z",
     "start_time": "2017-11-28T11:24:11.293506Z"
    }
   },
   "outputs": [
    {
     "name": "stdout",
     "output_type": "stream",
     "text": [
      "(991399, 55)\n"
     ]
    }
   ],
   "source": [
    "qs.head()\n",
    "print qs.shape"
   ]
  },
  {
   "cell_type": "code",
   "execution_count": 9,
   "metadata": {
    "ExecuteTime": {
     "end_time": "2017-11-28T11:24:14.331452Z",
     "start_time": "2017-11-28T11:24:14.292305Z"
    }
   },
   "outputs": [
    {
     "name": "stdout",
     "output_type": "stream",
     "text": [
      "706703\n",
      "386998\n"
     ]
    }
   ],
   "source": [
    "print np.sum(~qs.dt_answer.isnull())\n",
    "print np.sum(~qs.dt_accanswer.isnull())"
   ]
  },
  {
   "cell_type": "code",
   "execution_count": 10,
   "metadata": {
    "ExecuteTime": {
     "end_time": "2017-11-28T11:24:17.099276Z",
     "start_time": "2017-11-28T11:24:17.091153Z"
    }
   },
   "outputs": [
    {
     "data": {
      "text/plain": [
       "{'AnswerCount': 'Number of replies',\n",
       " 'BodyNCodes': 'Number of code tags',\n",
       " 'BodyNQMarks': 'Number of question marks',\n",
       " 'BodySize': 'Length of post text',\n",
       " 'Score': 'Question score',\n",
       " 'nwords': 'Number of meaningful words',\n",
       " 'ordermean': 'Word prevalence (average)',\n",
       " 'orderstd': 'Word prevalence (std)',\n",
       " 'ordersum': 'Word prevalence (sum)',\n",
       " 'prob_bern': 'Joined bernoulli probability of words',\n",
       " 'ratio': 'Ratio of number of verbs to nouns',\n",
       " 'titlelen': 'Length of title'}"
      ]
     },
     "execution_count": 10,
     "metadata": {},
     "output_type": "execute_result"
    }
   ],
   "source": [
    "qs.columns\n",
    "cols_desc"
   ]
  },
  {
   "cell_type": "code",
   "execution_count": 11,
   "metadata": {
    "ExecuteTime": {
     "end_time": "2017-11-28T11:24:24.139789Z",
     "start_time": "2017-11-28T11:24:20.578705Z"
    }
   },
   "outputs": [
    {
     "name": "stdout",
     "output_type": "stream",
     "text": [
      "Length of the whole shuffled question df: 991399\n",
      "Bins for time categories [  0.00000000e+00   1.89288000e-01   6.78036000e-01   5.45282520e+00\n",
      "   5.47461192e+03]"
     ]
    },
    {
     "name": "stderr",
     "output_type": "stream",
     "text": [
      "/usr/lib/python2.7/site-packages/ipykernel_launcher.py:12: SettingWithCopyWarning:\n",
      "\n",
      "\n",
      "A value is trying to be set on a copy of a slice from a DataFrame.\n",
      "Try using .loc[row_indexer,col_indexer] = value instead\n",
      "\n",
      "See the caveats in the documentation: http://pandas.pydata.org/pandas-docs/stable/indexing.html#indexing-view-versus-copy\n",
      "\n",
      "/usr/lib/python2.7/site-packages/pandas/core/indexing.py:537: SettingWithCopyWarning:\n",
      "\n",
      "\n",
      "A value is trying to be set on a copy of a slice from a DataFrame.\n",
      "Try using .loc[row_indexer,col_indexer] = value instead\n",
      "\n",
      "See the caveats in the documentation: http://pandas.pydata.org/pandas-docs/stable/indexing.html#indexing-view-versus-copy\n",
      "\n"
     ]
    },
    {
     "name": "stdout",
     "output_type": "stream",
     "text": [
      "\n",
      "Length of the training set: 250000\n",
      "Length of the testing set: 233747\n",
      "Number of questions without answer: 284672\n"
     ]
    }
   ],
   "source": [
    "n_timecat = 4\n",
    "timecat_bins = np.linspace(-0.5, n_timecat + 0.5, n_timecat + 2)\n",
    "\n",
    "# training and testing samples\n",
    "qs = shuffle(qs)\n",
    "print \"Length of the whole shuffled question df:\", len(qs)\n",
    "# limiting to questions with accepted answer for training\n",
    "\n",
    "tmask = np.isfinite(qs.dt_accanswer_hour)\n",
    "time_categories = mquantiles(qs.loc[tmask].dt_accanswer_hour, prob=np.linspace(0, 1, n_timecat + 1))\n",
    "print \"Bins for time categories\", time_categories\n",
    "qs[\"timecat\"] = 0\n",
    "qs.loc[tmask, \"timecat\"] = np.digitize(qs.loc[tmask].dt_accanswer_hour, time_categories) - 1\n",
    "qs.loc[~tmask, \"timecat\"] = n_timecat\n",
    "\n",
    "qssel = qs[tmask]\n",
    "qssel = qssel.append(qs[~tmask].iloc[:int(len(qssel) * 1. / (len(time_categories) - 1))])\n",
    "qssel = shuffle(qssel)\n",
    "\n",
    "train = 250000\n",
    "qstrain = qssel.iloc[:train]\n",
    "qstest = qssel.iloc[train:]\n",
    "print \"Length of the training set:\", len(qstrain)\n",
    "print \"Length of the testing set:\", len(qstest)\n",
    "\n",
    "# label = \"dt_accanswer_hour\"\n",
    "label = \"timecat\"\n",
    "\n",
    "# sample with no answers, aka the ultimate testing sample\n",
    "qsnone = qs[qs.AnswerCount == 0]\n",
    "print \"Number of questions without answer:\", len(qsnone)"
   ]
  },
  {
   "cell_type": "code",
   "execution_count": 12,
   "metadata": {
    "ExecuteTime": {
     "end_time": "2017-11-28T11:24:29.263796Z",
     "start_time": "2017-11-28T11:24:29.253789Z"
    }
   },
   "outputs": [
    {
     "data": {
      "text/plain": [
       "array([  0.00000000e+00,   1.89288000e-01,   6.78036000e-01,\n",
       "         5.45282520e+00,   5.47461192e+03])"
      ]
     },
     "execution_count": 12,
     "metadata": {},
     "output_type": "execute_result"
    }
   ],
   "source": [
    "time_categories"
   ]
  },
  {
   "cell_type": "code",
   "execution_count": 13,
   "metadata": {
    "ExecuteTime": {
     "end_time": "2017-11-28T11:24:35.479771Z",
     "start_time": "2017-11-28T11:24:32.996661Z"
    }
   },
   "outputs": [
    {
     "data": {
      "text/plain": [
       "<matplotlib.axes._subplots.AxesSubplot at 0x7f5d10a16c50>"
      ]
     },
     "execution_count": 13,
     "metadata": {},
     "output_type": "execute_result"
    },
    {
     "data": {
      "image/png": "[encoded data removed]",
      "text/plain": [
       "<matplotlib.figure.Figure at 0x7f5d10a1f410>"
      ]
     },
     "metadata": {},
     "output_type": "display_data"
    }
   ],
   "source": [
    "plt.figure(figsize=(8, 6))\n",
    "qstrain.timecat.hist(color=\"k\", lw=2, histtype=\"step\", bins=timecat_bins)\n",
    "qstest.timecat.hist(color=\"red\", lw=2, histtype=\"step\", bins=timecat_bins)"
   ]
  },
  {
   "cell_type": "code",
   "execution_count": 14,
   "metadata": {
    "ExecuteTime": {
     "end_time": "2017-11-28T11:24:39.887121Z",
     "start_time": "2017-11-28T11:24:39.681267Z"
    }
   },
   "outputs": [
    {
     "data": {
      "image/png": "[encoded data removed]",
      "text/plain": [
       "<matplotlib.figure.Figure at 0x7f5d5d852750>"
      ]
     },
     "metadata": {},
     "output_type": "display_data"
    }
   ],
   "source": [
    "qstrain.Score.hist(bins=10, range=[0,10]);"
   ]
  },
  {
   "cell_type": "code",
   "execution_count": 14,
   "metadata": {
    "ExecuteTime": {
     "end_time": "2017-11-28T10:42:39.455501Z",
     "start_time": "2017-11-28T10:42:39.429301Z"
    }
   },
   "outputs": [
    {
     "data": {
      "text/plain": [
       "count    250000.000000\n",
       "mean          0.518996\n",
       "std           2.147181\n",
       "min         -29.000000\n",
       "25%           0.000000\n",
       "50%           0.000000\n",
       "75%           1.000000\n",
       "max         210.000000\n",
       "Name: Score, dtype: float64"
      ]
     },
     "execution_count": 14,
     "metadata": {},
     "output_type": "execute_result"
    }
   ],
   "source": [
    "qstrain.Score.describe()"
   ]
  },
  {
   "cell_type": "code",
   "execution_count": 14,
   "metadata": {
    "ExecuteTime": {
     "end_time": "2017-11-15T14:16:20.463125Z",
     "start_time": "2017-11-15T14:16:20.456596Z"
    }
   },
   "outputs": [
    {
     "data": {
      "text/plain": [
       "Index([u'AcceptedAnswerId', u'AnswerCount', u'BodyNCodes', u'BodyNQMarks',\n",
       "       u'BodySize', u'ClosedDate', u'CommentCount', u'CommunityOwnedDate',\n",
       "       u'CreationDate', u'FavoriteCount', u'Id', u'LastActivityDate',\n",
       "       u'LastEditDate', u'LastEditorUserId', u'OwnerUserId', u'ParentId',\n",
       "       u'PostTypeId', u'Score', u'Tags', u'Title', u'ViewCount', u'titlelen',\n",
       "       u'hasAnswers', u'dt_created', u'Id_r', u'hot_indices', u'nwords',\n",
       "       u'ordermean', u'orderstd', u'ordersum', u'prob_bern', u'prob_poiss',\n",
       "       u'ratio', u'ParentId_first', u'CreationDate_first', u'Id_acc',\n",
       "       u'CreationDate_acc', u'dayhour', u'weekday', u'day', u'dt_answer',\n",
       "       u'dt_accanswer', u'dt_answer_hour', u'dt_accanswer_hour',\n",
       "       u'quickanswer', u'BodyNCodes_norm', u'BodyNQMarks_norm',\n",
       "       u'BodySize_norm', u'titlelen_norm', u'nwords_norm', u'ordersum_norm',\n",
       "       u'ordermean_norm', u'orderstd_norm', u'ratio_norm', u'timecat'],\n",
       "      dtype='object')"
      ]
     },
     "execution_count": 14,
     "metadata": {},
     "output_type": "execute_result"
    }
   ],
   "source": [
    "qstrain.columns"
   ]
  },
  {
   "cell_type": "code",
   "execution_count": 30,
   "metadata": {
    "ExecuteTime": {
     "end_time": "2017-11-15T17:35:20.990292Z",
     "start_time": "2017-11-15T17:35:20.183232Z"
    }
   },
   "outputs": [],
   "source": [
    "# Tag analysis\n",
    "from collections import defaultdict\n",
    "c = defaultdict(int)\n",
    "def add(t):\n",
    "    c[t] += 1\n",
    "qstrain.Tags.apply(lambda x: [add(t) for t in x]);"
   ]
  },
  {
   "cell_type": "code",
   "execution_count": 50,
   "metadata": {
    "ExecuteTime": {
     "end_time": "2017-11-15T17:48:15.456373Z",
     "start_time": "2017-11-15T17:48:15.388175Z"
    }
   },
   "outputs": [],
   "source": [
    "skeys = sorted(c, key=c.get, reverse=True)\n",
    "tagdf = pd.DataFrame({\"tags\": skeys, \"counts\": [c[sk] for sk in skeys]})\n",
    "tagdf.set_index(\"tags\", inplace=True)\n",
    "tagdf = tagdf[tagdf.counts > 100]"
   ]
  },
  {
   "cell_type": "code",
   "execution_count": 51,
   "metadata": {
    "ExecuteTime": {
     "end_time": "2017-11-15T17:48:41.010133Z",
     "start_time": "2017-11-15T17:48:26.890375Z"
    }
   },
   "outputs": [
    {
     "data": {
      "image/png": "[encoded data removed]",
      "text/plain": [
       "<matplotlib.figure.Figure at 0x7f1510620b90>"
      ]
     },
     "metadata": {},
     "output_type": "display_data"
    },
    {
     "data": {
      "image/png": "[encoded data removed]",
      "text/plain": [
       "<matplotlib.figure.Figure at 0x7f151070be10>"
      ]
     },
     "metadata": {},
     "output_type": "display_data"
    }
   ],
   "source": [
    "plt.figure(figsize=(8, 6))\n",
    "tagdf.head(10).plot.bar(ax=plt.gca())\n",
    "plt.ylabel(\"Number of tagged questions\")\n",
    "plt.gca().yaxis.set_major_formatter(FormatStrFormatter(\"%d\"))\n",
    "plt.savefig(\"./plots/hist_mostcommontags.pdf\")\n",
    "\n",
    "plt.figure(figsize=(8, 6))\n",
    "tagdf.tail(10).plot.bar(ax=plt.gca())\n",
    "plt.ylabel(\"Number of tagged questions\")\n",
    "plt.gca().yaxis.set_major_formatter(FormatStrFormatter(\"%d\"))\n",
    "plt.savefig(\"./plots/hist_leastcommontags.pdf\")"
   ]
  },
  {
   "cell_type": "code",
   "execution_count": 69,
   "metadata": {
    "ExecuteTime": {
     "end_time": "2017-11-15T18:00:11.318144Z",
     "start_time": "2017-11-15T18:00:09.592983Z"
    }
   },
   "outputs": [],
   "source": [
    "answertimes = []\n",
    "tags = []\n",
    "for i in xrange(10):\n",
    "    tag = tagdf.iloc[i].name\n",
    "    qssel = qstrain[qstrain.Tags.apply(lambda x: tag in x)]\n",
    "    tags.append(tag)\n",
    "    answertimes.append(qssel.dt_accanswer_hour.values)"
   ]
  },
  {
   "cell_type": "code",
   "execution_count": 1,
   "metadata": {
    "ExecuteTime": {
     "end_time": "2017-11-15T22:05:37.150638Z",
     "start_time": "2017-11-15T22:05:36.998081Z"
    }
   },
   "outputs": [
    {
     "ename": "NameError",
     "evalue": "name 'ViolinPlot' is not defined",
     "output_type": "error",
     "traceback": [
      "\u001b[0;31m---------------------------------------------------------------------------\u001b[0m",
      "\u001b[0;31mNameError\u001b[0m                                 Traceback (most recent call last)",
      "\u001b[0;32m<ipython-input-1-b2e559384543>\u001b[0m in \u001b[0;36m<module>\u001b[0;34m()\u001b[0m\n\u001b[1;32m      1\u001b[0m \u001b[0mplt\u001b[0m\u001b[0;34m.\u001b[0m\u001b[0mfigure\u001b[0m\u001b[0;34m(\u001b[0m\u001b[0mfigsize\u001b[0m\u001b[0;34m=\u001b[0m\u001b[0;34m(\u001b[0m\u001b[0;36m8\u001b[0m\u001b[0;34m,\u001b[0m \u001b[0;36m6\u001b[0m\u001b[0;34m)\u001b[0m\u001b[0;34m)\u001b[0m\u001b[0;34m\u001b[0m\u001b[0m\n\u001b[1;32m      2\u001b[0m \u001b[0mplt\u001b[0m\u001b[0;34m.\u001b[0m\u001b[0mylabel\u001b[0m\u001b[0;34m(\u001b[0m\u001b[0;34m\"Median answer times / hours\"\u001b[0m\u001b[0;34m)\u001b[0m\u001b[0;34m\u001b[0m\u001b[0m\n\u001b[0;32m----> 3\u001b[0;31m \u001b[0mViolinPlot\u001b[0m\u001b[0;34m(\u001b[0m\u001b[0mnp\u001b[0m\u001b[0;34m.\u001b[0m\u001b[0marange\u001b[0m\u001b[0;34m(\u001b[0m\u001b[0;36m10\u001b[0m\u001b[0;34m)\u001b[0m\u001b[0;34m,\u001b[0m \u001b[0manswertimes\u001b[0m\u001b[0;34m,\u001b[0m \u001b[0mbins\u001b[0m\u001b[0;34m=\u001b[0m\u001b[0mNone\u001b[0m\u001b[0;34m,\u001b[0m \u001b[0maxes\u001b[0m\u001b[0;34m=\u001b[0m\u001b[0mplt\u001b[0m\u001b[0;34m.\u001b[0m\u001b[0mgca\u001b[0m\u001b[0;34m(\u001b[0m\u001b[0;34m)\u001b[0m\u001b[0;34m,\u001b[0m \u001b[0mdraw\u001b[0m\u001b[0;34m=\u001b[0m\u001b[0;34m\"amvs\"\u001b[0m\u001b[0;34m,\u001b[0m \u001b[0moutliers\u001b[0m\u001b[0;34m=\u001b[0m\u001b[0mFalse\u001b[0m\u001b[0;34m)\u001b[0m\u001b[0;34m\u001b[0m\u001b[0m\n\u001b[0m\u001b[1;32m      4\u001b[0m \u001b[0mplt\u001b[0m\u001b[0;34m.\u001b[0m\u001b[0mylim\u001b[0m\u001b[0;34m(\u001b[0m\u001b[0;36m0\u001b[0m\u001b[0;34m,\u001b[0m \u001b[0;36m100\u001b[0m\u001b[0;34m)\u001b[0m\u001b[0;34m\u001b[0m\u001b[0m\n\u001b[1;32m      5\u001b[0m \u001b[0mplt\u001b[0m\u001b[0;34m.\u001b[0m\u001b[0mgca\u001b[0m\u001b[0;34m(\u001b[0m\u001b[0;34m)\u001b[0m\u001b[0;34m.\u001b[0m\u001b[0mset_xticks\u001b[0m\u001b[0;34m(\u001b[0m\u001b[0mnp\u001b[0m\u001b[0;34m.\u001b[0m\u001b[0marange\u001b[0m\u001b[0;34m(\u001b[0m\u001b[0;36m10\u001b[0m\u001b[0;34m)\u001b[0m\u001b[0;34m)\u001b[0m\u001b[0;34m;\u001b[0m\u001b[0;34m\u001b[0m\u001b[0m\n",
      "\u001b[0;31mNameError\u001b[0m: name 'ViolinPlot' is not defined"
     ]
    }
   ],
   "source": [
    "plt.figure(figsize=(8, 6))\n",
    "plt.ylabel(\"Median answer times / hours\")\n",
    "ViolinPlot(np.arange(10), answertimes, bins=None, axes=plt.gca(), draw=\"amvs\", outliers=False)\n",
    "plt.ylim(0, 100)\n",
    "plt.gca().set_xticks(np.arange(10));\n",
    "plt.gca().set_xticklabels(tags, rotation=90);\n",
    "plt.savefig(\"./plots/answertimes_vs_tags.pdf\")"
   ]
  },
  {
   "cell_type": "markdown",
   "metadata": {},
   "source": [
    "## Fitting random forest to the space of simple features derived from the text"
   ]
  },
  {
   "cell_type": "code",
   "execution_count": 15,
   "metadata": {
    "ExecuteTime": {
     "end_time": "2017-11-28T11:24:58.464414Z",
     "start_time": "2017-11-28T11:24:58.457350Z"
    }
   },
   "outputs": [],
   "source": [
    "cols = [\"BodyNCodes\", \"BodyNQMarks\", \"BodySize\", \"titlelen\", \"nwords\", \"ordersum\", \"ordermean\", \"orderstd\", \"ratio\"]"
   ]
  },
  {
   "cell_type": "code",
   "execution_count": 16,
   "metadata": {
    "ExecuteTime": {
     "end_time": "2017-11-28T11:25:02.401797Z",
     "start_time": "2017-11-28T11:25:02.394066Z"
    }
   },
   "outputs": [],
   "source": [
    "pipe_time_fct = lambda a: Pipeline([\n",
    "         (\"cst\", ColumnSelectTransformer([\"weekday\", \"dayhour\"])),\n",
    "         (\"onehot\", OneHotEncoder(sparse=True)),\n",
    "         (\"ranforest\", RandomForestClassifier(n_estimators=15, n_jobs=-1))\n",
    "    ])\n",
    "\n",
    "pipe_time = pipe_time_fct(2)"
   ]
  },
  {
   "cell_type": "code",
   "execution_count": 17,
   "metadata": {
    "ExecuteTime": {
     "end_time": "2017-11-28T11:25:12.251830Z",
     "start_time": "2017-11-28T11:25:06.599004Z"
    }
   },
   "outputs": [
    {
     "name": "stdout",
     "output_type": "stream",
     "text": [
      "[[3 3]\n",
      " [3 2]\n",
      " [4 4]\n",
      " ..., \n",
      " [1 3]\n",
      " [0 1]\n",
      " [3 4]]\n",
      "0.215301158945\n",
      "0.215301158945\n"
     ]
    }
   ],
   "source": [
    "pipe_time.fit(qstrain, qstrain[label])\n",
    "pred = pipe_time.predict(qstest)\n",
    "print np.column_stack((pred, qstest[label]))\n",
    "print pipe_time.score(qstest, qstest[label])\n",
    "print np.sum(pred == qstest[label]) * 1. / len(pred)"
   ]
  },
  {
   "cell_type": "code",
   "execution_count": 19,
   "metadata": {
    "ExecuteTime": {
     "end_time": "2017-11-28T11:25:19.781707Z",
     "start_time": "2017-11-28T11:25:19.734068Z"
    }
   },
   "outputs": [
    {
     "name": "stdout",
     "output_type": "stream",
     "text": [
      "truth              0         1         2         3         4\n",
      "prediction                                                  \n",
      "4           0.197114  0.190377  0.199727  0.180413  0.200975\n",
      "3           0.214974  0.227040  0.224906  0.259044  0.225292\n",
      "2           0.152082  0.167883  0.184563  0.162142  0.174070\n",
      "1           0.097587  0.093423  0.090445  0.091937  0.089420\n",
      "0           0.338242  0.321276  0.300359  0.306464  0.310242\n"
     ]
    }
   ],
   "source": [
    "comp = pd.DataFrame({\"truth\": qstest[label], \"prediction\": pred})\n",
    "comp = comp.groupby([\"truth\", \"prediction\"]).apply(len)\n",
    "comp = comp.unstack(level=-1)\n",
    "\n",
    "comp[np.isnan(comp)] = 0\n",
    "\n",
    "# normalization\n",
    "comp = comp.div(comp.sum(axis=1), axis=0)\n",
    "comp = comp.T\n",
    "comp.sort_index(ascending=False, inplace=True)\n",
    "print comp"
   ]
  },
  {
   "cell_type": "code",
   "execution_count": 20,
   "metadata": {
    "ExecuteTime": {
     "end_time": "2017-11-28T11:25:31.890625Z",
     "start_time": "2017-11-28T11:25:24.043245Z"
    }
   },
   "outputs": [
    {
     "data": {
      "image/png": "[encoded data removed]",
      "text/plain": [
       "<matplotlib.figure.Figure at 0x7f5dceb81b90>"
      ]
     },
     "metadata": {},
     "output_type": "display_data"
    }
   ],
   "source": [
    "plt.figure(figsize=(10, 8))\n",
    "ax = sns.heatmap(comp, annot=True, linewidths=0.5, cmap=\"binary\")\n",
    "plt.savefig(\"./plots/heatmap_date.pdf\")"
   ]
  },
  {
   "cell_type": "code",
   "execution_count": 54,
   "metadata": {
    "ExecuteTime": {
     "end_time": "2017-11-28T10:59:31.298961Z",
     "start_time": "2017-11-28T10:59:31.278347Z"
    }
   },
   "outputs": [
    {
     "data": {
      "text/plain": [
       "array([0, 1, 2, 3, 4])"
      ]
     },
     "execution_count": 54,
     "metadata": {},
     "output_type": "execute_result"
    }
   ],
   "source": [
    "np.unique(qstest[label])"
   ]
  },
  {
   "cell_type": "code",
   "execution_count": 55,
   "metadata": {
    "ExecuteTime": {
     "end_time": "2017-11-28T10:59:33.787668Z",
     "start_time": "2017-11-28T10:59:33.519235Z"
    }
   },
   "outputs": [
    {
     "data": {
      "image/png": "[encoded data removed]",
      "text/plain": [
       "<matplotlib.figure.Figure at 0x7f02a4f805d0>"
      ]
     },
     "metadata": {},
     "output_type": "display_data"
    }
   ],
   "source": [
    "plt.figure(figsize=(8, 6))\n",
    "plt.hist(qstest[label], color=\"r\", ls=\"-\", lw=2, histtype=\"step\", bins=np.linspace(-0.5, 5.5, 7), label=\"Truth\")\n",
    "plt.hist(pred, color=\"k\", ls=\"--\", lw=2, histtype=\"step\", bins=np.linspace(-0.5, 5.5, 7), label=\"Prediction\")\n",
    "plt.legend(loc=\"upper right\");"
   ]
  },
  {
   "cell_type": "code",
   "execution_count": 21,
   "metadata": {
    "ExecuteTime": {
     "end_time": "2017-11-28T11:25:35.738521Z",
     "start_time": "2017-11-28T11:25:35.727209Z"
    }
   },
   "outputs": [
    {
     "name": "stdout",
     "output_type": "stream",
     "text": [
      "['BodyNCodes_norm', 'BodyNQMarks_norm', 'BodySize_norm', 'titlelen_norm', 'nwords_norm', 'ordersum_norm', 'ordermean_norm', 'orderstd_norm', 'ratio_norm']\n"
     ]
    }
   ],
   "source": [
    "relcols = [\"BodyNCodes\", \"BodyNQMarks\", \"BodySize\", \"titlelen\", \"nwords\", \"ordersum\", \"ordermean\", \"orderstd\", \"ratio\"]\n",
    "cols = [col + \"_norm\" for col in relcols]\n",
    "print cols\n",
    "\n",
    "pipe_feat_fct = lambda a: Pipeline([\n",
    "         (\"cst\", ColumnSelectTransformer(cols)),\n",
    "         (\"poly\", PolynomialFeatures(degree=2)),\n",
    "         (\"ranforest\", RandomForestClassifier(n_estimators=30, n_jobs=-1))\n",
    "#          (\"knn\", KNeighborsRegressor(n_neighbors=a))\n",
    "#          (\"svc\", LinearSVC())\n",
    "#          (\"multi\", MultiModelRegressor(Ridge(alpha=a, normalize=False), RandomForestRegressor(n_estimators=15)))\n",
    "#          (\"multi\", MultiModelRegressor(SGDRegressor(), RandomForestRegressor(n_estimators=20)))\n",
    "    ])\n",
    "\n",
    "pipe_feat = pipe_feat_fct(100)"
   ]
  },
  {
   "cell_type": "code",
   "execution_count": 23,
   "metadata": {
    "ExecuteTime": {
     "end_time": "2017-11-09T22:36:31.864436Z",
     "start_time": "2017-11-09T22:36:31.855373Z"
    }
   },
   "outputs": [],
   "source": [
    "cv = model_selection.ShuffleSplit(n_splits=20, test_size=0.2, random_state=42)\n",
    "def compute_error(est, X, y):\n",
    "    return -model_selection.cross_val_score(est, X, y, cv=cv, scoring='neg_mean_squared_error').mean()"
   ]
  },
  {
   "cell_type": "code",
   "execution_count": null,
   "metadata": {
    "ExecuteTime": {
     "end_time": "2017-11-09T18:37:28.298421Z",
     "start_time": "2017-11-09T18:37:28.192001Z"
    }
   },
   "outputs": [],
   "source": [
    "for alpha in np.linspace(0.1, 10, 20):\n",
    "    pipe = pipe_feat_fct(alpha)\n",
    "    pipe.fit(qstrain, np.log(qstrain[label]))\n",
    "    print alpha, compute_error(pipe, qstrain, np.log(qstrain[label]))"
   ]
  },
  {
   "cell_type": "code",
   "execution_count": 22,
   "metadata": {
    "ExecuteTime": {
     "end_time": "2017-11-28T11:26:04.060924Z",
     "start_time": "2017-11-28T11:25:39.472625Z"
    }
   },
   "outputs": [
    {
     "name": "stdout",
     "output_type": "stream",
     "text": [
      "[[1 3]\n",
      " [4 2]\n",
      " [2 4]\n",
      " ..., \n",
      " [2 3]\n",
      " [2 1]\n",
      " [2 4]]\n",
      "0.251844943465\n"
     ]
    }
   ],
   "source": [
    "pipe_feat.fit(qstrain, qstrain[label])\n",
    "pred = pipe_feat.predict(qstest)\n",
    "print np.column_stack((pred, qstest[label]))\n",
    "print pipe_feat.score(qstest, qstest[label])"
   ]
  },
  {
   "cell_type": "code",
   "execution_count": 58,
   "metadata": {
    "ExecuteTime": {
     "end_time": "2017-11-28T11:00:07.542854Z",
     "start_time": "2017-11-28T11:00:07.304389Z"
    }
   },
   "outputs": [
    {
     "data": {
      "image/png": "[encoded data removed]",
      "text/plain": [
       "<matplotlib.figure.Figure at 0x7f02a7947750>"
      ]
     },
     "metadata": {},
     "output_type": "display_data"
    }
   ],
   "source": [
    "plt.figure(figsize=(8, 6))\n",
    "plt.hist(qstest[label], color=\"r\", ls=\"-\", lw=2, histtype=\"step\", bins=np.linspace(-0.5, 5.5, 7), label=\"Truth\")\n",
    "plt.hist(pred, color=\"k\", ls=\"--\", lw=2, histtype=\"step\", bins=np.linspace(-0.5, 5.5, 7), label=\"Prediction\")\n",
    "plt.legend(loc=\"upper right\");"
   ]
  },
  {
   "cell_type": "code",
   "execution_count": 23,
   "metadata": {
    "ExecuteTime": {
     "end_time": "2017-11-28T11:26:09.196347Z",
     "start_time": "2017-11-28T11:26:09.128850Z"
    }
   },
   "outputs": [
    {
     "name": "stdout",
     "output_type": "stream",
     "text": [
      "truth              0         1         2         3         4\n",
      "prediction                                                  \n",
      "4           0.132433  0.147722  0.163549  0.186281  0.213230\n",
      "3           0.126806  0.169274  0.212669  0.266847  0.217529\n",
      "2           0.153318  0.177215  0.189924  0.193826  0.176915\n",
      "1           0.212693  0.214177  0.201478  0.170719  0.176166\n",
      "0           0.374750  0.291612  0.232381  0.182326  0.216160\n"
     ]
    }
   ],
   "source": [
    "comp = pd.DataFrame({\"truth\": qstest[label], \"prediction\": pred})\n",
    "comp = comp.groupby([\"truth\", \"prediction\"]).apply(len)\n",
    "comp = comp.unstack(level=-1)\n",
    "\n",
    "comp[np.isnan(comp)] = 0\n",
    "\n",
    "# normalization\n",
    "comp = comp.div(comp.sum(axis=1), axis=0)\n",
    "comp = comp.T\n",
    "comp.sort_index(ascending=False, inplace=True)\n",
    "print comp"
   ]
  },
  {
   "cell_type": "code",
   "execution_count": 24,
   "metadata": {
    "ExecuteTime": {
     "end_time": "2017-11-28T11:26:16.781528Z",
     "start_time": "2017-11-28T11:26:13.212660Z"
    }
   },
   "outputs": [
    {
     "data": {
      "image/png": "[encoded data removed]",
      "text/plain": [
       "<matplotlib.figure.Figure at 0x7f5d40189d10>"
      ]
     },
     "metadata": {},
     "output_type": "display_data"
    }
   ],
   "source": [
    "plt.figure(figsize=(10, 8))\n",
    "ax = sns.heatmap(comp, annot=True, linewidths=0.5, cmap=\"binary\")\n",
    "plt.savefig(\"./plots/heatmap_naive.pdf\")"
   ]
  },
  {
   "cell_type": "code",
   "execution_count": 31,
   "metadata": {
    "ExecuteTime": {
     "end_time": "2017-11-28T11:28:52.417876Z",
     "start_time": "2017-11-28T11:28:52.403454Z"
    }
   },
   "outputs": [],
   "source": [
    "pipe_tags = Pipeline([\n",
    "                     (\"cst\", ColumnSelectTransformer([\"Tags\"])),\n",
    "                     (\"dec\", DictEncoder(\"Tags\")),\n",
    "                     (\"dvec\", DictVectorizer(sparse=True)),\n",
    "                     (\"tfid\", TfidfTransformer()),\n",
    "                     (\"ranforest\", RandomForestClassifier(n_estimators=20, n_jobs=-1))\n",
    "                     ])"
   ]
  },
  {
   "cell_type": "code",
   "execution_count": 29,
   "metadata": {
    "ExecuteTime": {
     "end_time": "2017-11-28T11:28:21.195398Z",
     "start_time": "2017-11-28T11:28:19.054795Z"
    }
   },
   "outputs": [],
   "source": [
    "cst = ColumnSelectTransformer([\"Tags\"])\n",
    "a = cst.fit_transform(qstrain)\n",
    "de = DictEncoder(\"Tags\")\n",
    "b = de.fit_transform(a)"
   ]
  },
  {
   "cell_type": "code",
   "execution_count": 30,
   "metadata": {
    "ExecuteTime": {
     "end_time": "2017-11-28T11:28:31.674722Z",
     "start_time": "2017-11-28T11:28:31.669331Z"
    }
   },
   "outputs": [
    {
     "data": {
      "text/plain": [
       "Counter({'google-maps': 1, 'google-maps-api-3': 1, 'javascript': 1, 'json': 1})"
      ]
     },
     "execution_count": 30,
     "metadata": {},
     "output_type": "execute_result"
    }
   ],
   "source": [
    "b[0]"
   ]
  },
  {
   "cell_type": "code",
   "execution_count": 32,
   "metadata": {
    "ExecuteTime": {
     "end_time": "2017-11-28T11:34:21.063423Z",
     "start_time": "2017-11-28T11:29:03.080170Z"
    }
   },
   "outputs": [
    {
     "name": "stdout",
     "output_type": "stream",
     "text": [
      "[[3 3]\n",
      " [4 2]\n",
      " [2 4]\n",
      " ..., \n",
      " [2 3]\n",
      " [3 1]\n",
      " [0 4]]\n",
      "0.297993129324\n"
     ]
    }
   ],
   "source": [
    "pipe_tags.fit(qstrain, qstrain[label])\n",
    "pred = pipe_tags.predict(qstest)\n",
    "print np.column_stack((pred, qstest[label]))\n",
    "print pipe_tags.score(qstest, qstest[label])"
   ]
  },
  {
   "cell_type": "code",
   "execution_count": 33,
   "metadata": {
    "ExecuteTime": {
     "end_time": "2017-11-28T11:34:31.683666Z",
     "start_time": "2017-11-28T11:34:31.636334Z"
    }
   },
   "outputs": [
    {
     "name": "stdout",
     "output_type": "stream",
     "text": [
      "truth              0         1         2         3         4\n",
      "prediction                                                  \n",
      "4           0.107796  0.127967  0.149603  0.192623  0.218534\n",
      "3           0.099250  0.145196  0.238916  0.373896  0.274804\n",
      "2           0.122181  0.168696  0.209551  0.189183  0.160019\n",
      "1           0.183730  0.200715  0.178733  0.125062  0.136600\n",
      "0           0.487042  0.357426  0.223198  0.119236  0.210043\n"
     ]
    }
   ],
   "source": [
    "comp = pd.DataFrame({\"truth\": qstest[label], \"prediction\": pred})\n",
    "comp = comp.groupby([\"truth\", \"prediction\"]).apply(len)\n",
    "comp = comp.unstack(level=-1)\n",
    "\n",
    "comp[np.isnan(comp)] = 0\n",
    "\n",
    "# normalization\n",
    "comp = comp.div(comp.sum(axis=1), axis=0)\n",
    "comp = comp.T\n",
    "comp.sort_index(ascending=False, inplace=True)\n",
    "print comp"
   ]
  },
  {
   "cell_type": "code",
   "execution_count": 34,
   "metadata": {
    "ExecuteTime": {
     "end_time": "2017-11-28T11:34:48.199253Z",
     "start_time": "2017-11-28T11:34:42.172882Z"
    }
   },
   "outputs": [
    {
     "data": {
      "image/png": "[encoded data removed]",
      "text/plain": [
       "<matplotlib.figure.Figure at 0x7f5d39f79610>"
      ]
     },
     "metadata": {},
     "output_type": "display_data"
    }
   ],
   "source": [
    "import seaborn as sns\n",
    "plt.figure(figsize=(10, 8))\n",
    "ax = sns.heatmap(comp, annot=True, linewidths=0.5, cmap=\"binary\")\n",
    "plt.savefig(\"./plots/heatmap_tags.pdf\")"
   ]
  },
  {
   "cell_type": "code",
   "execution_count": 35,
   "metadata": {
    "ExecuteTime": {
     "end_time": "2017-11-28T11:34:58.977349Z",
     "start_time": "2017-11-28T11:34:58.967684Z"
    }
   },
   "outputs": [
    {
     "data": {
      "text/plain": [
       "608622    After map.data.loadGeoJson, events of circle i...\n",
       "179896    Webpack - Extract-text-plugin and Less-loader ...\n",
       "642299       Apply `class` to a list column of a data table\n",
       "206635               Node gyp 404 error offline environment\n",
       "485760           How do I add UserClaims to ClaimsPrincipal\n",
       "Name: Title, dtype: object"
      ]
     },
     "execution_count": 35,
     "metadata": {},
     "output_type": "execute_result"
    }
   ],
   "source": [
    "qstrain.Title.head()"
   ]
  },
  {
   "cell_type": "code",
   "execution_count": 36,
   "metadata": {
    "ExecuteTime": {
     "end_time": "2017-11-28T11:35:09.626437Z",
     "start_time": "2017-11-28T11:35:09.619549Z"
    }
   },
   "outputs": [],
   "source": [
    "pipe_titles = Pipeline([\n",
    "                     (\"cst\", ColumnSelectTransformer([\"Title\"])),\n",
    "                     (\"tfid\", TfidfVectorizer(ngram_range=(1, 2), stop_words=\"english\")),\n",
    "                     (\"ranforest\", RandomForestClassifier(n_estimators=20, n_jobs=-1))\n",
    "                     ])"
   ]
  },
  {
   "cell_type": "code",
   "execution_count": 37,
   "metadata": {
    "ExecuteTime": {
     "end_time": "2017-11-28T12:33:27.010436Z",
     "start_time": "2017-11-28T11:35:20.339524Z"
    }
   },
   "outputs": [
    {
     "name": "stdout",
     "output_type": "stream",
     "text": [
      "[[0 3]\n",
      " [0 2]\n",
      " [2 4]\n",
      " ..., \n",
      " [3 3]\n",
      " [0 1]\n",
      " [2 4]]\n",
      "0.256995811711\n"
     ]
    }
   ],
   "source": [
    "pipe_titles.fit(qstrain, qstrain[label])\n",
    "pred = pipe_titles.predict(qstest)\n",
    "print np.column_stack((pred, qstest[label]))\n",
    "print pipe_titles.score(qstest, qstest[label])"
   ]
  },
  {
   "cell_type": "code",
   "execution_count": 38,
   "metadata": {
    "ExecuteTime": {
     "end_time": "2017-11-28T12:39:08.006354Z",
     "start_time": "2017-11-28T12:39:07.937454Z"
    }
   },
   "outputs": [
    {
     "name": "stdout",
     "output_type": "stream",
     "text": [
      "truth              0         1         2         3         4\n",
      "prediction                                                  \n",
      "4           0.085504  0.102819  0.124210  0.163410  0.170306\n",
      "3           0.056114  0.079062  0.121433  0.193654  0.149646\n",
      "2           0.093687  0.118593  0.145374  0.155070  0.134696\n",
      "1           0.222902  0.232691  0.218691  0.187184  0.197746\n",
      "0           0.541793  0.466836  0.390291  0.300681  0.347606\n"
     ]
    }
   ],
   "source": [
    "comp = pd.DataFrame({\"truth\": qstest[label], \"prediction\": pred})\n",
    "comp = comp.groupby([\"truth\", \"prediction\"]).apply(len)\n",
    "comp = comp.unstack(level=-1)\n",
    "\n",
    "comp[np.isnan(comp)] = 0\n",
    "\n",
    "# normalization\n",
    "comp = comp.div(comp.sum(axis=1), axis=0)\n",
    "comp = comp.T\n",
    "comp.sort_index(ascending=False, inplace=True)\n",
    "print comp"
   ]
  },
  {
   "cell_type": "code",
   "execution_count": 39,
   "metadata": {
    "ExecuteTime": {
     "end_time": "2017-11-28T12:39:31.070738Z",
     "start_time": "2017-11-28T12:39:19.305053Z"
    }
   },
   "outputs": [
    {
     "data": {
      "image/png": "[encoded data removed]",
      "text/plain": [
       "<matplotlib.figure.Figure at 0x7f5d401fd150>"
      ]
     },
     "metadata": {},
     "output_type": "display_data"
    }
   ],
   "source": [
    "import seaborn as sns\n",
    "plt.figure(figsize=(10, 8))\n",
    "ax = sns.heatmap(comp, annot=True, linewidths=0.5, cmap=\"binary\")\n",
    "plt.savefig(\"./plots/heatmap_titles.pdf\")"
   ]
  },
  {
   "cell_type": "code",
   "execution_count": 42,
   "metadata": {
    "ExecuteTime": {
     "end_time": "2017-11-28T12:45:37.021677Z",
     "start_time": "2017-11-28T12:45:37.008465Z"
    }
   },
   "outputs": [],
   "source": [
    "pipe_words = Pipeline([\n",
    "                      (\"cst\", ColumnSelectTransformer([\"hot_indices\"])),\n",
    "                      (\"dec\", DictEncoder(\"hot_indices\")),\n",
    "                      (\"dvec\", DictVectorizer(sparse=True)),\n",
    "                      (\"tfid\", TfidfTransformer()),\n",
    "#                       (\"ridge\", Ridge(alpha=2.0))\n",
    "#                       (\"multi\", MultiModelRegressor(Ridge(alpha=a, normalize=True), RandomForestRegressor(n_estimators=15)))\n",
    "#                       (\"multi\", MultiModelRegressor(Ridge(alpha=2, normalize=True), MLPRegressor(hidden_layer_sizes=(50, 50))))\n",
    "#                       (\"mlp\", MLPRegressor(hidden_layer_sizes=(100, 100)))\n",
    "                      (\"ranforest\", RandomForestClassifier(n_estimators=20, n_jobs=-1))\n",
    "                      ])"
   ]
  },
  {
   "cell_type": "code",
   "execution_count": 43,
   "metadata": {
    "ExecuteTime": {
     "end_time": "2017-11-28T12:49:15.055136Z",
     "start_time": "2017-11-28T12:45:48.130667Z"
    }
   },
   "outputs": [
    {
     "name": "stdout",
     "output_type": "stream",
     "text": [
      "[[3 3]\n",
      " [3 2]\n",
      " [4 4]\n",
      " ..., \n",
      " [0 3]\n",
      " [2 1]\n",
      " [3 4]]\n",
      "0.222094829025\n"
     ]
    }
   ],
   "source": [
    "pipe_words.fit(qstrain, qstrain[label])\n",
    "pred = pipe_words.predict(qstest)\n",
    "print np.column_stack((pred, qstest[label]))\n",
    "print pipe_words.score(qstest, qstest[label])"
   ]
  },
  {
   "cell_type": "code",
   "execution_count": 44,
   "metadata": {
    "ExecuteTime": {
     "end_time": "2017-11-28T12:50:58.254693Z",
     "start_time": "2017-11-28T12:50:58.200400Z"
    }
   },
   "outputs": [
    {
     "name": "stdout",
     "output_type": "stream",
     "text": [
      "truth              0         1         2         3         4\n",
      "prediction                                                  \n",
      "4           0.143089  0.144404  0.150115  0.156059  0.156811\n",
      "3           0.151912  0.179376  0.197612  0.228843  0.205017\n",
      "2           0.171902  0.183165  0.193426  0.200232  0.188635\n",
      "1           0.219087  0.217131  0.208355  0.200920  0.202793\n",
      "0           0.314010  0.275924  0.250491  0.213946  0.246744\n"
     ]
    }
   ],
   "source": [
    "comp = pd.DataFrame({\"truth\": qstest[label], \"prediction\": pred})\n",
    "comp = comp.groupby([\"truth\", \"prediction\"]).apply(len)\n",
    "comp = comp.unstack(level=-1)\n",
    "\n",
    "comp[np.isnan(comp)] = 0\n",
    "\n",
    "# normalization\n",
    "comp = comp.div(comp.sum(axis=1), axis=0)\n",
    "comp = comp.T\n",
    "comp.sort_index(ascending=False, inplace=True)\n",
    "print comp"
   ]
  },
  {
   "cell_type": "code",
   "execution_count": 45,
   "metadata": {
    "ExecuteTime": {
     "end_time": "2017-11-28T12:51:17.227229Z",
     "start_time": "2017-11-28T12:51:09.514256Z"
    }
   },
   "outputs": [
    {
     "data": {
      "image/png": "[encoded data removed]",
      "text/plain": [
       "<matplotlib.figure.Figure at 0x7f5d39f7fd90>"
      ]
     },
     "metadata": {},
     "output_type": "display_data"
    }
   ],
   "source": [
    "import seaborn as sns\n",
    "plt.figure(figsize=(10, 8))\n",
    "ax = sns.heatmap(comp, annot=True, linewidths=0.5, cmap=\"binary\")\n",
    "plt.savefig(\"./plots/heatmap_bow.pdf\")"
   ]
  },
  {
   "cell_type": "code",
   "execution_count": 47,
   "metadata": {
    "ExecuteTime": {
     "end_time": "2017-11-28T12:52:44.719558Z",
     "start_time": "2017-11-28T12:52:44.709143Z"
    }
   },
   "outputs": [],
   "source": [
    "from sklearn.pipeline import FeatureUnion\n",
    "union = FeatureUnion([\n",
    "                     (\"tags\", EstimatorTransformer(pipe_tags)),\n",
    "                     (\"words\", EstimatorTransformer(pipe_words)),\n",
    "                     (\"titles\", EstimatorTransformer(pipe_titles)),\n",
    "                     (\"feat\", EstimatorTransformer(pipe_feat))\n",
    "                     ])\n",
    "\n",
    "pipe_combined = Pipeline([\n",
    "                    (\"union\", union),\n",
    "                    (\"rf\", RandomForestClassifier(n_jobs=-1))\n",
    "                    # (\"comb\", CustomCombiner())\n",
    "                    ])"
   ]
  },
  {
   "cell_type": "code",
   "execution_count": null,
   "metadata": {
    "ExecuteTime": {
     "start_time": "2017-11-28T12:52:49.721Z"
    }
   },
   "outputs": [],
   "source": [
    "pipe_combined.fit(qstrain, qstrain[label])\n",
    "pred = pipe_combined.predict(qstest)\n",
    "print np.column_stack((pred, qstest[label]))\n",
    "print pipe_combined.score(qstest, qstest[label])"
   ]
  },
  {
   "cell_type": "code",
   "execution_count": null,
   "metadata": {},
   "outputs": [],
   "source": [
    "comp = pd.DataFrame({\"truth\": qstest[label], \"prediction\": pred})\n",
    "comp = comp.groupby([\"truth\", \"prediction\"]).apply(len)\n",
    "comp = comp.unstack(level=-1)\n",
    "\n",
    "comp[np.isnan(comp)] = 0\n",
    "\n",
    "# normalization\n",
    "comp = comp.div(comp.sum(axis=1), axis=0)\n",
    "comp = comp.T\n",
    "comp.sort_index(ascending=False, inplace=True)\n",
    "print comp"
   ]
  },
  {
   "cell_type": "code",
   "execution_count": null,
   "metadata": {},
   "outputs": [],
   "source": [
    "import seaborn as sns\n",
    "plt.figure(figsize=(10, 8))\n",
    "ax = sns.heatmap(comp, annot=True, linewidths=0.5, cmap=\"binary\")\n",
    "plt.savefig(\"./plots/heatmap_combined.pdf\")"
   ]
  },
  {
   "cell_type": "code",
   "execution_count": 93,
   "metadata": {
    "ExecuteTime": {
     "end_time": "2017-11-01T19:53:46.637070Z",
     "start_time": "2017-11-01T19:53:46.631677Z"
    }
   },
   "outputs": [],
   "source": [
    "import dill"
   ]
  },
  {
   "cell_type": "code",
   "execution_count": 94,
   "metadata": {
    "ExecuteTime": {
     "end_time": "2017-11-01T19:53:53.883498Z",
     "start_time": "2017-11-01T19:53:53.288204Z"
    }
   },
   "outputs": [],
   "source": [
    "dill.dump(pipe_combined, open(\"pipe_feat.dill\", \"w\"))"
   ]
  },
  {
   "cell_type": "code",
   "execution_count": null,
   "metadata": {
    "ExecuteTime": {
     "end_time": "2017-11-01T12:40:09.473999Z",
     "start_time": "2017-11-01T12:40:09.172014Z"
    }
   },
   "outputs": [],
   "source": [
    "pipe_feat = dill.load(open('pipe_feat.dill', 'r'))"
   ]
  }
 ],
 "metadata": {
  "hide_input": false,
  "kernelspec": {
   "display_name": "Python 2",
   "language": "python",
   "name": "python2"
  },
  "language_info": {
   "codemirror_mode": {
    "name": "ipython",
    "version": 2
   },
   "file_extension": ".py",
   "mimetype": "text/x-python",
   "name": "python",
   "nbconvert_exporter": "python",
   "pygments_lexer": "ipython2",
   "version": "2.7.14"
  },
  "varInspector": {
   "cols": {
    "lenName": 16,
    "lenType": 16,
    "lenVar": 40
   },
   "kernels_config": {
    "python": {
     "delete_cmd_postfix": "",
     "delete_cmd_prefix": "del ",
     "library": "var_list.py",
     "varRefreshCmd": "print(var_dic_list())"
    },
    "r": {
     "delete_cmd_postfix": ") ",
     "delete_cmd_prefix": "rm(",
     "library": "var_list.r",
     "varRefreshCmd": "cat(var_dic_list()) "
    }
   },
   "types_to_exclude": [
    "module",
    "function",
    "builtin_function_or_method",
    "instance",
    "_Feature"
   ],
   "window_display": false
  }
 },
 "nbformat": 4,
 "nbformat_minor": 2
}
