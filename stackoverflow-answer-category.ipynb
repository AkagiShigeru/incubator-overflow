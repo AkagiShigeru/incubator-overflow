{
 "cells": [
  {
   "cell_type": "code",
   "execution_count": 1,
   "metadata": {
    "ExecuteTime": {
     "end_time": "2017-11-15T16:47:12.456690Z",
     "start_time": "2017-11-15T16:47:10.825595Z"
    }
   },
   "outputs": [
    {
     "name": "stderr",
     "output_type": "stream",
     "text": [
      "Using TensorFlow backend.\n"
     ]
    }
   ],
   "source": [
    "%matplotlib inline\n",
    "# %load_ext autoreload\n",
    "# %autoreload 1\n",
    "from stack_nlp import *\n",
    "from jupyter_mplsettings import *\n",
    "matplotlib.rc('font', **font)"
   ]
  },
  {
   "cell_type": "code",
   "execution_count": 2,
   "metadata": {
    "ExecuteTime": {
     "end_time": "2017-11-15T16:47:12.902846Z",
     "start_time": "2017-11-15T16:47:12.548747Z"
    }
   },
   "outputs": [
    {
     "data": {
      "text/html": [
       "<script>requirejs.config({paths: { 'plotly': ['https://cdn.plot.ly/plotly-latest.min']},});if(!window.Plotly) {{require(['plotly'],function(plotly) {window.Plotly=plotly;});}}</script>"
      ],
      "text/vnd.plotly.v1+html": [
       "<script>requirejs.config({paths: { 'plotly': ['https://cdn.plot.ly/plotly-latest.min']},});if(!window.Plotly) {{require(['plotly'],function(plotly) {window.Plotly=plotly;});}}</script>"
      ]
     },
     "metadata": {},
     "output_type": "display_data"
    }
   ],
   "source": [
    "import plotly\n",
    "import plotly.graph_objs as go\n",
    "plotly.offline.init_notebook_mode(connected=True)"
   ]
  },
  {
   "cell_type": "code",
   "execution_count": 3,
   "metadata": {
    "ExecuteTime": {
     "end_time": "2017-11-15T16:47:13.416678Z",
     "start_time": "2017-11-15T16:47:13.412883Z"
    }
   },
   "outputs": [],
   "source": [
    "cfg = local_import(\"./laptop.py\")"
   ]
  },
  {
   "cell_type": "code",
   "execution_count": 4,
   "metadata": {
    "ExecuteTime": {
     "end_time": "2017-11-15T16:47:53.858413Z",
     "start_time": "2017-11-15T16:47:14.252854Z"
    }
   },
   "outputs": [
    {
     "name": "stdout",
     "output_type": "stream",
     "text": [
      "Shape of question df (1696819, 21)\n",
      "Loading word dictionary...\n",
      "Shape of dictionary (3048821, 4)\n",
      "Warning! Dropping some words from word list, please verify!\n",
      "Dropping 1211\n",
      "Shape of merged df (1000000, 33)\n",
      "Selecting only questions with at least 5 meaningful words.\n",
      "This removes 8582 questions.\n",
      "Removing bad values with missing feature information.\n",
      "This affects 19 questions.\n",
      "Shape of answer df (2028240, 21)\n",
      "Calculating normalized columns. They are available under usual column name + _norm.\n"
     ]
    }
   ],
   "source": [
    "PrepareData(cfg)"
   ]
  },
  {
   "cell_type": "code",
   "execution_count": 5,
   "metadata": {
    "ExecuteTime": {
     "end_time": "2017-11-15T16:47:59.098503Z",
     "start_time": "2017-11-15T16:47:59.093000Z"
    }
   },
   "outputs": [],
   "source": [
    "data = cfg.data"
   ]
  },
  {
   "cell_type": "code",
   "execution_count": 6,
   "metadata": {
    "ExecuteTime": {
     "end_time": "2017-11-15T16:48:04.273434Z",
     "start_time": "2017-11-15T16:48:04.266934Z"
    }
   },
   "outputs": [
    {
     "data": {
      "text/plain": [
       "['dbconn', 'meta', 'dict', 'features', 'answers']"
      ]
     },
     "execution_count": 6,
     "metadata": {},
     "output_type": "execute_result"
    }
   ],
   "source": [
    "data.keys()"
   ]
  },
  {
   "cell_type": "code",
   "execution_count": 7,
   "metadata": {
    "ExecuteTime": {
     "end_time": "2017-11-15T16:48:09.231709Z",
     "start_time": "2017-11-15T16:48:09.228717Z"
    }
   },
   "outputs": [],
   "source": [
    "qs = data[\"meta\"];"
   ]
  },
  {
   "cell_type": "code",
   "execution_count": 8,
   "metadata": {
    "ExecuteTime": {
     "end_time": "2017-11-15T16:48:15.912918Z",
     "start_time": "2017-11-15T16:48:15.905748Z"
    }
   },
   "outputs": [
    {
     "name": "stdout",
     "output_type": "stream",
     "text": [
      "(991399, 54)\n"
     ]
    }
   ],
   "source": [
    "qs.head()\n",
    "print qs.shape"
   ]
  },
  {
   "cell_type": "code",
   "execution_count": 9,
   "metadata": {
    "ExecuteTime": {
     "end_time": "2017-11-15T16:48:22.401266Z",
     "start_time": "2017-11-15T16:48:22.359426Z"
    }
   },
   "outputs": [
    {
     "name": "stdout",
     "output_type": "stream",
     "text": [
      "706703\n",
      "386998\n"
     ]
    }
   ],
   "source": [
    "print np.sum(~qs.dt_answer.isnull())\n",
    "print np.sum(~qs.dt_accanswer.isnull())"
   ]
  },
  {
   "cell_type": "code",
   "execution_count": 10,
   "metadata": {
    "ExecuteTime": {
     "end_time": "2017-11-15T16:48:28.922765Z",
     "start_time": "2017-11-15T16:48:28.917137Z"
    }
   },
   "outputs": [
    {
     "data": {
      "text/plain": [
       "{'AnswerCount': 'Number of replies',\n",
       " 'BodyNCodes': 'Number of code tags',\n",
       " 'BodyNQMarks': 'Number of question marks',\n",
       " 'BodySize': 'Length of post text',\n",
       " 'Score': 'Question score',\n",
       " 'nwords': 'Number of meaningful words',\n",
       " 'ordermean': 'Word prevalence (average)',\n",
       " 'orderstd': 'Word prevalence (std)',\n",
       " 'ordersum': 'Word prevalence (sum)',\n",
       " 'prob_bern': 'Joined bernoulli probability of words',\n",
       " 'ratio': 'Ratio of number of verbs to nouns',\n",
       " 'titlelen': 'Length of title'}"
      ]
     },
     "execution_count": 10,
     "metadata": {},
     "output_type": "execute_result"
    }
   ],
   "source": [
    "qs.columns\n",
    "cols_desc"
   ]
  },
  {
   "cell_type": "code",
   "execution_count": 11,
   "metadata": {
    "ExecuteTime": {
     "end_time": "2017-11-15T16:48:38.844860Z",
     "start_time": "2017-11-15T16:48:35.383328Z"
    }
   },
   "outputs": [
    {
     "name": "stdout",
     "output_type": "stream",
     "text": [
      "Length of the whole shuffled question df: 991399\n",
      "Bins for time categories [  0.00000000e+00   1.89288000e-01   6.78036000e-01   5.45282520e+00\n",
      "   5.47461192e+03]\n"
     ]
    },
    {
     "name": "stderr",
     "output_type": "stream",
     "text": [
      "/usr/lib/python2.7/site-packages/ipykernel_launcher.py:12: SettingWithCopyWarning:\n",
      "\n",
      "\n",
      "A value is trying to be set on a copy of a slice from a DataFrame.\n",
      "Try using .loc[row_indexer,col_indexer] = value instead\n",
      "\n",
      "See the caveats in the documentation: http://pandas.pydata.org/pandas-docs/stable/indexing.html#indexing-view-versus-copy\n",
      "\n",
      "/usr/lib/python2.7/site-packages/pandas/core/indexing.py:537: SettingWithCopyWarning:\n",
      "\n",
      "\n",
      "A value is trying to be set on a copy of a slice from a DataFrame.\n",
      "Try using .loc[row_indexer,col_indexer] = value instead\n",
      "\n",
      "See the caveats in the documentation: http://pandas.pydata.org/pandas-docs/stable/indexing.html#indexing-view-versus-copy\n",
      "\n"
     ]
    },
    {
     "name": "stdout",
     "output_type": "stream",
     "text": [
      "Length of the training set: 250000\n",
      "Length of the testing set: 233747\n",
      "Number of questions without answer: 284672\n"
     ]
    }
   ],
   "source": [
    "n_timecat = 4\n",
    "timecat_bins = np.linspace(-0.5, n_timecat + 0.5, n_timecat + 2)\n",
    "\n",
    "# training and testing samples\n",
    "qs = shuffle(qs)\n",
    "print \"Length of the whole shuffled question df:\", len(qs)\n",
    "# limiting to questions with accepted answer for training\n",
    "\n",
    "tmask = np.isfinite(qs.dt_accanswer_hour)\n",
    "time_categories = mquantiles(qs.loc[tmask].dt_accanswer_hour, prob=np.linspace(0, 1, n_timecat + 1))\n",
    "print \"Bins for time categories\", time_categories\n",
    "qs[\"timecat\"] = 0\n",
    "qs.loc[tmask, \"timecat\"] = np.digitize(qs.loc[tmask].dt_accanswer_hour, time_categories) - 1\n",
    "qs.loc[~tmask, \"timecat\"] = n_timecat\n",
    "\n",
    "qssel = qs[tmask]\n",
    "qssel = qssel.append(qs[~tmask].iloc[:int(len(qssel) * 1. / (len(time_categories) - 1))])\n",
    "qssel = shuffle(qssel)\n",
    "\n",
    "train = 250000\n",
    "qstrain = qssel.iloc[:train]\n",
    "qstest = qssel.iloc[train:]\n",
    "print \"Length of the training set:\", len(qstrain)\n",
    "print \"Length of the testing set:\", len(qstest)\n",
    "\n",
    "# label = \"dt_accanswer_hour\"\n",
    "label = \"timecat\"\n",
    "\n",
    "# sample with no answers, aka the ultimate testing sample\n",
    "qsnone = qs[qs.AnswerCount == 0]\n",
    "print \"Number of questions without answer:\", len(qsnone)"
   ]
  },
  {
   "cell_type": "code",
   "execution_count": 12,
   "metadata": {
    "ExecuteTime": {
     "end_time": "2017-11-15T16:48:48.610821Z",
     "start_time": "2017-11-15T16:48:48.605649Z"
    }
   },
   "outputs": [
    {
     "data": {
      "text/plain": [
       "array([  0.00000000e+00,   1.89288000e-01,   6.78036000e-01,\n",
       "         5.45282520e+00,   5.47461192e+03])"
      ]
     },
     "execution_count": 12,
     "metadata": {},
     "output_type": "execute_result"
    }
   ],
   "source": [
    "time_categories"
   ]
  },
  {
   "cell_type": "code",
   "execution_count": 12,
   "metadata": {
    "ExecuteTime": {
     "end_time": "2017-11-15T14:26:42.897169Z",
     "start_time": "2017-11-15T14:26:40.930418Z"
    }
   },
   "outputs": [
    {
     "data": {
      "text/plain": [
       "<matplotlib.axes._subplots.AxesSubplot at 0x7f98c75218d0>"
      ]
     },
     "execution_count": 12,
     "metadata": {},
     "output_type": "execute_result"
    },
    {
     "data": {
      "image/png": "[encoded data removed]",
      "text/plain": [
       "<matplotlib.figure.Figure at 0x7f98c74e7bd0>"
      ]
     },
     "metadata": {},
     "output_type": "display_data"
    }
   ],
   "source": [
    "plt.figure(figsize=(8, 6))\n",
    "qstrain.timecat.hist(color=\"k\", lw=2, histtype=\"step\", bins=timecat_bins)\n",
    "qstest.timecat.hist(color=\"red\", lw=2, histtype=\"step\", bins=timecat_bins)"
   ]
  },
  {
   "cell_type": "code",
   "execution_count": 16,
   "metadata": {
    "ExecuteTime": {
     "end_time": "2017-11-15T12:45:03.441123Z",
     "start_time": "2017-11-15T12:45:03.229915Z"
    }
   },
   "outputs": [
    {
     "data": {
      "image/png": "[encoded data removed]",
      "text/plain": [
       "<matplotlib.figure.Figure at 0x7f867cc72590>"
      ]
     },
     "metadata": {},
     "output_type": "display_data"
    }
   ],
   "source": [
    "qstrain.Score.hist(bins=10, range=[0,10]);"
   ]
  },
  {
   "cell_type": "code",
   "execution_count": 13,
   "metadata": {
    "ExecuteTime": {
     "end_time": "2017-11-15T14:26:50.597571Z",
     "start_time": "2017-11-15T14:26:50.576369Z"
    }
   },
   "outputs": [
    {
     "data": {
      "text/plain": [
       "count    250000.000000\n",
       "mean          0.519272\n",
       "std           2.308789\n",
       "min         -59.000000\n",
       "25%           0.000000\n",
       "50%           0.000000\n",
       "75%           1.000000\n",
       "max         427.000000\n",
       "Name: Score, dtype: float64"
      ]
     },
     "execution_count": 13,
     "metadata": {},
     "output_type": "execute_result"
    }
   ],
   "source": [
    "qstrain.Score.describe()"
   ]
  },
  {
   "cell_type": "code",
   "execution_count": 14,
   "metadata": {
    "ExecuteTime": {
     "end_time": "2017-11-15T14:16:20.463125Z",
     "start_time": "2017-11-15T14:16:20.456596Z"
    }
   },
   "outputs": [
    {
     "data": {
      "text/plain": [
       "Index([u'AcceptedAnswerId', u'AnswerCount', u'BodyNCodes', u'BodyNQMarks',\n",
       "       u'BodySize', u'ClosedDate', u'CommentCount', u'CommunityOwnedDate',\n",
       "       u'CreationDate', u'FavoriteCount', u'Id', u'LastActivityDate',\n",
       "       u'LastEditDate', u'LastEditorUserId', u'OwnerUserId', u'ParentId',\n",
       "       u'PostTypeId', u'Score', u'Tags', u'Title', u'ViewCount', u'titlelen',\n",
       "       u'hasAnswers', u'dt_created', u'Id_r', u'hot_indices', u'nwords',\n",
       "       u'ordermean', u'orderstd', u'ordersum', u'prob_bern', u'prob_poiss',\n",
       "       u'ratio', u'ParentId_first', u'CreationDate_first', u'Id_acc',\n",
       "       u'CreationDate_acc', u'dayhour', u'weekday', u'day', u'dt_answer',\n",
       "       u'dt_accanswer', u'dt_answer_hour', u'dt_accanswer_hour',\n",
       "       u'quickanswer', u'BodyNCodes_norm', u'BodyNQMarks_norm',\n",
       "       u'BodySize_norm', u'titlelen_norm', u'nwords_norm', u'ordersum_norm',\n",
       "       u'ordermean_norm', u'orderstd_norm', u'ratio_norm', u'timecat'],\n",
       "      dtype='object')"
      ]
     },
     "execution_count": 14,
     "metadata": {},
     "output_type": "execute_result"
    }
   ],
   "source": [
    "qstrain.columns"
   ]
  },
  {
   "cell_type": "code",
   "execution_count": 30,
   "metadata": {
    "ExecuteTime": {
     "end_time": "2017-11-15T17:35:20.990292Z",
     "start_time": "2017-11-15T17:35:20.183232Z"
    }
   },
   "outputs": [],
   "source": [
    "# Tag analysis\n",
    "from collections import defaultdict\n",
    "c = defaultdict(int)\n",
    "def add(t):\n",
    "    c[t] += 1\n",
    "qstrain.Tags.apply(lambda x: [add(t) for t in x]);"
   ]
  },
  {
   "cell_type": "code",
   "execution_count": 50,
   "metadata": {
    "ExecuteTime": {
     "end_time": "2017-11-15T17:48:15.456373Z",
     "start_time": "2017-11-15T17:48:15.388175Z"
    }
   },
   "outputs": [],
   "source": [
    "skeys = sorted(c, key=c.get, reverse=True)\n",
    "tagdf = pd.DataFrame({\"tags\": skeys, \"counts\": [c[sk] for sk in skeys]})\n",
    "tagdf.set_index(\"tags\", inplace=True)\n",
    "tagdf = tagdf[tagdf.counts > 100]"
   ]
  },
  {
   "cell_type": "code",
   "execution_count": 51,
   "metadata": {
    "ExecuteTime": {
     "end_time": "2017-11-15T17:48:41.010133Z",
     "start_time": "2017-11-15T17:48:26.890375Z"
    }
   },
   "outputs": [
    {
     "data": {
      "image/png": "[encoded data removed]",
      "text/plain": [
       "<matplotlib.figure.Figure at 0x7f1510620b90>"
      ]
     },
     "metadata": {},
     "output_type": "display_data"
    },
    {
     "data": {
      "image/png": "[encoded data removed]",
      "text/plain": [
       "<matplotlib.figure.Figure at 0x7f151070be10>"
      ]
     },
     "metadata": {},
     "output_type": "display_data"
    }
   ],
   "source": [
    "plt.figure(figsize=(8, 6))\n",
    "tagdf.head(10).plot.bar(ax=plt.gca())\n",
    "plt.ylabel(\"Number of tagged questions\")\n",
    "plt.gca().yaxis.set_major_formatter(FormatStrFormatter(\"%d\"))\n",
    "plt.savefig(\"./plots/hist_mostcommontags.pdf\")\n",
    "\n",
    "plt.figure(figsize=(8, 6))\n",
    "tagdf.tail(10).plot.bar(ax=plt.gca())\n",
    "plt.ylabel(\"Number of tagged questions\")\n",
    "plt.gca().yaxis.set_major_formatter(FormatStrFormatter(\"%d\"))\n",
    "plt.savefig(\"./plots/hist_leastcommontags.pdf\")"
   ]
  },
  {
   "cell_type": "code",
   "execution_count": 69,
   "metadata": {
    "ExecuteTime": {
     "end_time": "2017-11-15T18:00:11.318144Z",
     "start_time": "2017-11-15T18:00:09.592983Z"
    }
   },
   "outputs": [],
   "source": [
    "answertimes = []\n",
    "tags = []\n",
    "for i in xrange(10):\n",
    "    tag = tagdf.iloc[i].name\n",
    "    qssel = qstrain[qstrain.Tags.apply(lambda x: tag in x)]\n",
    "    tags.append(tag)\n",
    "    answertimes.append(qssel.dt_accanswer_hour.values)"
   ]
  },
  {
   "cell_type": "code",
   "execution_count": 78,
   "metadata": {
    "ExecuteTime": {
     "end_time": "2017-11-15T18:05:03.830499Z",
     "start_time": "2017-11-15T18:04:58.222450Z"
    }
   },
   "outputs": [
    {
     "data": {
      "image/png": "[encoded data removed]",
      "text/plain": [
       "<matplotlib.figure.Figure at 0x7f150191fe10>"
      ]
     },
     "metadata": {},
     "output_type": "display_data"
    }
   ],
   "source": [
    "plt.figure(figsize=(8, 6))\n",
    "plt.ylabel(\"Median answer times / hours\")\n",
    "ViolinPlot(np.arange(10), answertimes, bins=None, axes=plt.gca(), draw=\"mvs\", outliers=False)\n",
    "plt.ylim(0, 3)\n",
    "plt.gca().set_xticks(np.arange(10));\n",
    "plt.gca().set_xticklabels(tags, rotation=90);\n",
    "plt.savefig(\"./plots/answertimes_vs_tags.pdf\")"
   ]
  },
  {
   "cell_type": "markdown",
   "metadata": {},
   "source": [
    "## Fitting random forest to the space of simple features derived from the text"
   ]
  },
  {
   "cell_type": "code",
   "execution_count": 15,
   "metadata": {
    "ExecuteTime": {
     "end_time": "2017-11-14T21:29:08.544122Z",
     "start_time": "2017-11-14T21:29:08.539377Z"
    }
   },
   "outputs": [],
   "source": [
    "cols = [\"BodyNCodes\", \"BodyNQMarks\", \"BodySize\", \"titlelen\", \"nwords\", \"ordersum\", \"ordermean\", \"orderstd\", \"ratio\"]"
   ]
  },
  {
   "cell_type": "code",
   "execution_count": 18,
   "metadata": {
    "ExecuteTime": {
     "end_time": "2017-11-15T17:26:26.082839Z",
     "start_time": "2017-11-15T17:26:26.074300Z"
    }
   },
   "outputs": [],
   "source": [
    "pipe_time_fct = lambda a: Pipeline([\n",
    "         (\"cst\", ColumnSelectTransformer([\"weekday\", \"dayhour\"])),\n",
    "         (\"onehot\", OneHotEncoder(sparse=True)),\n",
    "         (\"ranforest\", RandomForestClassifier(n_estimators=15, n_jobs=-1))\n",
    "    ])\n",
    "\n",
    "pipe_time = pipe_time_fct(2)"
   ]
  },
  {
   "cell_type": "code",
   "execution_count": 19,
   "metadata": {
    "ExecuteTime": {
     "end_time": "2017-11-15T17:26:42.893124Z",
     "start_time": "2017-11-15T17:26:37.015147Z"
    }
   },
   "outputs": [
    {
     "name": "stdout",
     "output_type": "stream",
     "text": [
      "[[3 2]\n",
      " [3 3]\n",
      " [2 4]\n",
      " ..., \n",
      " [0 0]\n",
      " [3 0]\n",
      " [2 0]]\n",
      "0.216635935434\n",
      "0.216635935434\n"
     ]
    }
   ],
   "source": [
    "pipe_time.fit(qstrain, qstrain[label])\n",
    "pred = pipe_time.predict(qstest)\n",
    "print np.column_stack((pred, qstest[label]))\n",
    "print pipe_time.score(qstest, qstest[label])\n",
    "print np.sum(pred == qstest[label]) * 1. / len(pred)"
   ]
  },
  {
   "cell_type": "code",
   "execution_count": 20,
   "metadata": {
    "ExecuteTime": {
     "end_time": "2017-11-15T17:26:52.737276Z",
     "start_time": "2017-11-15T17:26:52.692641Z"
    }
   },
   "outputs": [
    {
     "name": "stdout",
     "output_type": "stream",
     "text": [
      "pred          0         1         2         3         4\n",
      "truth                                                  \n",
      "4      0.322119  0.118458  0.161341  0.207637  0.191402\n",
      "3      0.308245  0.115118  0.157613  0.254626  0.163610\n",
      "2      0.316393  0.114989  0.174250  0.214298  0.184560\n",
      "1      0.319738  0.122163  0.159637  0.219652  0.178168\n",
      "0      0.341182  0.123298  0.145279  0.208151  0.180156\n"
     ]
    }
   ],
   "source": [
    "comp = pd.DataFrame({\"truth\": qstest[label], \"pred\": pred})\n",
    "comp = comp.groupby([\"truth\", \"pred\"]).apply(len)\n",
    "comp = comp.unstack(level=-1)\n",
    "\n",
    "# normalization\n",
    "comp = comp * 1. / comp.apply(np.sum, axis=1)\n",
    "comp.sort_index(ascending=False, inplace=True)\n",
    "# comp = comp * 1. / comp.groupby(\"truth\").apply(sum, axis=0)\n",
    "print comp"
   ]
  },
  {
   "cell_type": "code",
   "execution_count": 21,
   "metadata": {
    "ExecuteTime": {
     "end_time": "2017-11-15T17:27:09.004944Z",
     "start_time": "2017-11-15T17:27:02.784865Z"
    }
   },
   "outputs": [
    {
     "data": {
      "image/png": "[encoded data removed]",
      "text/plain": [
       "<matplotlib.figure.Figure at 0x7f15d156d210>"
      ]
     },
     "metadata": {},
     "output_type": "display_data"
    }
   ],
   "source": [
    "plt.figure(figsize=(10, 8))\n",
    "ax = sns.heatmap(comp, annot=True, linewidths=0.5)\n",
    "plt.savefig(\"./plots/heatmap_date.pdf\")"
   ]
  },
  {
   "cell_type": "code",
   "execution_count": 19,
   "metadata": {
    "ExecuteTime": {
     "end_time": "2017-11-14T21:31:17.104564Z",
     "start_time": "2017-11-14T21:31:17.090755Z"
    }
   },
   "outputs": [
    {
     "data": {
      "text/plain": [
       "array([0, 1, 2, 3, 4])"
      ]
     },
     "execution_count": 19,
     "metadata": {},
     "output_type": "execute_result"
    }
   ],
   "source": [
    "np.unique(qstest[label])"
   ]
  },
  {
   "cell_type": "code",
   "execution_count": 20,
   "metadata": {
    "ExecuteTime": {
     "end_time": "2017-11-14T21:31:26.139206Z",
     "start_time": "2017-11-14T21:31:25.656825Z"
    }
   },
   "outputs": [
    {
     "data": {
      "image/png": "[encoded data removed]",
      "text/plain": [
       "<matplotlib.figure.Figure at 0x7f76f22e2490>"
      ]
     },
     "metadata": {},
     "output_type": "display_data"
    }
   ],
   "source": [
    "plt.figure(figsize=(8, 6))\n",
    "plt.hist(qstest[label], color=\"r\", ls=\"-\", lw=2, histtype=\"step\", bins=np.linspace(-0.5, 5.5, 7), label=\"Truth\")\n",
    "plt.hist(pred, color=\"k\", ls=\"--\", lw=2, histtype=\"step\", bins=np.linspace(-0.5, 5.5, 7), label=\"Prediction\")\n",
    "plt.legend(loc=\"upper right\");"
   ]
  },
  {
   "cell_type": "code",
   "execution_count": 14,
   "metadata": {
    "ExecuteTime": {
     "end_time": "2017-11-15T14:26:58.362178Z",
     "start_time": "2017-11-15T14:26:58.350091Z"
    }
   },
   "outputs": [
    {
     "name": "stdout",
     "output_type": "stream",
     "text": [
      "['BodyNCodes_norm', 'BodyNQMarks_norm', 'BodySize_norm', 'titlelen_norm', 'nwords_norm', 'ordersum_norm', 'ordermean_norm', 'orderstd_norm', 'ratio_norm']\n"
     ]
    }
   ],
   "source": [
    "relcols = [\"BodyNCodes\", \"BodyNQMarks\", \"BodySize\", \"titlelen\", \"nwords\", \"ordersum\", \"ordermean\", \"orderstd\", \"ratio\"]\n",
    "cols = [col + \"_norm\" for col in relcols]\n",
    "print cols\n",
    "\n",
    "pipe_feat_fct = lambda a: Pipeline([\n",
    "         (\"cst\", ColumnSelectTransformer(cols)),\n",
    "         (\"poly\", PolynomialFeatures(degree=2)),\n",
    "         (\"ranforest\", RandomForestClassifier(n_estimators=30, n_jobs=-1))\n",
    "#          (\"knn\", KNeighborsRegressor(n_neighbors=a))\n",
    "#          (\"svc\", LinearSVC())\n",
    "#          (\"multi\", MultiModelRegressor(Ridge(alpha=a, normalize=False), RandomForestRegressor(n_estimators=15)))\n",
    "#          (\"multi\", MultiModelRegressor(SGDRegressor(), RandomForestRegressor(n_estimators=20)))\n",
    "    ])\n",
    "\n",
    "pipe_feat = pipe_feat_fct(100)"
   ]
  },
  {
   "cell_type": "code",
   "execution_count": 23,
   "metadata": {
    "ExecuteTime": {
     "end_time": "2017-11-09T22:36:31.864436Z",
     "start_time": "2017-11-09T22:36:31.855373Z"
    }
   },
   "outputs": [],
   "source": [
    "cv = model_selection.ShuffleSplit(n_splits=20, test_size=0.2, random_state=42)\n",
    "def compute_error(est, X, y):\n",
    "    return -model_selection.cross_val_score(est, X, y, cv=cv, scoring='neg_mean_squared_error').mean()"
   ]
  },
  {
   "cell_type": "code",
   "execution_count": null,
   "metadata": {
    "ExecuteTime": {
     "end_time": "2017-11-09T18:37:28.298421Z",
     "start_time": "2017-11-09T18:37:28.192001Z"
    }
   },
   "outputs": [],
   "source": [
    "for alpha in np.linspace(0.1, 10, 20):\n",
    "    pipe = pipe_feat_fct(alpha)\n",
    "    pipe.fit(qstrain, np.log(qstrain[label]))\n",
    "    print alpha, compute_error(pipe, qstrain, np.log(qstrain[label]))"
   ]
  },
  {
   "cell_type": "code",
   "execution_count": 15,
   "metadata": {
    "ExecuteTime": {
     "end_time": "2017-11-15T14:28:45.521402Z",
     "start_time": "2017-11-15T14:27:06.012231Z"
    }
   },
   "outputs": [
    {
     "name": "stdout",
     "output_type": "stream",
     "text": [
      "[[2 1]\n",
      " [0 0]\n",
      " [4 4]\n",
      " ..., \n",
      " [0 2]\n",
      " [1 4]\n",
      " [4 3]]\n",
      "0.250022460181\n"
     ]
    }
   ],
   "source": [
    "pipe_feat.fit(qstrain, qstrain[label])\n",
    "pred = pipe_feat.predict(qstest)\n",
    "print np.column_stack((pred, qstest[label]))\n",
    "print pipe_feat.score(qstest, qstest[label])"
   ]
  },
  {
   "cell_type": "code",
   "execution_count": 16,
   "metadata": {
    "ExecuteTime": {
     "end_time": "2017-11-15T14:28:53.793334Z",
     "start_time": "2017-11-15T14:28:53.277491Z"
    }
   },
   "outputs": [
    {
     "data": {
      "image/png": "[encoded data removed]",
      "text/plain": [
       "<matplotlib.figure.Figure at 0x7f990c7ef890>"
      ]
     },
     "metadata": {},
     "output_type": "display_data"
    }
   ],
   "source": [
    "plt.figure(figsize=(8, 6))\n",
    "plt.hist(qstest[label], color=\"r\", ls=\"-\", lw=2, histtype=\"step\", bins=np.linspace(-0.5, 5.5, 7), label=\"Truth\")\n",
    "plt.hist(pred, color=\"k\", ls=\"--\", lw=2, histtype=\"step\", bins=np.linspace(-0.5, 5.5, 7), label=\"Prediction\")\n",
    "plt.legend(loc=\"upper right\");"
   ]
  },
  {
   "cell_type": "code",
   "execution_count": 17,
   "metadata": {
    "ExecuteTime": {
     "end_time": "2017-11-15T14:29:01.742994Z",
     "start_time": "2017-11-15T14:29:01.697289Z"
    }
   },
   "outputs": [
    {
     "name": "stdout",
     "output_type": "stream",
     "text": [
      "pred          0         1         2         3         4\n",
      "truth                                                  \n",
      "4      0.216801  0.177637  0.175486  0.221021  0.212239\n",
      "3      0.178804  0.175239  0.194445  0.265324  0.185672\n",
      "2      0.232972  0.198792  0.188924  0.214344  0.164776\n",
      "1      0.288832  0.215408  0.179531  0.169442  0.146055\n",
      "0      0.368446  0.218706  0.152654  0.124262  0.135011\n"
     ]
    }
   ],
   "source": [
    "comp = pd.DataFrame({\"truth\": qstest[label], \"pred\": pred})\n",
    "comp = comp.groupby([\"truth\", \"pred\"]).apply(len)\n",
    "comp = comp.unstack(level=-1)\n",
    "\n",
    "# normalization\n",
    "comp = comp * 1. / comp.apply(np.sum, axis=1)\n",
    "comp.sort_index(ascending=False, inplace=True)\n",
    "# comp = comp * 1. / comp.groupby(\"truth\").apply(sum, axis=0)\n",
    "print comp"
   ]
  },
  {
   "cell_type": "code",
   "execution_count": 18,
   "metadata": {
    "ExecuteTime": {
     "end_time": "2017-11-15T14:29:12.462496Z",
     "start_time": "2017-11-15T14:29:09.394214Z"
    }
   },
   "outputs": [
    {
     "data": {
      "image/png": "[encoded data removed]",
      "text/plain": [
       "<matplotlib.figure.Figure at 0x7f990c7efd10>"
      ]
     },
     "metadata": {},
     "output_type": "display_data"
    }
   ],
   "source": [
    "plt.figure(figsize=(10, 8))\n",
    "ax = sns.heatmap(comp, annot=True, linewidths=0.5)\n",
    "plt.savefig(\"./plots/heatmap_naive.pdf\")"
   ]
  },
  {
   "cell_type": "code",
   "execution_count": 14,
   "metadata": {
    "ExecuteTime": {
     "end_time": "2017-11-15T13:28:23.646192Z",
     "start_time": "2017-11-15T13:28:23.620977Z"
    }
   },
   "outputs": [],
   "source": [
    "pipe_tags = Pipeline([\n",
    "                     (\"cst\", ColumnSelectTransformer([\"Tags\"])),\n",
    "                     (\"dec\", DictEncoder(\"Tags\")),\n",
    "                     (\"dvec\", DictVectorizer(sparse=True)),\n",
    "                     (\"tfid\", TfidfTransformer()),\n",
    "                     (\"ranforest\", RandomForestClassifier(n_estimators=20, n_jobs=-1))\n",
    "                     ])"
   ]
  },
  {
   "cell_type": "code",
   "execution_count": 15,
   "metadata": {
    "ExecuteTime": {
     "end_time": "2017-11-15T13:42:25.246224Z",
     "start_time": "2017-11-15T13:28:27.506578Z"
    }
   },
   "outputs": [
    {
     "name": "stdout",
     "output_type": "stream",
     "text": [
      "[[4 1]\n",
      " [0 0]\n",
      " [3 2]\n",
      " ..., \n",
      " [2 1]\n",
      " [1 0]\n",
      " [3 2]]\n",
      "0.298023076232\n"
     ]
    }
   ],
   "source": [
    "pipe_tags.fit(qstrain, qstrain[label])\n",
    "pred = pipe_tags.predict(qstest)\n",
    "print np.column_stack((pred, qstest[label]))\n",
    "print pipe_tags.score(qstest, qstest[label])"
   ]
  },
  {
   "cell_type": "code",
   "execution_count": 16,
   "metadata": {
    "ExecuteTime": {
     "end_time": "2017-11-15T13:43:40.394369Z",
     "start_time": "2017-11-15T13:43:40.339879Z"
    }
   },
   "outputs": [
    {
     "name": "stdout",
     "output_type": "stream",
     "text": [
      "pred          0         1         2         3         4\n",
      "truth                                                  \n",
      "4      0.206514  0.141970  0.160180  0.274217  0.220652\n",
      "3      0.115067  0.122307  0.196780  0.374116  0.187924\n",
      "2      0.214423  0.181550  0.219277  0.234137  0.147499\n",
      "1      0.341469  0.211247  0.177568  0.144301  0.126732\n",
      "0      0.464785  0.201362  0.128990  0.095685  0.111232\n"
     ]
    }
   ],
   "source": [
    "comp = pd.DataFrame({\"truth\": qstest[label], \"pred\": pred})\n",
    "comp = comp.groupby([\"truth\", \"pred\"]).apply(len)\n",
    "comp = comp.unstack(level=-1)\n",
    "\n",
    "# normalization\n",
    "comp = comp * 1. / comp.apply(np.sum, axis=1)\n",
    "comp.sort_index(ascending=False, inplace=True)\n",
    "# comp = comp * 1. / comp.groupby(\"truth\").apply(sum, axis=0)\n",
    "print comp"
   ]
  },
  {
   "cell_type": "code",
   "execution_count": 17,
   "metadata": {
    "ExecuteTime": {
     "end_time": "2017-11-15T13:43:57.908322Z",
     "start_time": "2017-11-15T13:43:49.069985Z"
    }
   },
   "outputs": [
    {
     "data": {
      "image/png": "[encoded data removed]",
      "text/plain": [
       "<matplotlib.figure.Figure at 0x7f7b45b51490>"
      ]
     },
     "metadata": {},
     "output_type": "display_data"
    }
   ],
   "source": [
    "import seaborn as sns\n",
    "plt.figure(figsize=(10, 8))\n",
    "ax = sns.heatmap(comp, annot=True, linewidths=0.5)\n",
    "plt.savefig(\"./plots/heatmap_tags.pdf\")"
   ]
  },
  {
   "cell_type": "code",
   "execution_count": 31,
   "metadata": {
    "ExecuteTime": {
     "end_time": "2017-11-15T13:55:58.249022Z",
     "start_time": "2017-11-15T13:55:58.236546Z"
    }
   },
   "outputs": [
    {
     "data": {
      "text/plain": [
       "945097    PHP - Get multiple newest files with exact mod...\n",
       "475970          Seeing leaks when using an NSCollectionView\n",
       "685804    Sqlite: How to select a value from a table whe...\n",
       "366968                         C++ BigInteger to byte array\n",
       "406381      Load applet resources with size more than 40 MB\n",
       "Name: Title, dtype: object"
      ]
     },
     "execution_count": 31,
     "metadata": {},
     "output_type": "execute_result"
    }
   ],
   "source": [
    "qstrain.Title.head()"
   ]
  },
  {
   "cell_type": "code",
   "execution_count": 13,
   "metadata": {
    "ExecuteTime": {
     "end_time": "2017-11-15T16:49:08.734927Z",
     "start_time": "2017-11-15T16:49:08.724800Z"
    }
   },
   "outputs": [],
   "source": [
    "pipe_titles = Pipeline([\n",
    "                     (\"cst\", ColumnSelectTransformer([\"Title\"])),\n",
    "                     (\"tfid\", TfidfVectorizer(ngram_range=(1, 2), stop_words=\"english\")),\n",
    "                     (\"ranforest\", RandomForestClassifier(n_estimators=20, n_jobs=-1))\n",
    "                     ])"
   ]
  },
  {
   "cell_type": "code",
   "execution_count": 14,
   "metadata": {
    "ExecuteTime": {
     "end_time": "2017-11-15T17:23:58.495953Z",
     "start_time": "2017-11-15T16:49:18.148343Z"
    }
   },
   "outputs": [
    {
     "name": "stdout",
     "output_type": "stream",
     "text": [
      "[[0 2]\n",
      " [2 3]\n",
      " [0 4]\n",
      " ..., \n",
      " [1 0]\n",
      " [0 0]\n",
      " [0 0]]\n",
      "0.262980915263\n"
     ]
    }
   ],
   "source": [
    "pipe_titles.fit(qstrain, qstrain[label])\n",
    "pred = pipe_titles.predict(qstest)\n",
    "print np.column_stack((pred, qstest[label]))\n",
    "print pipe_titles.score(qstest, qstest[label])"
   ]
  },
  {
   "cell_type": "code",
   "execution_count": 15,
   "metadata": {
    "ExecuteTime": {
     "end_time": "2017-11-15T17:24:08.176340Z",
     "start_time": "2017-11-15T17:24:08.128444Z"
    }
   },
   "outputs": [
    {
     "name": "stdout",
     "output_type": "stream",
     "text": [
      "pred          0         1         2         3         4\n",
      "truth                                                  \n",
      "4      0.303892  0.192270  0.148773  0.180331  0.175753\n",
      "3      0.255945  0.189422  0.165495  0.224878  0.163353\n",
      "2      0.345020  0.222719  0.166752  0.145592  0.124572\n",
      "1      0.428090  0.240193  0.133713  0.096676  0.101077\n",
      "0      0.508288  0.232612  0.108193  0.065686  0.083846\n"
     ]
    }
   ],
   "source": [
    "comp = pd.DataFrame({\"truth\": qstest[label], \"pred\": pred})\n",
    "comp = comp.groupby([\"truth\", \"pred\"]).apply(len)\n",
    "comp = comp.unstack(level=-1)\n",
    "\n",
    "# normalization\n",
    "comp = comp * 1. / comp.apply(np.sum, axis=1)\n",
    "comp.sort_index(ascending=False, inplace=True)\n",
    "# comp = comp * 1. / comp.groupby(\"truth\").apply(sum, axis=0)\n",
    "print comp"
   ]
  },
  {
   "cell_type": "code",
   "execution_count": 16,
   "metadata": {
    "ExecuteTime": {
     "end_time": "2017-11-15T17:24:29.584656Z",
     "start_time": "2017-11-15T17:24:18.632894Z"
    }
   },
   "outputs": [
    {
     "data": {
      "image/png": "[encoded data removed]",
      "text/plain": [
       "<matplotlib.figure.Figure at 0x7f15a17c1590>"
      ]
     },
     "metadata": {},
     "output_type": "display_data"
    }
   ],
   "source": [
    "import seaborn as sns\n",
    "plt.figure(figsize=(10, 8))\n",
    "ax = sns.heatmap(comp, annot=True, linewidths=0.5)\n",
    "plt.savefig(\"./plots/heatmap_titles.pdf\")"
   ]
  },
  {
   "cell_type": "code",
   "execution_count": 18,
   "metadata": {
    "ExecuteTime": {
     "end_time": "2017-11-08T14:49:26.950101Z",
     "start_time": "2017-11-08T14:49:26.934310Z"
    }
   },
   "outputs": [],
   "source": [
    "pipe_words = Pipeline([\n",
    "                      (\"cst\", ColumnSelectTransformer([\"hot_indices\"])),\n",
    "                      (\"dec\", DictEncoder(\"hot_indices\")),\n",
    "                      (\"dvec\", DictVectorizer(sparse=True)),\n",
    "                      (\"tfid\", TfidfTransformer()),\n",
    "#                       (\"ridge\", Ridge(alpha=2.0))\n",
    "#                       (\"multi\", MultiModelRegressor(Ridge(alpha=a, normalize=True), RandomForestRegressor(n_estimators=15)))\n",
    "#                       (\"multi\", MultiModelRegressor(Ridge(alpha=2, normalize=True), MLPRegressor(hidden_layer_sizes=(50, 50))))\n",
    "                      (\"mlp\", MLPRegressor(hidden_layer_sizes=(100, 100)))\n",
    "                      ])"
   ]
  },
  {
   "cell_type": "code",
   "execution_count": 19,
   "metadata": {
    "ExecuteTime": {
     "end_time": "2017-11-08T15:17:43.640761Z",
     "start_time": "2017-11-08T14:49:28.977998Z"
    }
   },
   "outputs": [
    {
     "name": "stdout",
     "output_type": "stream",
     "text": [
      "[[ 0.11661578  1.73275229]\n",
      " [-0.68789848  1.62309463]\n",
      " [-0.41625747  0.56544562]\n",
      " ..., \n",
      " [-0.95755484 -2.74837232]\n",
      " [-0.66469107 -2.45769623]\n",
      " [-0.03610053 -1.2427968 ]]\n",
      "0.0427342687598\n"
     ]
    }
   ],
   "source": [
    "pipe_words.fit(qstrain, qstrain[label])\n",
    "pred = pipe_words.predict(qstest)\n",
    "print np.column_stack((pred, qstest[label]))\n",
    "print pipe_words.score(qstest, qstest[label])"
   ]
  },
  {
   "cell_type": "code",
   "execution_count": null,
   "metadata": {},
   "outputs": [],
   "source": [
    "comp = pd.DataFrame({\"truth\": qstest[label], \"pred\": pred})\n",
    "comp = comp.groupby([\"truth\", \"pred\"]).apply(len)\n",
    "comp = comp.unstack(level=-1)\n",
    "\n",
    "# normalization\n",
    "comp = comp * 1. / comp.apply(np.sum, axis=1)\n",
    "comp.sort_index(ascending=False, inplace=True)\n",
    "# comp = comp * 1. / comp.groupby(\"truth\").apply(sum, axis=0)\n",
    "print comp"
   ]
  },
  {
   "cell_type": "code",
   "execution_count": null,
   "metadata": {},
   "outputs": [],
   "source": [
    "import seaborn as sns\n",
    "plt.figure(figsize=(10, 8))\n",
    "ax = sns.heatmap(comp, annot=True, linewidths=0.5)\n",
    "plt.savefig(\"./plots/heatmap_bow.pdf\")"
   ]
  },
  {
   "cell_type": "code",
   "execution_count": 90,
   "metadata": {
    "ExecuteTime": {
     "end_time": "2017-11-01T17:27:41.092484Z",
     "start_time": "2017-11-01T17:27:41.078833Z"
    }
   },
   "outputs": [],
   "source": [
    "from sklearn.pipeline import FeatureUnion\n",
    "union = FeatureUnion([\n",
    "                     (\"tags\", EstimatorTransformer(pipe_tags)),\n",
    "                     (\"words\", EstimatorTransformer(pipe_words)),\n",
    "                     (\"feat\", EstimatorTransformer(pipe_feat))\n",
    "                     ])\n",
    "\n",
    "pipe_combined = Pipeline([\n",
    "                    (\"union\", union),\n",
    "                    (\"ridge\", Ridge(alpha=3.0))\n",
    "                    # (\"comb\", CustomCombiner())\n",
    "                    ])"
   ]
  },
  {
   "cell_type": "code",
   "execution_count": 92,
   "metadata": {
    "ExecuteTime": {
     "end_time": "2017-11-01T19:53:31.753537Z",
     "start_time": "2017-11-01T19:06:56.169092Z"
    }
   },
   "outputs": [
    {
     "name": "stdout",
     "output_type": "stream",
     "text": [
      "Performing base regression...\n",
      "Performing residual regression...\n",
      "Performing base regression...\n",
      "Performing residual regression...\n",
      "[[-1.38131283 -1.24080278]\n",
      " [ 2.58146676  2.53918837]\n",
      " [-1.48334503 -2.46557472]\n",
      " ..., \n",
      " [-0.68950884 -2.54889492]\n",
      " [ 0.51332501 -1.11581542]\n",
      " [ 1.50734924  3.57332448]]\n",
      "0.461645944995\n"
     ]
    }
   ],
   "source": [
    "pipe_combined.fit(qstrain, qstrain[label])\n",
    "pred = pipe_combined.predict(qstest)\n",
    "print np.column_stack((pred, qstest[label]))\n",
    "print pipe_combined.score(qstest, qstest[label])"
   ]
  },
  {
   "cell_type": "code",
   "execution_count": 93,
   "metadata": {
    "ExecuteTime": {
     "end_time": "2017-11-01T19:53:46.637070Z",
     "start_time": "2017-11-01T19:53:46.631677Z"
    }
   },
   "outputs": [],
   "source": [
    "import dill"
   ]
  },
  {
   "cell_type": "code",
   "execution_count": 94,
   "metadata": {
    "ExecuteTime": {
     "end_time": "2017-11-01T19:53:53.883498Z",
     "start_time": "2017-11-01T19:53:53.288204Z"
    }
   },
   "outputs": [],
   "source": [
    "dill.dump(pipe_combined, open(\"pipe_feat.dill\", \"w\"))"
   ]
  },
  {
   "cell_type": "code",
   "execution_count": null,
   "metadata": {
    "ExecuteTime": {
     "end_time": "2017-11-01T12:40:09.473999Z",
     "start_time": "2017-11-01T12:40:09.172014Z"
    }
   },
   "outputs": [],
   "source": [
    "pipe_feat = dill.load(open('pipe_feat.dill', 'r'))"
   ]
  }
 ],
 "metadata": {
  "kernelspec": {
   "display_name": "Python 2",
   "language": "python",
   "name": "python2"
  },
  "language_info": {
   "codemirror_mode": {
    "name": "ipython",
    "version": 2
   },
   "file_extension": ".py",
   "mimetype": "text/x-python",
   "name": "python",
   "nbconvert_exporter": "python",
   "pygments_lexer": "ipython2",
   "version": "2.7.14"
  },
  "varInspector": {
   "cols": {
    "lenName": 16,
    "lenType": 16,
    "lenVar": 40
   },
   "kernels_config": {
    "python": {
     "delete_cmd_postfix": "",
     "delete_cmd_prefix": "del ",
     "library": "var_list.py",
     "varRefreshCmd": "print(var_dic_list())"
    },
    "r": {
     "delete_cmd_postfix": ") ",
     "delete_cmd_prefix": "rm(",
     "library": "var_list.r",
     "varRefreshCmd": "cat(var_dic_list()) "
    }
   },
   "types_to_exclude": [
    "module",
    "function",
    "builtin_function_or_method",
    "instance",
    "_Feature"
   ],
   "window_display": false
  }
 },
 "nbformat": 4,
 "nbformat_minor": 2
}
