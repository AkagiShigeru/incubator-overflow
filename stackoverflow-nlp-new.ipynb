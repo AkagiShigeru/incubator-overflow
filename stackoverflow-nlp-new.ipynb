{
 "cells": [
  {
   "cell_type": "code",
   "execution_count": 2,
   "metadata": {
    "ExecuteTime": {
     "end_time": "2017-10-30T13:43:16.624500Z",
     "start_time": "2017-10-30T13:43:16.616498Z"
    }
   },
   "outputs": [],
   "source": [
    "%matplotlib inline\n",
    "import os\n",
    "\n",
    "import pandas as pd\n",
    "import numpy as np\n",
    "# import seaborn as sns\n",
    "from pyik.mplext import ViolinPlot\n",
    "from matplotlib import pyplot as plt\n",
    "from matplotlib.ticker import MultipleLocator, FormatStrFormatter\n",
    "import sqlite3\n",
    "\n",
    "from pyik.mplext import ViolinPlot\n",
    "from util_general import QuickSlicePlot"
   ]
  },
  {
   "cell_type": "code",
   "execution_count": 3,
   "metadata": {
    "ExecuteTime": {
     "end_time": "2017-10-30T13:44:54.022370Z",
     "start_time": "2017-10-30T13:44:54.012354Z"
    }
   },
   "outputs": [],
   "source": [
    "cpath = \"/home/alex/data/stackexchange/overflow/caches/\"\n",
    "\n",
    "posts_path = os.path.join(cpath, \"posts.db\")\n",
    "meta_path = os.path.join(cpath, \"posts_2017.hdf5\")\n",
    "dict_path = os.path.join(cpath, \"dictionaries/words_2017.hdf5\")\n",
    "features_path = os.path.join(cpath, \"features/features_2017.hdf5\")"
   ]
  },
  {
   "cell_type": "code",
   "execution_count": null,
   "metadata": {},
   "outputs": [],
   "source": [
    "conn = sqlite3.connect(posts_path)"
   ]
  },
  {
   "cell_type": "code",
   "execution_count": 5,
   "metadata": {
    "ExecuteTime": {
     "end_time": "2017-10-30T13:46:07.458584Z",
     "start_time": "2017-10-30T13:46:07.451964Z"
    }
   },
   "outputs": [],
   "source": [
    "store_meta = pd.HDFStore(meta_path, \"r\", complib=\"blosc\", complevel=9)\n",
    "store_dict = pd.HDFStore(dict_path, \"r\", complib=\"blosc\", complevel=9)\n",
    "store_feat = pd.HDFStore(features_path, \"r\", complib=\"blosc\", complevel=9)"
   ]
  },
  {
   "cell_type": "code",
   "execution_count": 6,
   "metadata": {
    "ExecuteTime": {
     "end_time": "2017-10-30T13:49:12.805047Z",
     "start_time": "2017-10-30T13:49:02.809431Z"
    }
   },
   "outputs": [
    {
     "name": "stdout",
     "output_type": "stream",
     "text": [
      "(1696819, 21)\n"
     ]
    }
   ],
   "source": [
    "smask = store_meta.select_as_coordinates(\"posts\", \"PostTypeId == 1\")\n",
    "qs = store_meta.select(\"posts\", where=smask)\n",
    "qs.set_index(\"Id\", inplace=True, drop=False)\n",
    "print qs.shape"
   ]
  },
  {
   "cell_type": "code",
   "execution_count": 7,
   "metadata": {
    "ExecuteTime": {
     "end_time": "2017-10-30T13:49:34.601769Z",
     "start_time": "2017-10-30T13:49:23.995604Z"
    }
   },
   "outputs": [
    {
     "name": "stdout",
     "output_type": "stream",
     "text": [
      "(2028240, 21)\n"
     ]
    }
   ],
   "source": [
    "answers = store_meta.select(\"posts\", where=store_meta.select_as_coordinates(\"posts\", \"PostTypeId == 2\"))\n",
    "answers.set_index(\"Id\", inplace=True, drop=False)\n",
    "print answers.shape"
   ]
  },
  {
   "cell_type": "code",
   "execution_count": 8,
   "metadata": {
    "ExecuteTime": {
     "end_time": "2017-10-30T13:49:51.491857Z",
     "start_time": "2017-10-30T13:49:50.888097Z"
    }
   },
   "outputs": [],
   "source": [
    "words = store_dict.select(\"all\")\n",
    "\n",
    "words[\"freqs\"] = words.n * 1. / words.n.sum()\n",
    "words = words.sort_values(by=\"n\", ascending=False)\n",
    "words[\"order\"] = np.arange(1, words.shape[0] + 1)\n",
    "# drop known nuisance words that made it into the list\n",
    "words = words.drop(544765)\n",
    "words = words.drop(430514)"
   ]
  },
  {
   "cell_type": "code",
   "execution_count": 9,
   "metadata": {
    "ExecuteTime": {
     "end_time": "2017-10-30T13:50:09.659830Z",
     "start_time": "2017-10-30T13:50:08.089560Z"
    }
   },
   "outputs": [],
   "source": [
    "features = store_feat.select(\"words\")\n",
    "features.set_index(\"Id\", inplace=True, drop=False)"
   ]
  },
  {
   "cell_type": "code",
   "execution_count": 10,
   "metadata": {
    "ExecuteTime": {
     "end_time": "2017-10-30T13:50:17.371589Z",
     "start_time": "2017-10-30T13:50:14.336916Z"
    }
   },
   "outputs": [
    {
     "data": {
      "image/png": "[encoded data removed]",
      "text/plain": [
       "<matplotlib.figure.Figure at 0x7f90e76e0750>"
      ]
     },
     "metadata": {},
     "output_type": "display_data"
    }
   ],
   "source": [
    "first = words.iloc[:20]\n",
    "plt.figure(figsize=(8,6))\n",
    "plt.xlabel(r\"Word\")\n",
    "plt.ylabel(r\"Percentage of occurrence\")\n",
    "plt.bar(np.arange(1, first.shape[0] + 1), first.n.values * 100. / words.n.sum(), \n",
    "        align=\"center\", color=\"k\", alpha=0.6)\n",
    "plt.xticks(np.arange(1, first.shape[0] + 1), first.words.values, rotation=90)\n",
    "plt.savefig(\"./plots/mostcommonwords.pdf\")"
   ]
  },
  {
   "cell_type": "code",
   "execution_count": 11,
   "metadata": {
    "ExecuteTime": {
     "end_time": "2017-10-30T13:51:14.869530Z",
     "start_time": "2017-10-30T13:51:12.473717Z"
    }
   },
   "outputs": [
    {
     "data": {
      "image/png": "[encoded data removed]",
      "text/plain": [
       "<matplotlib.figure.Figure at 0x7f90e76e0250>"
      ]
     },
     "metadata": {},
     "output_type": "display_data"
    }
   ],
   "source": [
    "# did the number of answers change with time?\n",
    "plt.figure(figsize=(8,6))\n",
    "plt.xlabel(r\"Number of answers to a question\")\n",
    "plt.ylabel(\"Normalized counts (a.u.)\")\n",
    "qs.AnswerCount.hist(range=[-0.5, 29.5], bins=30, color=\"r\", normed=True, histtype=\"step\", label=\"2017\", axes=plt.gca())\n",
    "plt.legend(loc=\"best\")\n",
    "plt.savefig(\"./plots/nanswers_time.pdf\")"
   ]
  },
  {
   "cell_type": "code",
   "execution_count": 12,
   "metadata": {
    "ExecuteTime": {
     "end_time": "2017-10-30T13:51:23.910501Z",
     "start_time": "2017-10-30T13:51:23.903407Z"
    }
   },
   "outputs": [
    {
     "data": {
      "text/plain": [
       "Index([u'AcceptedAnswerId', u'AnswerCount', u'BodyNCodes', u'BodyNQMarks',\n",
       "       u'BodySize', u'ClosedDate', u'CommentCount', u'CommunityOwnedDate',\n",
       "       u'CreationDate', u'FavoriteCount', u'Id', u'LastActivityDate',\n",
       "       u'LastEditDate', u'LastEditorUserId', u'OwnerUserId', u'ParentId',\n",
       "       u'PostTypeId', u'Score', u'Tags', u'Title', u'ViewCount'],\n",
       "      dtype='object')"
      ]
     },
     "execution_count": 12,
     "metadata": {},
     "output_type": "execute_result"
    }
   ],
   "source": [
    "qs.columns"
   ]
  },
  {
   "cell_type": "code",
   "execution_count": 13,
   "metadata": {
    "ExecuteTime": {
     "end_time": "2017-10-30T13:54:00.929141Z",
     "start_time": "2017-10-30T13:53:58.020392Z"
    }
   },
   "outputs": [],
   "source": [
    "# convert to datetime objects\n",
    "datecols = [\"CreationDate\"]\n",
    "for datecol in datecols:\n",
    "    qs[datecol] = pd.to_datetime(qs[datecol], origin=\"julian\", unit=\"D\")"
   ]
  },
  {
   "cell_type": "code",
   "execution_count": 14,
   "metadata": {
    "ExecuteTime": {
     "end_time": "2017-10-30T13:54:08.193788Z",
     "start_time": "2017-10-30T13:54:08.109807Z"
    }
   },
   "outputs": [
    {
     "data": {
      "text/html": [
       "<div>\n",
       "<style>\n",
       "    .dataframe thead tr:only-child th {\n",
       "        text-align: right;\n",
       "    }\n",
       "\n",
       "    .dataframe thead th {\n",
       "        text-align: left;\n",
       "    }\n",
       "\n",
       "    .dataframe tbody tr th {\n",
       "        vertical-align: top;\n",
       "    }\n",
       "</style>\n",
       "<table border=\"1\" class=\"dataframe\">\n",
       "  <thead>\n",
       "    <tr style=\"text-align: right;\">\n",
       "      <th></th>\n",
       "      <th>Id</th>\n",
       "      <th>hot_indices</th>\n",
       "      <th>nwords</th>\n",
       "      <th>ordersum</th>\n",
       "      <th>prob_bern</th>\n",
       "      <th>prob_poiss</th>\n",
       "      <th>ratio</th>\n",
       "    </tr>\n",
       "    <tr>\n",
       "      <th>Id</th>\n",
       "      <th></th>\n",
       "      <th></th>\n",
       "      <th></th>\n",
       "      <th></th>\n",
       "      <th></th>\n",
       "      <th></th>\n",
       "      <th></th>\n",
       "    </tr>\n",
       "  </thead>\n",
       "  <tbody>\n",
       "    <tr>\n",
       "      <th>41412454</th>\n",
       "      <td>41412454</td>\n",
       "      <td>1;3;5;7;15;16;25;31;39;44;51;82;93;120;128;173...</td>\n",
       "      <td>34</td>\n",
       "      <td>9808</td>\n",
       "      <td>8.207604e-35</td>\n",
       "      <td>1.379798e-45</td>\n",
       "      <td>0.473684</td>\n",
       "    </tr>\n",
       "    <tr>\n",
       "      <th>41412456</th>\n",
       "      <td>41412456</td>\n",
       "      <td>1;5;7;8;9;20;21;26;29;32;35;40;106;116;177;235...</td>\n",
       "      <td>41</td>\n",
       "      <td>11612</td>\n",
       "      <td>7.156278e-38</td>\n",
       "      <td>4.739314e-50</td>\n",
       "      <td>0.571429</td>\n",
       "    </tr>\n",
       "    <tr>\n",
       "      <th>41412462</th>\n",
       "      <td>41412462</td>\n",
       "      <td>2;18;25;29;34;53;65;73;74;76;84;106;112;113;13...</td>\n",
       "      <td>177</td>\n",
       "      <td>29357</td>\n",
       "      <td>3.510274e-47</td>\n",
       "      <td>1.470589e-171</td>\n",
       "      <td>0.206186</td>\n",
       "    </tr>\n",
       "    <tr>\n",
       "      <th>41412463</th>\n",
       "      <td>41412463</td>\n",
       "      <td>1;3;10;14;28;29;72;90;92;117;141;270;443;457;5...</td>\n",
       "      <td>30</td>\n",
       "      <td>11140</td>\n",
       "      <td>6.456232e-34</td>\n",
       "      <td>4.154225e-43</td>\n",
       "      <td>0.352941</td>\n",
       "    </tr>\n",
       "    <tr>\n",
       "      <th>41412466</th>\n",
       "      <td>41412466</td>\n",
       "      <td>2;5;17;20;21;23;31;44;58;80;82;108;112;119;189...</td>\n",
       "      <td>42</td>\n",
       "      <td>14821</td>\n",
       "      <td>2.230625e-34</td>\n",
       "      <td>2.098941e-63</td>\n",
       "      <td>0.789474</td>\n",
       "    </tr>\n",
       "    <tr>\n",
       "      <th>41412468</th>\n",
       "      <td>41412468</td>\n",
       "      <td>2;5;6;9;12;20;31;33;34;55;65;70;80;87;88;97;12...</td>\n",
       "      <td>83</td>\n",
       "      <td>27260</td>\n",
       "      <td>3.555518e-62</td>\n",
       "      <td>8.499462e-106</td>\n",
       "      <td>0.555556</td>\n",
       "    </tr>\n",
       "    <tr>\n",
       "      <th>41412470</th>\n",
       "      <td>41412470</td>\n",
       "      <td>6;9;22;51;52;80;126;130;167;172;246;280;516;55...</td>\n",
       "      <td>23</td>\n",
       "      <td>4354</td>\n",
       "      <td>3.565091e-26</td>\n",
       "      <td>4.166906e-41</td>\n",
       "      <td>0.615385</td>\n",
       "    </tr>\n",
       "    <tr>\n",
       "      <th>41412471</th>\n",
       "      <td>41412471</td>\n",
       "      <td>1;5;7;17;19;20;25;28;36;39;44;49;59;67;69;78;7...</td>\n",
       "      <td>93</td>\n",
       "      <td>26515</td>\n",
       "      <td>4.327852e-58</td>\n",
       "      <td>7.070053e-106</td>\n",
       "      <td>0.418182</td>\n",
       "    </tr>\n",
       "    <tr>\n",
       "      <th>41412472</th>\n",
       "      <td>41412472</td>\n",
       "      <td>3;6;22;23;30;31;42;119;136;275;310;461;481;561...</td>\n",
       "      <td>52</td>\n",
       "      <td>14143</td>\n",
       "      <td>8.376334e-32</td>\n",
       "      <td>9.991446e-80</td>\n",
       "      <td>0.305556</td>\n",
       "    </tr>\n",
       "    <tr>\n",
       "      <th>41412475</th>\n",
       "      <td>41412475</td>\n",
       "      <td>4;5;19;21;136;137;202;211;212;551;994;1020;165...</td>\n",
       "      <td>25</td>\n",
       "      <td>8415</td>\n",
       "      <td>5.368281e-25</td>\n",
       "      <td>2.821227e-38</td>\n",
       "      <td>0.357143</td>\n",
       "    </tr>\n",
       "    <tr>\n",
       "      <th>41412477</th>\n",
       "      <td>41412477</td>\n",
       "      <td>1;13;24;28;64;66;77;139;144;260;667;1240;1420;...</td>\n",
       "      <td>26</td>\n",
       "      <td>7849</td>\n",
       "      <td>5.409998e-23</td>\n",
       "      <td>1.497024e-41</td>\n",
       "      <td>0.312500</td>\n",
       "    </tr>\n",
       "    <tr>\n",
       "      <th>41412479</th>\n",
       "      <td>41412479</td>\n",
       "      <td>6;11;15;17;24;42;55;67;78;79;93;111;114;152;19...</td>\n",
       "      <td>32</td>\n",
       "      <td>9187</td>\n",
       "      <td>2.521883e-38</td>\n",
       "      <td>1.323418e-48</td>\n",
       "      <td>1.272727</td>\n",
       "    </tr>\n",
       "    <tr>\n",
       "      <th>41412480</th>\n",
       "      <td>41412480</td>\n",
       "      <td>1;2;3;5;9;30;31;33;40;42;56;58;61;73;87;101;11...</td>\n",
       "      <td>52</td>\n",
       "      <td>11978</td>\n",
       "      <td>8.536651e-43</td>\n",
       "      <td>1.024534e-70</td>\n",
       "      <td>0.576923</td>\n",
       "    </tr>\n",
       "    <tr>\n",
       "      <th>41412481</th>\n",
       "      <td>41412481</td>\n",
       "      <td>1;2;5;13;15;17;20;21;23;26;37;41;56;85;94;119;...</td>\n",
       "      <td>61</td>\n",
       "      <td>18380</td>\n",
       "      <td>1.137747e-52</td>\n",
       "      <td>9.210315e-67</td>\n",
       "      <td>0.457143</td>\n",
       "    </tr>\n",
       "    <tr>\n",
       "      <th>41412490</th>\n",
       "      <td>41412490</td>\n",
       "      <td>2;18;21;33;38;41;43;51;53;93;107;135;141;145;1...</td>\n",
       "      <td>60</td>\n",
       "      <td>14070</td>\n",
       "      <td>4.375846e-40</td>\n",
       "      <td>1.614388e-80</td>\n",
       "      <td>0.166667</td>\n",
       "    </tr>\n",
       "    <tr>\n",
       "      <th>41412493</th>\n",
       "      <td>41412493</td>\n",
       "      <td>2;6;7;12;18;24;46;49;84;93;112;119;157;158;194...</td>\n",
       "      <td>54</td>\n",
       "      <td>24039</td>\n",
       "      <td>2.048240e-52</td>\n",
       "      <td>5.449681e-78</td>\n",
       "      <td>0.194444</td>\n",
       "    </tr>\n",
       "    <tr>\n",
       "      <th>41412495</th>\n",
       "      <td>41412495</td>\n",
       "      <td>1;7;20;31;35;52;82;87;104;119;123;242;250;252;...</td>\n",
       "      <td>39</td>\n",
       "      <td>9410</td>\n",
       "      <td>4.721339e-32</td>\n",
       "      <td>2.709574e-64</td>\n",
       "      <td>0.407407</td>\n",
       "    </tr>\n",
       "    <tr>\n",
       "      <th>41412499</th>\n",
       "      <td>41412499</td>\n",
       "      <td>1;2;9;11;12;21;23;25;33;40;49;51;53;59;60;61;6...</td>\n",
       "      <td>91</td>\n",
       "      <td>25907</td>\n",
       "      <td>8.612580e-58</td>\n",
       "      <td>3.772479e-84</td>\n",
       "      <td>0.396226</td>\n",
       "    </tr>\n",
       "    <tr>\n",
       "      <th>41412503</th>\n",
       "      <td>41412503</td>\n",
       "      <td></td>\n",
       "      <td>0</td>\n",
       "      <td>0</td>\n",
       "      <td>NaN</td>\n",
       "      <td>1.000000e+00</td>\n",
       "      <td>-1.000000</td>\n",
       "    </tr>\n",
       "    <tr>\n",
       "      <th>41412506</th>\n",
       "      <td>41412506</td>\n",
       "      <td>6;27;80;112;120;145;367;876;1018</td>\n",
       "      <td>11</td>\n",
       "      <td>2751</td>\n",
       "      <td>4.505989e-18</td>\n",
       "      <td>3.731930e-18</td>\n",
       "      <td>0.428571</td>\n",
       "    </tr>\n",
       "    <tr>\n",
       "      <th>41412507</th>\n",
       "      <td>41412507</td>\n",
       "      <td>15;67;84;112;296;431;481;1166;1421;1596;2043</td>\n",
       "      <td>18</td>\n",
       "      <td>7712</td>\n",
       "      <td>9.912443e-24</td>\n",
       "      <td>1.395211e-31</td>\n",
       "      <td>0.375000</td>\n",
       "    </tr>\n",
       "    <tr>\n",
       "      <th>41412511</th>\n",
       "      <td>41412511</td>\n",
       "      <td>1;3;7;15;16;23;28;34;62;63;83;95;98;114;129;16...</td>\n",
       "      <td>65</td>\n",
       "      <td>17363</td>\n",
       "      <td>6.590050e-48</td>\n",
       "      <td>5.747337e-79</td>\n",
       "      <td>0.388889</td>\n",
       "    </tr>\n",
       "    <tr>\n",
       "      <th>41412512</th>\n",
       "      <td>41412512</td>\n",
       "      <td>1;3;5;13;19;21;22;25;55;149;289;703</td>\n",
       "      <td>16</td>\n",
       "      <td>1305</td>\n",
       "      <td>1.912953e-16</td>\n",
       "      <td>3.831712e-19</td>\n",
       "      <td>0.400000</td>\n",
       "    </tr>\n",
       "    <tr>\n",
       "      <th>41412513</th>\n",
       "      <td>41412513</td>\n",
       "      <td>1;5;7;36;41;45;48;51;53;56;61;81;102;113;130;1...</td>\n",
       "      <td>88</td>\n",
       "      <td>50497</td>\n",
       "      <td>2.509203e-97</td>\n",
       "      <td>2.975120e-118</td>\n",
       "      <td>0.937500</td>\n",
       "    </tr>\n",
       "    <tr>\n",
       "      <th>41412514</th>\n",
       "      <td>41412514</td>\n",
       "      <td>4;5;11;13;22;34;58;59;64;65;91;101;111;135;139...</td>\n",
       "      <td>81</td>\n",
       "      <td>36266</td>\n",
       "      <td>3.214722e-65</td>\n",
       "      <td>2.388786e-109</td>\n",
       "      <td>0.272727</td>\n",
       "    </tr>\n",
       "    <tr>\n",
       "      <th>41412519</th>\n",
       "      <td>41412519</td>\n",
       "      <td>2;4;9;19;36;38;53;56;58;84;86;101;111;113;140;...</td>\n",
       "      <td>53</td>\n",
       "      <td>16062</td>\n",
       "      <td>4.039642e-50</td>\n",
       "      <td>1.094637e-67</td>\n",
       "      <td>0.371429</td>\n",
       "    </tr>\n",
       "    <tr>\n",
       "      <th>41412521</th>\n",
       "      <td>41412521</td>\n",
       "      <td>2;3;4;6;15;22;23;24;28;42;51;59;61;65;67;79;87...</td>\n",
       "      <td>107</td>\n",
       "      <td>30325</td>\n",
       "      <td>1.624594e-56</td>\n",
       "      <td>2.446766e-122</td>\n",
       "      <td>0.270270</td>\n",
       "    </tr>\n",
       "    <tr>\n",
       "      <th>41412523</th>\n",
       "      <td>41412523</td>\n",
       "      <td>6;7;8;19;30;93;111;119;120;294;341;402;2354</td>\n",
       "      <td>26</td>\n",
       "      <td>3904</td>\n",
       "      <td>3.328273e-19</td>\n",
       "      <td>2.135552e-35</td>\n",
       "      <td>0.470588</td>\n",
       "    </tr>\n",
       "    <tr>\n",
       "      <th>41412524</th>\n",
       "      <td>41412524</td>\n",
       "      <td>1;36;69;779;785</td>\n",
       "      <td>5</td>\n",
       "      <td>1670</td>\n",
       "      <td>2.407804e-11</td>\n",
       "      <td>2.086187e-11</td>\n",
       "      <td>4.000000</td>\n",
       "    </tr>\n",
       "    <tr>\n",
       "      <th>41412530</th>\n",
       "      <td>41412530</td>\n",
       "      <td>1;26;48;49;55;95;108;119;124;157;181;198;205;2...</td>\n",
       "      <td>61</td>\n",
       "      <td>31750</td>\n",
       "      <td>1.341211e-67</td>\n",
       "      <td>1.589485e-93</td>\n",
       "      <td>0.454545</td>\n",
       "    </tr>\n",
       "    <tr>\n",
       "      <th>...</th>\n",
       "      <td>...</td>\n",
       "      <td>...</td>\n",
       "      <td>...</td>\n",
       "      <td>...</td>\n",
       "      <td>...</td>\n",
       "      <td>...</td>\n",
       "      <td>...</td>\n",
       "    </tr>\n",
       "    <tr>\n",
       "      <th>42762957</th>\n",
       "      <td>42762957</td>\n",
       "      <td>6;42;46;88;106;109;164;177;179;189;217;249;1425</td>\n",
       "      <td>30</td>\n",
       "      <td>2997</td>\n",
       "      <td>2.519600e-19</td>\n",
       "      <td>9.049431e-40</td>\n",
       "      <td>0.333333</td>\n",
       "    </tr>\n",
       "    <tr>\n",
       "      <th>42762958</th>\n",
       "      <td>42762958</td>\n",
       "      <td>1;2;7;8;23;25;33;43;45;47;72;83;97;135;140;158...</td>\n",
       "      <td>63</td>\n",
       "      <td>29593</td>\n",
       "      <td>4.990774e-60</td>\n",
       "      <td>1.615896e-104</td>\n",
       "      <td>0.351351</td>\n",
       "    </tr>\n",
       "    <tr>\n",
       "      <th>42762959</th>\n",
       "      <td>42762959</td>\n",
       "      <td>29;100;255;448</td>\n",
       "      <td>8</td>\n",
       "      <td>832</td>\n",
       "      <td>8.104842e-09</td>\n",
       "      <td>8.139049e-15</td>\n",
       "      <td>0.200000</td>\n",
       "    </tr>\n",
       "    <tr>\n",
       "      <th>42762961</th>\n",
       "      <td>42762961</td>\n",
       "      <td>1;3;7;8;17;18;24;26;46;62;80;82;107;110;111;12...</td>\n",
       "      <td>55</td>\n",
       "      <td>17563</td>\n",
       "      <td>3.400509e-45</td>\n",
       "      <td>6.475121e-76</td>\n",
       "      <td>0.485714</td>\n",
       "    </tr>\n",
       "    <tr>\n",
       "      <th>42762967</th>\n",
       "      <td>42762967</td>\n",
       "      <td>1;2;3;4;5;9;19;20;23;25;43;53;68;82;87;129;154...</td>\n",
       "      <td>91</td>\n",
       "      <td>17948</td>\n",
       "      <td>4.473381e-41</td>\n",
       "      <td>6.646206e-54</td>\n",
       "      <td>0.264706</td>\n",
       "    </tr>\n",
       "    <tr>\n",
       "      <th>42762968</th>\n",
       "      <td>42762968</td>\n",
       "      <td>1;6;11;23;28;53;71;108;147;159;163;218;302;548...</td>\n",
       "      <td>33</td>\n",
       "      <td>9853</td>\n",
       "      <td>1.975348e-31</td>\n",
       "      <td>1.334157e-46</td>\n",
       "      <td>0.764706</td>\n",
       "    </tr>\n",
       "    <tr>\n",
       "      <th>42762970</th>\n",
       "      <td>42762970</td>\n",
       "      <td>7;9;25;27;28;51;53;58;83;123;175;217;457;662;6...</td>\n",
       "      <td>30</td>\n",
       "      <td>7698</td>\n",
       "      <td>2.486323e-28</td>\n",
       "      <td>3.603273e-49</td>\n",
       "      <td>0.611111</td>\n",
       "    </tr>\n",
       "    <tr>\n",
       "      <th>42762972</th>\n",
       "      <td>42762972</td>\n",
       "      <td>1;3;22;25;27;28;37;39;44;46;57;66;69;77;88;140...</td>\n",
       "      <td>54</td>\n",
       "      <td>10879</td>\n",
       "      <td>2.022771e-39</td>\n",
       "      <td>2.808696e-68</td>\n",
       "      <td>0.177778</td>\n",
       "    </tr>\n",
       "    <tr>\n",
       "      <th>42762973</th>\n",
       "      <td>42762973</td>\n",
       "      <td>1;6;19;24;27;52;85;87;190;242;266;288;335;416;855</td>\n",
       "      <td>28</td>\n",
       "      <td>2893</td>\n",
       "      <td>6.894383e-21</td>\n",
       "      <td>1.916558e-51</td>\n",
       "      <td>0.473684</td>\n",
       "    </tr>\n",
       "    <tr>\n",
       "      <th>42762976</th>\n",
       "      <td>42762976</td>\n",
       "      <td>1;3;5;7;17;19;24;28;29;31;50;70;98;108;111;112...</td>\n",
       "      <td>68</td>\n",
       "      <td>14074</td>\n",
       "      <td>1.327935e-42</td>\n",
       "      <td>3.661764e-87</td>\n",
       "      <td>0.439024</td>\n",
       "    </tr>\n",
       "    <tr>\n",
       "      <th>42762977</th>\n",
       "      <td>42762977</td>\n",
       "      <td>1;2;12;41;49;61;123;136;166;294;615;672;1657</td>\n",
       "      <td>18</td>\n",
       "      <td>3829</td>\n",
       "      <td>2.673834e-21</td>\n",
       "      <td>1.095136e-21</td>\n",
       "      <td>0.076923</td>\n",
       "    </tr>\n",
       "    <tr>\n",
       "      <th>42762979</th>\n",
       "      <td>42762979</td>\n",
       "      <td>1;2;9;14;29;30;64;71;73;84;119;159;498;538;608...</td>\n",
       "      <td>29</td>\n",
       "      <td>6807</td>\n",
       "      <td>2.992454e-30</td>\n",
       "      <td>2.157130e-35</td>\n",
       "      <td>0.666667</td>\n",
       "    </tr>\n",
       "    <tr>\n",
       "      <th>42762980</th>\n",
       "      <td>42762980</td>\n",
       "      <td>4;6;20;42;43;53;64;106;120;136;221;297;324;506...</td>\n",
       "      <td>19</td>\n",
       "      <td>3206</td>\n",
       "      <td>7.177651e-26</td>\n",
       "      <td>3.670035e-26</td>\n",
       "      <td>0.750000</td>\n",
       "    </tr>\n",
       "    <tr>\n",
       "      <th>42762983</th>\n",
       "      <td>42762983</td>\n",
       "      <td>1;18;47;112;243;419;725;1032;1060;1239;1412;2287</td>\n",
       "      <td>19</td>\n",
       "      <td>8595</td>\n",
       "      <td>7.844251e-25</td>\n",
       "      <td>8.433788e-37</td>\n",
       "      <td>0.636364</td>\n",
       "    </tr>\n",
       "    <tr>\n",
       "      <th>42762985</th>\n",
       "      <td>42762985</td>\n",
       "      <td>1;5;27;40;41;80;101;250;455;810;925;988;2714</td>\n",
       "      <td>14</td>\n",
       "      <td>6437</td>\n",
       "      <td>8.030366e-25</td>\n",
       "      <td>2.365542e-27</td>\n",
       "      <td>0.555556</td>\n",
       "    </tr>\n",
       "    <tr>\n",
       "      <th>42762987</th>\n",
       "      <td>42762987</td>\n",
       "      <td>5;13;20;21;25;28;29;89;109;178;179;236;249;290...</td>\n",
       "      <td>36</td>\n",
       "      <td>18115</td>\n",
       "      <td>5.150361e-41</td>\n",
       "      <td>4.726540e-63</td>\n",
       "      <td>0.400000</td>\n",
       "    </tr>\n",
       "    <tr>\n",
       "      <th>42762988</th>\n",
       "      <td>42762988</td>\n",
       "      <td>4;6;25;27;67;91;132;139;252;414;2271</td>\n",
       "      <td>15</td>\n",
       "      <td>3428</td>\n",
       "      <td>5.587237e-19</td>\n",
       "      <td>9.813607e-22</td>\n",
       "      <td>1.142857</td>\n",
       "    </tr>\n",
       "    <tr>\n",
       "      <th>42762989</th>\n",
       "      <td>42762989</td>\n",
       "      <td>4;5;9;21;22;24;26;27;28;29;31;34;47;63;66;68;7...</td>\n",
       "      <td>86</td>\n",
       "      <td>24781</td>\n",
       "      <td>7.762460e-64</td>\n",
       "      <td>4.556717e-100</td>\n",
       "      <td>0.411765</td>\n",
       "    </tr>\n",
       "    <tr>\n",
       "      <th>42762991</th>\n",
       "      <td>42762991</td>\n",
       "      <td>14;55;123;126;163;170;500;512</td>\n",
       "      <td>10</td>\n",
       "      <td>1663</td>\n",
       "      <td>3.370640e-16</td>\n",
       "      <td>6.426823e-18</td>\n",
       "      <td>0.285714</td>\n",
       "    </tr>\n",
       "    <tr>\n",
       "      <th>42762994</th>\n",
       "      <td>42762994</td>\n",
       "      <td>3;9;20;25;33;47;84;87;102;113;166;178;236;262;...</td>\n",
       "      <td>38</td>\n",
       "      <td>10107</td>\n",
       "      <td>1.592865e-33</td>\n",
       "      <td>7.781311e-58</td>\n",
       "      <td>0.666667</td>\n",
       "    </tr>\n",
       "    <tr>\n",
       "      <th>42762995</th>\n",
       "      <td>42762995</td>\n",
       "      <td>4;5;10;41;52;85;119;132;156;226;344;384;558;19...</td>\n",
       "      <td>18</td>\n",
       "      <td>9386</td>\n",
       "      <td>4.836543e-30</td>\n",
       "      <td>3.646505e-34</td>\n",
       "      <td>0.250000</td>\n",
       "    </tr>\n",
       "    <tr>\n",
       "      <th>42763002</th>\n",
       "      <td>42763002</td>\n",
       "      <td>1;4;7;9;11;18;22;31;49;125;126;157;406;790;140...</td>\n",
       "      <td>31</td>\n",
       "      <td>10583</td>\n",
       "      <td>3.258619e-27</td>\n",
       "      <td>3.932023e-45</td>\n",
       "      <td>0.500000</td>\n",
       "    </tr>\n",
       "    <tr>\n",
       "      <th>42763007</th>\n",
       "      <td>42763007</td>\n",
       "      <td>3;14;58;62;83;111;165;583;660;894;1603;1965;25...</td>\n",
       "      <td>23</td>\n",
       "      <td>15137</td>\n",
       "      <td>2.275036e-31</td>\n",
       "      <td>7.614902e-38</td>\n",
       "      <td>0.384615</td>\n",
       "    </tr>\n",
       "    <tr>\n",
       "      <th>42763008</th>\n",
       "      <td>42763008</td>\n",
       "      <td>3;5;6;14;25;48;74;79;126;157;255;315;339;459;5...</td>\n",
       "      <td>28</td>\n",
       "      <td>9201</td>\n",
       "      <td>1.067054e-34</td>\n",
       "      <td>3.942706e-54</td>\n",
       "      <td>0.666667</td>\n",
       "    </tr>\n",
       "    <tr>\n",
       "      <th>42763010</th>\n",
       "      <td>42763010</td>\n",
       "      <td>9;11;13;20;53;55;64;71;88;90;111;112;119;219;2...</td>\n",
       "      <td>35</td>\n",
       "      <td>9126</td>\n",
       "      <td>3.467247e-34</td>\n",
       "      <td>6.783738e-48</td>\n",
       "      <td>0.450000</td>\n",
       "    </tr>\n",
       "    <tr>\n",
       "      <th>42763015</th>\n",
       "      <td>42763015</td>\n",
       "      <td>4;5;7;11;17;40;79;83;148;156;173;187;211;283;3...</td>\n",
       "      <td>44</td>\n",
       "      <td>10467</td>\n",
       "      <td>1.166606e-36</td>\n",
       "      <td>8.919759e-63</td>\n",
       "      <td>0.357143</td>\n",
       "    </tr>\n",
       "    <tr>\n",
       "      <th>42763019</th>\n",
       "      <td>42763019</td>\n",
       "      <td>1;3;6;7;19;20;25;29;37;45;50;51;80;88;111;113;...</td>\n",
       "      <td>34</td>\n",
       "      <td>6298</td>\n",
       "      <td>2.363294e-30</td>\n",
       "      <td>1.033610e-44</td>\n",
       "      <td>0.380952</td>\n",
       "    </tr>\n",
       "    <tr>\n",
       "      <th>42763026</th>\n",
       "      <td>42763026</td>\n",
       "      <td>11;13;28;32;48;98;111;126;150;164;172;580;666;...</td>\n",
       "      <td>28</td>\n",
       "      <td>9150</td>\n",
       "      <td>8.349758e-31</td>\n",
       "      <td>3.859763e-36</td>\n",
       "      <td>0.388889</td>\n",
       "    </tr>\n",
       "    <tr>\n",
       "      <th>42763027</th>\n",
       "      <td>42763027</td>\n",
       "      <td>1;4;5;9;11;20;34;35;40;53;61;74;106;111;115;13...</td>\n",
       "      <td>79</td>\n",
       "      <td>27820</td>\n",
       "      <td>1.231927e-54</td>\n",
       "      <td>3.517764e-83</td>\n",
       "      <td>0.380000</td>\n",
       "    </tr>\n",
       "    <tr>\n",
       "      <th>42763029</th>\n",
       "      <td>42763029</td>\n",
       "      <td>1;6;7;8;9;17;20;22;24;26;36;41;43;45;51;55;56;...</td>\n",
       "      <td>227</td>\n",
       "      <td>72226</td>\n",
       "      <td>1.389315e-103</td>\n",
       "      <td>2.373576e-189</td>\n",
       "      <td>0.640351</td>\n",
       "    </tr>\n",
       "  </tbody>\n",
       "</table>\n",
       "<p>499000 rows × 7 columns</p>\n",
       "</div>"
      ],
      "text/plain": [
       "                Id                                        hot_indices  nwords  \\\n",
       "Id                                                                              \n",
       "41412454  41412454  1;3;5;7;15;16;25;31;39;44;51;82;93;120;128;173...      34   \n",
       "41412456  41412456  1;5;7;8;9;20;21;26;29;32;35;40;106;116;177;235...      41   \n",
       "41412462  41412462  2;18;25;29;34;53;65;73;74;76;84;106;112;113;13...     177   \n",
       "41412463  41412463  1;3;10;14;28;29;72;90;92;117;141;270;443;457;5...      30   \n",
       "41412466  41412466  2;5;17;20;21;23;31;44;58;80;82;108;112;119;189...      42   \n",
       "41412468  41412468  2;5;6;9;12;20;31;33;34;55;65;70;80;87;88;97;12...      83   \n",
       "41412470  41412470  6;9;22;51;52;80;126;130;167;172;246;280;516;55...      23   \n",
       "41412471  41412471  1;5;7;17;19;20;25;28;36;39;44;49;59;67;69;78;7...      93   \n",
       "41412472  41412472  3;6;22;23;30;31;42;119;136;275;310;461;481;561...      52   \n",
       "41412475  41412475  4;5;19;21;136;137;202;211;212;551;994;1020;165...      25   \n",
       "41412477  41412477  1;13;24;28;64;66;77;139;144;260;667;1240;1420;...      26   \n",
       "41412479  41412479  6;11;15;17;24;42;55;67;78;79;93;111;114;152;19...      32   \n",
       "41412480  41412480  1;2;3;5;9;30;31;33;40;42;56;58;61;73;87;101;11...      52   \n",
       "41412481  41412481  1;2;5;13;15;17;20;21;23;26;37;41;56;85;94;119;...      61   \n",
       "41412490  41412490  2;18;21;33;38;41;43;51;53;93;107;135;141;145;1...      60   \n",
       "41412493  41412493  2;6;7;12;18;24;46;49;84;93;112;119;157;158;194...      54   \n",
       "41412495  41412495  1;7;20;31;35;52;82;87;104;119;123;242;250;252;...      39   \n",
       "41412499  41412499  1;2;9;11;12;21;23;25;33;40;49;51;53;59;60;61;6...      91   \n",
       "41412503  41412503                                                          0   \n",
       "41412506  41412506                   6;27;80;112;120;145;367;876;1018      11   \n",
       "41412507  41412507       15;67;84;112;296;431;481;1166;1421;1596;2043      18   \n",
       "41412511  41412511  1;3;7;15;16;23;28;34;62;63;83;95;98;114;129;16...      65   \n",
       "41412512  41412512                1;3;5;13;19;21;22;25;55;149;289;703      16   \n",
       "41412513  41412513  1;5;7;36;41;45;48;51;53;56;61;81;102;113;130;1...      88   \n",
       "41412514  41412514  4;5;11;13;22;34;58;59;64;65;91;101;111;135;139...      81   \n",
       "41412519  41412519  2;4;9;19;36;38;53;56;58;84;86;101;111;113;140;...      53   \n",
       "41412521  41412521  2;3;4;6;15;22;23;24;28;42;51;59;61;65;67;79;87...     107   \n",
       "41412523  41412523        6;7;8;19;30;93;111;119;120;294;341;402;2354      26   \n",
       "41412524  41412524                                    1;36;69;779;785       5   \n",
       "41412530  41412530  1;26;48;49;55;95;108;119;124;157;181;198;205;2...      61   \n",
       "...            ...                                                ...     ...   \n",
       "42762957  42762957    6;42;46;88;106;109;164;177;179;189;217;249;1425      30   \n",
       "42762958  42762958  1;2;7;8;23;25;33;43;45;47;72;83;97;135;140;158...      63   \n",
       "42762959  42762959                                     29;100;255;448       8   \n",
       "42762961  42762961  1;3;7;8;17;18;24;26;46;62;80;82;107;110;111;12...      55   \n",
       "42762967  42762967  1;2;3;4;5;9;19;20;23;25;43;53;68;82;87;129;154...      91   \n",
       "42762968  42762968  1;6;11;23;28;53;71;108;147;159;163;218;302;548...      33   \n",
       "42762970  42762970  7;9;25;27;28;51;53;58;83;123;175;217;457;662;6...      30   \n",
       "42762972  42762972  1;3;22;25;27;28;37;39;44;46;57;66;69;77;88;140...      54   \n",
       "42762973  42762973  1;6;19;24;27;52;85;87;190;242;266;288;335;416;855      28   \n",
       "42762976  42762976  1;3;5;7;17;19;24;28;29;31;50;70;98;108;111;112...      68   \n",
       "42762977  42762977       1;2;12;41;49;61;123;136;166;294;615;672;1657      18   \n",
       "42762979  42762979  1;2;9;14;29;30;64;71;73;84;119;159;498;538;608...      29   \n",
       "42762980  42762980  4;6;20;42;43;53;64;106;120;136;221;297;324;506...      19   \n",
       "42762983  42762983   1;18;47;112;243;419;725;1032;1060;1239;1412;2287      19   \n",
       "42762985  42762985       1;5;27;40;41;80;101;250;455;810;925;988;2714      14   \n",
       "42762987  42762987  5;13;20;21;25;28;29;89;109;178;179;236;249;290...      36   \n",
       "42762988  42762988               4;6;25;27;67;91;132;139;252;414;2271      15   \n",
       "42762989  42762989  4;5;9;21;22;24;26;27;28;29;31;34;47;63;66;68;7...      86   \n",
       "42762991  42762991                      14;55;123;126;163;170;500;512      10   \n",
       "42762994  42762994  3;9;20;25;33;47;84;87;102;113;166;178;236;262;...      38   \n",
       "42762995  42762995  4;5;10;41;52;85;119;132;156;226;344;384;558;19...      18   \n",
       "42763002  42763002  1;4;7;9;11;18;22;31;49;125;126;157;406;790;140...      31   \n",
       "42763007  42763007  3;14;58;62;83;111;165;583;660;894;1603;1965;25...      23   \n",
       "42763008  42763008  3;5;6;14;25;48;74;79;126;157;255;315;339;459;5...      28   \n",
       "42763010  42763010  9;11;13;20;53;55;64;71;88;90;111;112;119;219;2...      35   \n",
       "42763015  42763015  4;5;7;11;17;40;79;83;148;156;173;187;211;283;3...      44   \n",
       "42763019  42763019  1;3;6;7;19;20;25;29;37;45;50;51;80;88;111;113;...      34   \n",
       "42763026  42763026  11;13;28;32;48;98;111;126;150;164;172;580;666;...      28   \n",
       "42763027  42763027  1;4;5;9;11;20;34;35;40;53;61;74;106;111;115;13...      79   \n",
       "42763029  42763029  1;6;7;8;9;17;20;22;24;26;36;41;43;45;51;55;56;...     227   \n",
       "\n",
       "          ordersum      prob_bern     prob_poiss     ratio  \n",
       "Id                                                          \n",
       "41412454      9808   8.207604e-35   1.379798e-45  0.473684  \n",
       "41412456     11612   7.156278e-38   4.739314e-50  0.571429  \n",
       "41412462     29357   3.510274e-47  1.470589e-171  0.206186  \n",
       "41412463     11140   6.456232e-34   4.154225e-43  0.352941  \n",
       "41412466     14821   2.230625e-34   2.098941e-63  0.789474  \n",
       "41412468     27260   3.555518e-62  8.499462e-106  0.555556  \n",
       "41412470      4354   3.565091e-26   4.166906e-41  0.615385  \n",
       "41412471     26515   4.327852e-58  7.070053e-106  0.418182  \n",
       "41412472     14143   8.376334e-32   9.991446e-80  0.305556  \n",
       "41412475      8415   5.368281e-25   2.821227e-38  0.357143  \n",
       "41412477      7849   5.409998e-23   1.497024e-41  0.312500  \n",
       "41412479      9187   2.521883e-38   1.323418e-48  1.272727  \n",
       "41412480     11978   8.536651e-43   1.024534e-70  0.576923  \n",
       "41412481     18380   1.137747e-52   9.210315e-67  0.457143  \n",
       "41412490     14070   4.375846e-40   1.614388e-80  0.166667  \n",
       "41412493     24039   2.048240e-52   5.449681e-78  0.194444  \n",
       "41412495      9410   4.721339e-32   2.709574e-64  0.407407  \n",
       "41412499     25907   8.612580e-58   3.772479e-84  0.396226  \n",
       "41412503         0            NaN   1.000000e+00 -1.000000  \n",
       "41412506      2751   4.505989e-18   3.731930e-18  0.428571  \n",
       "41412507      7712   9.912443e-24   1.395211e-31  0.375000  \n",
       "41412511     17363   6.590050e-48   5.747337e-79  0.388889  \n",
       "41412512      1305   1.912953e-16   3.831712e-19  0.400000  \n",
       "41412513     50497   2.509203e-97  2.975120e-118  0.937500  \n",
       "41412514     36266   3.214722e-65  2.388786e-109  0.272727  \n",
       "41412519     16062   4.039642e-50   1.094637e-67  0.371429  \n",
       "41412521     30325   1.624594e-56  2.446766e-122  0.270270  \n",
       "41412523      3904   3.328273e-19   2.135552e-35  0.470588  \n",
       "41412524      1670   2.407804e-11   2.086187e-11  4.000000  \n",
       "41412530     31750   1.341211e-67   1.589485e-93  0.454545  \n",
       "...            ...            ...            ...       ...  \n",
       "42762957      2997   2.519600e-19   9.049431e-40  0.333333  \n",
       "42762958     29593   4.990774e-60  1.615896e-104  0.351351  \n",
       "42762959       832   8.104842e-09   8.139049e-15  0.200000  \n",
       "42762961     17563   3.400509e-45   6.475121e-76  0.485714  \n",
       "42762967     17948   4.473381e-41   6.646206e-54  0.264706  \n",
       "42762968      9853   1.975348e-31   1.334157e-46  0.764706  \n",
       "42762970      7698   2.486323e-28   3.603273e-49  0.611111  \n",
       "42762972     10879   2.022771e-39   2.808696e-68  0.177778  \n",
       "42762973      2893   6.894383e-21   1.916558e-51  0.473684  \n",
       "42762976     14074   1.327935e-42   3.661764e-87  0.439024  \n",
       "42762977      3829   2.673834e-21   1.095136e-21  0.076923  \n",
       "42762979      6807   2.992454e-30   2.157130e-35  0.666667  \n",
       "42762980      3206   7.177651e-26   3.670035e-26  0.750000  \n",
       "42762983      8595   7.844251e-25   8.433788e-37  0.636364  \n",
       "42762985      6437   8.030366e-25   2.365542e-27  0.555556  \n",
       "42762987     18115   5.150361e-41   4.726540e-63  0.400000  \n",
       "42762988      3428   5.587237e-19   9.813607e-22  1.142857  \n",
       "42762989     24781   7.762460e-64  4.556717e-100  0.411765  \n",
       "42762991      1663   3.370640e-16   6.426823e-18  0.285714  \n",
       "42762994     10107   1.592865e-33   7.781311e-58  0.666667  \n",
       "42762995      9386   4.836543e-30   3.646505e-34  0.250000  \n",
       "42763002     10583   3.258619e-27   3.932023e-45  0.500000  \n",
       "42763007     15137   2.275036e-31   7.614902e-38  0.384615  \n",
       "42763008      9201   1.067054e-34   3.942706e-54  0.666667  \n",
       "42763010      9126   3.467247e-34   6.783738e-48  0.450000  \n",
       "42763015     10467   1.166606e-36   8.919759e-63  0.357143  \n",
       "42763019      6298   2.363294e-30   1.033610e-44  0.380952  \n",
       "42763026      9150   8.349758e-31   3.859763e-36  0.388889  \n",
       "42763027     27820   1.231927e-54   3.517764e-83  0.380000  \n",
       "42763029     72226  1.389315e-103  2.373576e-189  0.640351  \n",
       "\n",
       "[499000 rows x 7 columns]"
      ]
     },
     "execution_count": 14,
     "metadata": {},
     "output_type": "execute_result"
    }
   ],
   "source": [
    "features"
   ]
  },
  {
   "cell_type": "code",
   "execution_count": null,
   "metadata": {
    "ExecuteTime": {
     "end_time": "2017-10-30T13:54:19.311480Z",
     "start_time": "2017-10-30T13:54:19.292326Z"
    }
   },
   "outputs": [],
   "source": [
    "# check a single (or multiple) posts\n",
    "conn.execute(\"SELECT * FROM posts WHERE id=?\", (158743,)).fetchall()"
   ]
  },
  {
   "cell_type": "code",
   "execution_count": 16,
   "metadata": {
    "ExecuteTime": {
     "end_time": "2017-10-30T13:57:37.241342Z",
     "start_time": "2017-10-30T13:57:36.749836Z"
    }
   },
   "outputs": [
    {
     "data": {
      "text/html": [
       "<div>\n",
       "<style>\n",
       "    .dataframe thead tr:only-child th {\n",
       "        text-align: right;\n",
       "    }\n",
       "\n",
       "    .dataframe thead th {\n",
       "        text-align: left;\n",
       "    }\n",
       "\n",
       "    .dataframe tbody tr th {\n",
       "        vertical-align: top;\n",
       "    }\n",
       "</style>\n",
       "<table border=\"1\" class=\"dataframe\">\n",
       "  <thead>\n",
       "    <tr style=\"text-align: right;\">\n",
       "      <th></th>\n",
       "      <th>AcceptedAnswerId</th>\n",
       "      <th>AnswerCount</th>\n",
       "      <th>BodyNCodes</th>\n",
       "      <th>BodyNQMarks</th>\n",
       "      <th>BodySize</th>\n",
       "      <th>ClosedDate</th>\n",
       "      <th>CommentCount</th>\n",
       "      <th>CommunityOwnedDate</th>\n",
       "      <th>CreationDate</th>\n",
       "      <th>FavoriteCount</th>\n",
       "      <th>...</th>\n",
       "      <th>Tags</th>\n",
       "      <th>Title</th>\n",
       "      <th>ViewCount</th>\n",
       "      <th>Id_r</th>\n",
       "      <th>hot_indices</th>\n",
       "      <th>nwords</th>\n",
       "      <th>ordersum</th>\n",
       "      <th>prob_bern</th>\n",
       "      <th>prob_poiss</th>\n",
       "      <th>ratio</th>\n",
       "    </tr>\n",
       "    <tr>\n",
       "      <th>Id</th>\n",
       "      <th></th>\n",
       "      <th></th>\n",
       "      <th></th>\n",
       "      <th></th>\n",
       "      <th></th>\n",
       "      <th></th>\n",
       "      <th></th>\n",
       "      <th></th>\n",
       "      <th></th>\n",
       "      <th></th>\n",
       "      <th></th>\n",
       "      <th></th>\n",
       "      <th></th>\n",
       "      <th></th>\n",
       "      <th></th>\n",
       "      <th></th>\n",
       "      <th></th>\n",
       "      <th></th>\n",
       "      <th></th>\n",
       "      <th></th>\n",
       "      <th></th>\n",
       "    </tr>\n",
       "  </thead>\n",
       "  <tbody>\n",
       "    <tr>\n",
       "      <th>41412454</th>\n",
       "      <td>-1</td>\n",
       "      <td>0</td>\n",
       "      <td>2</td>\n",
       "      <td>1</td>\n",
       "      <td>1635</td>\n",
       "      <td>-1.0</td>\n",
       "      <td>6</td>\n",
       "      <td>-1.0</td>\n",
       "      <td>2017-01-01 00:00:04.492800</td>\n",
       "      <td>-1</td>\n",
       "      <td>...</td>\n",
       "      <td>;postgresql;grails;gsp</td>\n",
       "      <td>Update on 2 or more tables</td>\n",
       "      <td>78</td>\n",
       "      <td>41412454</td>\n",
       "      <td>1;3;5;7;15;16;25;31;39;44;51;82;93;120;128;173...</td>\n",
       "      <td>34</td>\n",
       "      <td>9808</td>\n",
       "      <td>8.207604e-35</td>\n",
       "      <td>1.379798e-45</td>\n",
       "      <td>0.473684</td>\n",
       "    </tr>\n",
       "    <tr>\n",
       "      <th>41412456</th>\n",
       "      <td>41412707</td>\n",
       "      <td>1</td>\n",
       "      <td>5</td>\n",
       "      <td>1</td>\n",
       "      <td>1022</td>\n",
       "      <td>-1.0</td>\n",
       "      <td>2</td>\n",
       "      <td>-1.0</td>\n",
       "      <td>2017-01-01 00:00:39.744000</td>\n",
       "      <td>-1</td>\n",
       "      <td>...</td>\n",
       "      <td>;python;shell;expect</td>\n",
       "      <td>A expect script with multiple shell statements</td>\n",
       "      <td>52</td>\n",
       "      <td>41412456</td>\n",
       "      <td>1;5;7;8;9;20;21;26;29;32;35;40;106;116;177;235...</td>\n",
       "      <td>41</td>\n",
       "      <td>11612</td>\n",
       "      <td>7.156278e-38</td>\n",
       "      <td>4.739314e-50</td>\n",
       "      <td>0.571429</td>\n",
       "    </tr>\n",
       "    <tr>\n",
       "      <th>41412462</th>\n",
       "      <td>-1</td>\n",
       "      <td>1</td>\n",
       "      <td>6</td>\n",
       "      <td>2</td>\n",
       "      <td>5680</td>\n",
       "      <td>-1.0</td>\n",
       "      <td>0</td>\n",
       "      <td>-1.0</td>\n",
       "      <td>2017-01-01 00:02:06.748800</td>\n",
       "      <td>-1</td>\n",
       "      <td>...</td>\n",
       "      <td>;angularjs;provider;hybrid</td>\n",
       "      <td>While bootstrapping a hybrid angular 1 + 2 app...</td>\n",
       "      <td>205</td>\n",
       "      <td>41412462</td>\n",
       "      <td>2;18;25;29;34;53;65;73;74;76;84;106;112;113;13...</td>\n",
       "      <td>177</td>\n",
       "      <td>29357</td>\n",
       "      <td>3.510274e-47</td>\n",
       "      <td>1.470589e-171</td>\n",
       "      <td>0.206186</td>\n",
       "    </tr>\n",
       "    <tr>\n",
       "      <th>41412463</th>\n",
       "      <td>41412502</td>\n",
       "      <td>1</td>\n",
       "      <td>7</td>\n",
       "      <td>1</td>\n",
       "      <td>834</td>\n",
       "      <td>-1.0</td>\n",
       "      <td>4</td>\n",
       "      <td>-1.0</td>\n",
       "      <td>2017-01-01 00:02:29.817600</td>\n",
       "      <td>-1</td>\n",
       "      <td>...</td>\n",
       "      <td>;javascript;node.js</td>\n",
       "      <td>Is Javascript's setInterval killed when the pa...</td>\n",
       "      <td>76</td>\n",
       "      <td>41412463</td>\n",
       "      <td>1;3;10;14;28;29;72;90;92;117;141;270;443;457;5...</td>\n",
       "      <td>30</td>\n",
       "      <td>11140</td>\n",
       "      <td>6.456232e-34</td>\n",
       "      <td>4.154225e-43</td>\n",
       "      <td>0.352941</td>\n",
       "    </tr>\n",
       "    <tr>\n",
       "      <th>41412466</th>\n",
       "      <td>-1</td>\n",
       "      <td>0</td>\n",
       "      <td>7</td>\n",
       "      <td>0</td>\n",
       "      <td>3600</td>\n",
       "      <td>-1.0</td>\n",
       "      <td>0</td>\n",
       "      <td>-1.0</td>\n",
       "      <td>2017-01-01 00:03:28.569600</td>\n",
       "      <td>-1</td>\n",
       "      <td>...</td>\n",
       "      <td>;android;dataset;adapter;android-adapter;chang...</td>\n",
       "      <td>Adapter not notifyDataSetChanged immediately?</td>\n",
       "      <td>35</td>\n",
       "      <td>41412466</td>\n",
       "      <td>2;5;17;20;21;23;31;44;58;80;82;108;112;119;189...</td>\n",
       "      <td>42</td>\n",
       "      <td>14821</td>\n",
       "      <td>2.230625e-34</td>\n",
       "      <td>2.098941e-63</td>\n",
       "      <td>0.789474</td>\n",
       "    </tr>\n",
       "  </tbody>\n",
       "</table>\n",
       "<p>5 rows × 28 columns</p>\n",
       "</div>"
      ],
      "text/plain": [
       "          AcceptedAnswerId  AnswerCount  BodyNCodes  BodyNQMarks  BodySize  \\\n",
       "Id                                                                           \n",
       "41412454                -1            0           2            1      1635   \n",
       "41412456          41412707            1           5            1      1022   \n",
       "41412462                -1            1           6            2      5680   \n",
       "41412463          41412502            1           7            1       834   \n",
       "41412466                -1            0           7            0      3600   \n",
       "\n",
       "          ClosedDate  CommentCount  CommunityOwnedDate  \\\n",
       "Id                                                       \n",
       "41412454        -1.0             6                -1.0   \n",
       "41412456        -1.0             2                -1.0   \n",
       "41412462        -1.0             0                -1.0   \n",
       "41412463        -1.0             4                -1.0   \n",
       "41412466        -1.0             0                -1.0   \n",
       "\n",
       "                       CreationDate  FavoriteCount    ...     \\\n",
       "Id                                                    ...      \n",
       "41412454 2017-01-01 00:00:04.492800             -1    ...      \n",
       "41412456 2017-01-01 00:00:39.744000             -1    ...      \n",
       "41412462 2017-01-01 00:02:06.748800             -1    ...      \n",
       "41412463 2017-01-01 00:02:29.817600             -1    ...      \n",
       "41412466 2017-01-01 00:03:28.569600             -1    ...      \n",
       "\n",
       "                                                       Tags  \\\n",
       "Id                                                            \n",
       "41412454                             ;postgresql;grails;gsp   \n",
       "41412456                               ;python;shell;expect   \n",
       "41412462                         ;angularjs;provider;hybrid   \n",
       "41412463                                ;javascript;node.js   \n",
       "41412466  ;android;dataset;adapter;android-adapter;chang...   \n",
       "\n",
       "                                                      Title  ViewCount  \\\n",
       "Id                                                                       \n",
       "41412454                         Update on 2 or more tables         78   \n",
       "41412456     A expect script with multiple shell statements         52   \n",
       "41412462  While bootstrapping a hybrid angular 1 + 2 app...        205   \n",
       "41412463  Is Javascript's setInterval killed when the pa...         76   \n",
       "41412466      Adapter not notifyDataSetChanged immediately?         35   \n",
       "\n",
       "              Id_r                                        hot_indices  nwords  \\\n",
       "Id                                                                              \n",
       "41412454  41412454  1;3;5;7;15;16;25;31;39;44;51;82;93;120;128;173...      34   \n",
       "41412456  41412456  1;5;7;8;9;20;21;26;29;32;35;40;106;116;177;235...      41   \n",
       "41412462  41412462  2;18;25;29;34;53;65;73;74;76;84;106;112;113;13...     177   \n",
       "41412463  41412463  1;3;10;14;28;29;72;90;92;117;141;270;443;457;5...      30   \n",
       "41412466  41412466  2;5;17;20;21;23;31;44;58;80;82;108;112;119;189...      42   \n",
       "\n",
       "          ordersum     prob_bern     prob_poiss     ratio  \n",
       "Id                                                         \n",
       "41412454      9808  8.207604e-35   1.379798e-45  0.473684  \n",
       "41412456     11612  7.156278e-38   4.739314e-50  0.571429  \n",
       "41412462     29357  3.510274e-47  1.470589e-171  0.206186  \n",
       "41412463     11140  6.456232e-34   4.154225e-43  0.352941  \n",
       "41412466     14821  2.230625e-34   2.098941e-63  0.789474  \n",
       "\n",
       "[5 rows x 28 columns]"
      ]
     },
     "execution_count": 16,
     "metadata": {},
     "output_type": "execute_result"
    }
   ],
   "source": [
    "# join in information about occurring words, probabilities etc\n",
    "qs = qs.join(features, how=\"inner\", rsuffix=\"_r\")\n",
    "qs.head()"
   ]
  },
  {
   "cell_type": "code",
   "execution_count": 17,
   "metadata": {
    "ExecuteTime": {
     "end_time": "2017-10-30T14:00:30.192074Z",
     "start_time": "2017-10-30T14:00:29.344681Z"
    }
   },
   "outputs": [],
   "source": [
    "qs[\"Tags\"] = qs.Tags.apply(lambda x: x.split(\";\")[1:])\n",
    "qs[\"hasAnswers\"] = qs.AnswerCount > 1"
   ]
  },
  {
   "cell_type": "code",
   "execution_count": 18,
   "metadata": {
    "ExecuteTime": {
     "end_time": "2017-10-30T14:00:32.762564Z",
     "start_time": "2017-10-30T14:00:32.751167Z"
    }
   },
   "outputs": [
    {
     "data": {
      "text/plain": [
       "Index([u'AcceptedAnswerId', u'AnswerCount', u'BodyNCodes', u'BodyNQMarks',\n",
       "       u'BodySize', u'ClosedDate', u'CommentCount', u'CommunityOwnedDate',\n",
       "       u'CreationDate', u'FavoriteCount', u'Id', u'LastActivityDate',\n",
       "       u'LastEditDate', u'LastEditorUserId', u'OwnerUserId', u'ParentId',\n",
       "       u'PostTypeId', u'Score', u'Tags', u'Title', u'ViewCount', u'Id_r',\n",
       "       u'hot_indices', u'nwords', u'ordersum', u'prob_bern', u'prob_poiss',\n",
       "       u'ratio', u'hasAnswers'],\n",
       "      dtype='object')"
      ]
     },
     "execution_count": 18,
     "metadata": {},
     "output_type": "execute_result"
    }
   ],
   "source": [
    "# check available info\n",
    "qs.columns"
   ]
  },
  {
   "cell_type": "code",
   "execution_count": 19,
   "metadata": {
    "ExecuteTime": {
     "end_time": "2017-10-30T14:00:36.319002Z",
     "start_time": "2017-10-30T14:00:36.314048Z"
    }
   },
   "outputs": [
    {
     "name": "stdout",
     "output_type": "stream",
     "text": [
      "2017-10-30 15:00:36.316126\n"
     ]
    }
   ],
   "source": [
    "now = pd.Timestamp.now()\n",
    "print now"
   ]
  },
  {
   "cell_type": "code",
   "execution_count": 20,
   "metadata": {
    "ExecuteTime": {
     "end_time": "2017-10-30T14:00:44.504601Z",
     "start_time": "2017-10-30T14:00:44.459773Z"
    }
   },
   "outputs": [],
   "source": [
    "qs[\"dt_created\"] = now - qs.CreationDate"
   ]
  },
  {
   "cell_type": "code",
   "execution_count": 21,
   "metadata": {
    "ExecuteTime": {
     "end_time": "2017-10-30T14:00:51.490616Z",
     "start_time": "2017-10-30T14:00:48.122321Z"
    }
   },
   "outputs": [
    {
     "data": {
      "image/png": "[encoded data removed]",
      "text/plain": [
       "<matplotlib.figure.Figure at 0x7f916a60efd0>"
      ]
     },
     "metadata": {},
     "output_type": "display_data"
    }
   ],
   "source": [
    "plt.figure(figsize=(8,6))\n",
    "plt.xlabel(r\"Number of replies to a question\")\n",
    "plt.ylabel(r\"Counts\")\n",
    "qs.AnswerCount.hist(bins=100, range=(0, 10), color=\"k\", alpha=0.8)\n",
    "plt.savefig(\"./plots/naswers_hist.pdf\")"
   ]
  },
  {
   "cell_type": "code",
   "execution_count": 22,
   "metadata": {
    "ExecuteTime": {
     "end_time": "2017-10-30T14:01:11.150499Z",
     "start_time": "2017-10-30T14:00:55.011192Z"
    }
   },
   "outputs": [
    {
     "name": "stderr",
     "output_type": "stream",
     "text": [
      "/home/alex/auger/coding/utilities/util_general.py:563: RuntimeWarning: invalid value encountered in log10\n",
      "  max(2 - np.floor(np.abs(np.log10(ztrafo(zedgs[i])))), 0), 2)\n"
     ]
    },
    {
     "data": {
      "image/png": "[encoded data removed]",
      "text/plain": [
       "<matplotlib.figure.Figure at 0x7f916865d7d0>"
      ]
     },
     "metadata": {},
     "output_type": "display_data"
    }
   ],
   "source": [
    "plt.figure(figsize=(8,6))\n",
    "plt.xlabel(r\"Days since a question was created\")\n",
    "plt.ylabel(r\"Number of answers\")\n",
    "QuickSlicePlot(qs.dt_created.dt.days, qs.AnswerCount, qs.Score, zbins=1, xbins=10, \n",
    "               yrange=[0, 3], axes=plt.gca(), outliers=False)\n",
    "plt.savefig(\"./plots/nanswers_vs_dt.pdf\")"
   ]
  },
  {
   "cell_type": "code",
   "execution_count": 34,
   "metadata": {
    "ExecuteTime": {
     "end_time": "2017-10-30T14:31:24.048406Z",
     "start_time": "2017-10-30T14:31:23.741678Z"
    }
   },
   "outputs": [],
   "source": [
    "# cutting on too short questions because metrics are not working for those (yet)\n",
    "qs = qs[qs.nwords > 5]"
   ]
  },
  {
   "cell_type": "code",
   "execution_count": 35,
   "metadata": {
    "ExecuteTime": {
     "end_time": "2017-10-30T14:31:24.516654Z",
     "start_time": "2017-10-30T14:31:24.512763Z"
    }
   },
   "outputs": [
    {
     "name": "stdout",
     "output_type": "stream",
     "text": [
      "668019\n"
     ]
    }
   ],
   "source": [
    "print len(qs)"
   ]
  },
  {
   "cell_type": "code",
   "execution_count": 36,
   "metadata": {
    "ExecuteTime": {
     "end_time": "2017-10-30T14:31:45.744901Z",
     "start_time": "2017-10-30T14:31:44.683332Z"
    }
   },
   "outputs": [
    {
     "name": "stdout",
     "output_type": "stream",
     "text": [
      "668019\n"
     ]
    }
   ],
   "source": [
    "# shuffling the df to avoid time dependencies for now\n",
    "from sklearn.utils import shuffle\n",
    "qs = shuffle(qs)\n",
    "print len(qs)"
   ]
  },
  {
   "cell_type": "code",
   "execution_count": null,
   "metadata": {
    "ExecuteTime": {
     "end_time": "2017-10-30T14:14:12.645228Z",
     "start_time": "2017-10-30T14:14:11.790112Z"
    }
   },
   "outputs": [],
   "source": [
    "# join information about first answer into the frame\n",
    "# RUN ONLY ONCE or results in duplicate rows\n",
    "qs = qs.merge(answers, how=\"left\", left_on=\"Id\", right_on=\"ParentId\", suffixes=(\"\", \"_a\"))\n",
    "print qs.head()"
   ]
  },
  {
   "cell_type": "code",
   "execution_count": null,
   "metadata": {
    "ExecuteTime": {
     "end_time": "2017-10-30T14:29:14.972037Z",
     "start_time": "2017-10-30T14:29:14.003115Z"
    }
   },
   "outputs": [],
   "source": [
    "qs = qs.merge(answers, how=\"left\", left_on=\"AcceptedAnswerId\", right_on=\"Id\", suffixes=(\"\", \"_acc\"))\n",
    "print qs.head()\n",
    "qs.columns"
   ]
  },
  {
   "cell_type": "code",
   "execution_count": 33,
   "metadata": {
    "ExecuteTime": {
     "end_time": "2017-10-30T14:30:51.628733Z",
     "start_time": "2017-10-30T14:30:51.604777Z"
    }
   },
   "outputs": [
    {
     "ename": "ValueError",
     "evalue": "incompatible 'arg' type for given 'origin'='julian'",
     "output_type": "error",
     "traceback": [
      "\u001b[0;31m---------------------------------------------------------------------------\u001b[0m",
      "\u001b[0;31mValueError\u001b[0m                                Traceback (most recent call last)",
      "\u001b[0;32m<ipython-input-33-c0172f311683>\u001b[0m in \u001b[0;36m<module>\u001b[0;34m()\u001b[0m\n\u001b[0;32m----> 1\u001b[0;31m \u001b[0mqs\u001b[0m\u001b[0;34m[\u001b[0m\u001b[0;34m\"CreationDate_a\"\u001b[0m\u001b[0;34m]\u001b[0m \u001b[0;34m=\u001b[0m \u001b[0mpd\u001b[0m\u001b[0;34m.\u001b[0m\u001b[0mto_datetime\u001b[0m\u001b[0;34m(\u001b[0m\u001b[0mqs\u001b[0m\u001b[0;34m.\u001b[0m\u001b[0mCreationDate_a\u001b[0m\u001b[0;34m,\u001b[0m \u001b[0morigin\u001b[0m\u001b[0;34m=\u001b[0m\u001b[0;34m\"julian\"\u001b[0m\u001b[0;34m,\u001b[0m \u001b[0munit\u001b[0m\u001b[0;34m=\u001b[0m\u001b[0;34m\"D\"\u001b[0m\u001b[0;34m)\u001b[0m\u001b[0;34m\u001b[0m\u001b[0m\n\u001b[0m",
      "\u001b[0;32m/usr/lib/python2.7/site-packages/pandas/core/tools/datetimes.pyc\u001b[0m in \u001b[0;36mto_datetime\u001b[0;34m(arg, errors, dayfirst, yearfirst, utc, box, format, exact, unit, infer_datetime_format, origin)\u001b[0m\n\u001b[1;32m    460\u001b[0m             \u001b[0marg\u001b[0m \u001b[0;34m=\u001b[0m \u001b[0marg\u001b[0m \u001b[0;34m-\u001b[0m \u001b[0mj0\u001b[0m\u001b[0;34m\u001b[0m\u001b[0m\n\u001b[1;32m    461\u001b[0m         \u001b[0;32mexcept\u001b[0m\u001b[0;34m:\u001b[0m\u001b[0;34m\u001b[0m\u001b[0m\n\u001b[0;32m--> 462\u001b[0;31m             raise ValueError(\"incompatible 'arg' type for given \"\n\u001b[0m\u001b[1;32m    463\u001b[0m                              \"'origin'='julian'\")\n\u001b[1;32m    464\u001b[0m \u001b[0;34m\u001b[0m\u001b[0m\n",
      "\u001b[0;31mValueError\u001b[0m: incompatible 'arg' type for given 'origin'='julian'"
     ]
    }
   ],
   "source": [
    "qs[\"CreationDate_a\"] = pd.to_datetime(qs.CreationDate_a, origin=\"julian\", unit=\"D\")"
   ]
  },
  {
   "cell_type": "code",
   "execution_count": 32,
   "metadata": {
    "ExecuteTime": {
     "end_time": "2017-10-30T14:30:37.037362Z",
     "start_time": "2017-10-30T14:30:36.957339Z"
    }
   },
   "outputs": [
    {
     "ename": "ValueError",
     "evalue": "cannot assemble with duplicate keys",
     "output_type": "error",
     "traceback": [
      "\u001b[0;31m---------------------------------------------------------------------------\u001b[0m",
      "\u001b[0;31mValueError\u001b[0m                                Traceback (most recent call last)",
      "\u001b[0;32m<ipython-input-32-61ed6f30c36a>\u001b[0m in \u001b[0;36m<module>\u001b[0;34m()\u001b[0m\n\u001b[0;32m----> 1\u001b[0;31m \u001b[0mqs\u001b[0m\u001b[0;34m[\u001b[0m\u001b[0;34m\"CreationDate_acc\"\u001b[0m\u001b[0;34m]\u001b[0m \u001b[0;34m=\u001b[0m \u001b[0mpd\u001b[0m\u001b[0;34m.\u001b[0m\u001b[0mto_datetime\u001b[0m\u001b[0;34m(\u001b[0m\u001b[0mqs\u001b[0m\u001b[0;34m.\u001b[0m\u001b[0mCreationDate_acc\u001b[0m\u001b[0;34m,\u001b[0m \u001b[0morigin\u001b[0m\u001b[0;34m=\u001b[0m\u001b[0;34m\"julian\"\u001b[0m\u001b[0;34m,\u001b[0m \u001b[0munit\u001b[0m\u001b[0;34m=\u001b[0m\u001b[0;34m\"D\"\u001b[0m\u001b[0;34m)\u001b[0m\u001b[0;34m\u001b[0m\u001b[0m\n\u001b[0m",
      "\u001b[0;32m/usr/lib/python2.7/site-packages/pandas/core/tools/datetimes.pyc\u001b[0m in \u001b[0;36mto_datetime\u001b[0;34m(arg, errors, dayfirst, yearfirst, utc, box, format, exact, unit, infer_datetime_format, origin)\u001b[0m\n\u001b[1;32m    510\u001b[0m         \u001b[0mresult\u001b[0m \u001b[0;34m=\u001b[0m \u001b[0mSeries\u001b[0m\u001b[0;34m(\u001b[0m\u001b[0mvalues\u001b[0m\u001b[0;34m,\u001b[0m \u001b[0mindex\u001b[0m\u001b[0;34m=\u001b[0m\u001b[0marg\u001b[0m\u001b[0;34m.\u001b[0m\u001b[0mindex\u001b[0m\u001b[0;34m,\u001b[0m \u001b[0mname\u001b[0m\u001b[0;34m=\u001b[0m\u001b[0marg\u001b[0m\u001b[0;34m.\u001b[0m\u001b[0mname\u001b[0m\u001b[0;34m)\u001b[0m\u001b[0;34m\u001b[0m\u001b[0m\n\u001b[1;32m    511\u001b[0m     \u001b[0;32melif\u001b[0m \u001b[0misinstance\u001b[0m\u001b[0;34m(\u001b[0m\u001b[0marg\u001b[0m\u001b[0;34m,\u001b[0m \u001b[0;34m(\u001b[0m\u001b[0mABCDataFrame\u001b[0m\u001b[0;34m,\u001b[0m \u001b[0mMutableMapping\u001b[0m\u001b[0;34m)\u001b[0m\u001b[0;34m)\u001b[0m\u001b[0;34m:\u001b[0m\u001b[0;34m\u001b[0m\u001b[0m\n\u001b[0;32m--> 512\u001b[0;31m         \u001b[0mresult\u001b[0m \u001b[0;34m=\u001b[0m \u001b[0m_assemble_from_unit_mappings\u001b[0m\u001b[0;34m(\u001b[0m\u001b[0marg\u001b[0m\u001b[0;34m,\u001b[0m \u001b[0merrors\u001b[0m\u001b[0;34m=\u001b[0m\u001b[0merrors\u001b[0m\u001b[0;34m)\u001b[0m\u001b[0;34m\u001b[0m\u001b[0m\n\u001b[0m\u001b[1;32m    513\u001b[0m     \u001b[0;32melif\u001b[0m \u001b[0misinstance\u001b[0m\u001b[0;34m(\u001b[0m\u001b[0marg\u001b[0m\u001b[0;34m,\u001b[0m \u001b[0mABCIndexClass\u001b[0m\u001b[0;34m)\u001b[0m\u001b[0;34m:\u001b[0m\u001b[0;34m\u001b[0m\u001b[0m\n\u001b[1;32m    514\u001b[0m         \u001b[0mresult\u001b[0m \u001b[0;34m=\u001b[0m \u001b[0m_convert_listlike\u001b[0m\u001b[0;34m(\u001b[0m\u001b[0marg\u001b[0m\u001b[0;34m,\u001b[0m \u001b[0mbox\u001b[0m\u001b[0;34m,\u001b[0m \u001b[0mformat\u001b[0m\u001b[0;34m,\u001b[0m \u001b[0mname\u001b[0m\u001b[0;34m=\u001b[0m\u001b[0marg\u001b[0m\u001b[0;34m.\u001b[0m\u001b[0mname\u001b[0m\u001b[0;34m)\u001b[0m\u001b[0;34m\u001b[0m\u001b[0m\n",
      "\u001b[0;32m/usr/lib/python2.7/site-packages/pandas/core/tools/datetimes.pyc\u001b[0m in \u001b[0;36m_assemble_from_unit_mappings\u001b[0;34m(arg, errors)\u001b[0m\n\u001b[1;32m    567\u001b[0m     \u001b[0marg\u001b[0m \u001b[0;34m=\u001b[0m \u001b[0mDataFrame\u001b[0m\u001b[0;34m(\u001b[0m\u001b[0marg\u001b[0m\u001b[0;34m)\u001b[0m\u001b[0;34m\u001b[0m\u001b[0m\n\u001b[1;32m    568\u001b[0m     \u001b[0;32mif\u001b[0m \u001b[0;32mnot\u001b[0m \u001b[0marg\u001b[0m\u001b[0;34m.\u001b[0m\u001b[0mcolumns\u001b[0m\u001b[0;34m.\u001b[0m\u001b[0mis_unique\u001b[0m\u001b[0;34m:\u001b[0m\u001b[0;34m\u001b[0m\u001b[0m\n\u001b[0;32m--> 569\u001b[0;31m         \u001b[0;32mraise\u001b[0m \u001b[0mValueError\u001b[0m\u001b[0;34m(\u001b[0m\u001b[0;34m\"cannot assemble with duplicate keys\"\u001b[0m\u001b[0;34m)\u001b[0m\u001b[0;34m\u001b[0m\u001b[0m\n\u001b[0m\u001b[1;32m    570\u001b[0m \u001b[0;34m\u001b[0m\u001b[0m\n\u001b[1;32m    571\u001b[0m     \u001b[0;31m# replace passed unit with _unit_map\u001b[0m\u001b[0;34m\u001b[0m\u001b[0;34m\u001b[0m\u001b[0m\n",
      "\u001b[0;31mValueError\u001b[0m: cannot assemble with duplicate keys"
     ]
    }
   ],
   "source": [
    "qs[\"CreationDate_acc\"] = pd.to_datetime(qs.CreationDate_acc, origin=\"julian\", unit=\"D\")"
   ]
  },
  {
   "cell_type": "code",
   "execution_count": 30,
   "metadata": {
    "ExecuteTime": {
     "end_time": "2017-10-30T14:29:50.793204Z",
     "start_time": "2017-10-30T14:29:50.719903Z"
    }
   },
   "outputs": [],
   "source": [
    "# time between questions posing and first answer\n",
    "dtanswer = qs.CreationDate_a - qs.CreationDate"
   ]
  },
  {
   "cell_type": "code",
   "execution_count": 31,
   "metadata": {
    "ExecuteTime": {
     "end_time": "2017-10-30T14:29:57.767498Z",
     "start_time": "2017-10-30T14:29:55.335318Z"
    }
   },
   "outputs": [
    {
     "name": "stderr",
     "output_type": "stream",
     "text": [
      "/usr/lib/python2.7/site-packages/numpy/lib/function_base.py:748: RuntimeWarning: invalid value encountered in greater_equal\n",
      "  keep = (tmp_a >= mn)\n",
      "/usr/lib/python2.7/site-packages/numpy/lib/function_base.py:749: RuntimeWarning: invalid value encountered in less_equal\n",
      "  keep &= (tmp_a <= mx)\n"
     ]
    },
    {
     "data": {
      "image/png": "[encoded data removed]",
      "text/plain": [
       "<matplotlib.figure.Figure at 0x7f9169724ed0>"
      ]
     },
     "metadata": {},
     "output_type": "display_data"
    }
   ],
   "source": [
    "from pyik.fit import ChiSquareFunction\n",
    "from pyik.numpyext import centers\n",
    "\n",
    "dthours = dtanswer.dt.total_seconds() * 1. / 60 / 60\n",
    "dtcont = np.linspace(0, 14 * 24, 1000)\n",
    "\n",
    "counts, e = np.histogram(dthours, range=(0, 24 * 14), bins=24 * 14)\n",
    "cens = centers(e)[0]\n",
    "\n",
    "# print counts, cens\n",
    "\n",
    "fitmodel = lambda dt, pars: 10 ** (pars[0] - dt * pars[1]) + 10 ** (pars[2] - dt * pars[3])\n",
    "# fitmodel = lambda dt, pars: np.e ** pars[0] * dt ** pars[1]\n",
    "chi2fct = ChiSquareFunction(fitmodel, counts, cens, yerrs=np.sqrt(counts))\n",
    "#pars, cov, chi2, ndof = chi2fct.Minimize(np.asfarray([2, 0.1, 5.3, 0.13]), \n",
    "#                                         lower_bounds=np.asfarray([1, 0.01, 5, 0.05]),\n",
    "#                                         upper_bounds=np.asfarray([3, 0.2, 6, 0.3]),\n",
    "#                                         method=\"PRAXIS\")\n",
    "\n",
    "plt.figure(figsize=(8, 6))\n",
    "plt.xlabel(r\"Time between question and answer in hours\")\n",
    "plt.ylabel(r\"Counts\")\n",
    "plt.hist(dthours, bins=24 * 14,\n",
    "         color=\"k\", alpha=0.8, range=(0, 14 * 24),\n",
    "         histtype=\"step\", lw=2)\n",
    "\n",
    "#plt.plot(dtcont, fitmodel(dtcont, pars), \"r-\", lw=2)\n",
    "\n",
    "plt.semilogy(nonposy=\"clip\")\n",
    "plt.savefig(\"./plots/dtanswer_hist.pdf\")"
   ]
  },
  {
   "cell_type": "code",
   "execution_count": 164,
   "metadata": {},
   "outputs": [
    {
     "data": {
      "text/plain": [
       "array([  2.14989868e+00,   5.78100914e-06,   5.20001677e+00,\n",
       "         1.43188132e-01])"
      ]
     },
     "execution_count": 164,
     "metadata": {},
     "output_type": "execute_result"
    }
   ],
   "source": [
    "pars"
   ]
  },
  {
   "cell_type": "code",
   "execution_count": null,
   "metadata": {},
   "outputs": [],
   "source": [
    "# really, answer come so quick\n",
    "qs[dtanswer.dt.total_seconds() < 60][[\"Id\", \"CreationDate\", \"CreationDate_a\"]].head()"
   ]
  },
  {
   "cell_type": "code",
   "execution_count": null,
   "metadata": {},
   "outputs": [],
   "source": [
    "QuickSlicePlot(qs.Score, dtanswer.dt.total_seconds() * 1. / 60 / 60, qs.AnswerCount, zbins=1, xbins=20, yrange=[0, 200])"
   ]
  },
  {
   "cell_type": "code",
   "execution_count": 299,
   "metadata": {},
   "outputs": [],
   "source": [
    "# scikitlearn import\n",
    "from sklearn import base\n",
    "from sklearn.linear_model import Ridge\n",
    "from sklearn.pipeline import Pipeline\n",
    "from sklearn import model_selection\n",
    "from scipy import stats\n",
    "from sklearn.feature_extraction import DictVectorizer\n",
    "from sklearn.feature_extraction.text import TfidfTransformer\n",
    "from sklearn.svm import SVR\n",
    "from sklearn.preprocessing import PolynomialFeatures\n",
    "from sklearn.neural_network import MLPRegressor\n",
    "from sklearn.ensemble import RandomForestRegressor\n",
    "from sklearn.linear_model import LogisticRegression"
   ]
  },
  {
   "cell_type": "code",
   "execution_count": 247,
   "metadata": {},
   "outputs": [],
   "source": [
    "class ColumnSelectTransformer(base.BaseEstimator, base.TransformerMixin):\n",
    "    \n",
    "    def __init__(self, col_names):\n",
    "        self.col_names = col_names  # We will need these in transform()\n",
    "    \n",
    "    def fit(self, X, y=None):\n",
    "        # This transformer doesn't need to learn anything about the data,\n",
    "        # so it can just return self without any further processing\n",
    "        return self\n",
    "    \n",
    "    def transform(self, X):\n",
    "        return X[self.col_names]"
   ]
  },
  {
   "cell_type": "code",
   "execution_count": 270,
   "metadata": {},
   "outputs": [],
   "source": [
    "from collections import Counter\n",
    "\n",
    "class DictEncoder(base.BaseEstimator, base.TransformerMixin):\n",
    "    \n",
    "    def __init__(self, col_name):\n",
    "        self.col_name = col_name\n",
    "    \n",
    "    def fit(self, X, y=None):\n",
    "        return self\n",
    "    \n",
    "    def transform(self, X):\n",
    "        a = X[self.col_name].apply(Counter)\n",
    "        return a"
   ]
  },
  {
   "cell_type": "code",
   "execution_count": 249,
   "metadata": {},
   "outputs": [
    {
     "name": "stdout",
     "output_type": "stream",
     "text": [
      "668019\n"
     ]
    }
   ],
   "source": [
    "print len(qs)"
   ]
  },
  {
   "cell_type": "code",
   "execution_count": 341,
   "metadata": {},
   "outputs": [
    {
     "name": "stdout",
     "output_type": "stream",
     "text": [
      "668019\n"
     ]
    }
   ],
   "source": [
    "traincut = 300000\n",
    "qs = shuffle(qs)\n",
    "print len(qs)\n",
    " \n",
    "# e.g. for regression\n",
    "#labels = qs.AnswerCount\n",
    "\n",
    "# e.g. classification, i.e. logistic regression\n",
    "labels = qs.hasAnswers"
   ]
  },
  {
   "cell_type": "code",
   "execution_count": 399,
   "metadata": {},
   "outputs": [
    {
     "name": "stdout",
     "output_type": "stream",
     "text": [
      "[[False  True]\n",
      " [False False]\n",
      " [False False]\n",
      " ..., \n",
      " [False False]\n",
      " [False False]\n",
      " [ True  True]]\n",
      "184009.5 368019\n",
      "245743\n",
      "0.667745415318\n"
     ]
    }
   ],
   "source": [
    "pipe_tags = Pipeline([\n",
    "         (\"cst\", ColumnSelectTransformer([\"Tags\"])),\n",
    "         (\"dec\", DictEncoder(\"Tags\")),\n",
    "         (\"dvec\", DictVectorizer(sparse=True)),\n",
    "         (\"tfid\", TfidfTransformer()),\n",
    "#        (\"poly\", PolynomialFeatures(degree=2)),  # not working???\n",
    "#        (\"ridge\", Ridge(alpha=10.0))\n",
    "         (\"logi\", LogisticRegression())\n",
    "#        (\"kridge\", KernelRidge(alpha=1.))  # runs out of memory quickly while fitting...\n",
    "#        (\"svr\", SVR())\n",
    "    ])\n",
    "\n",
    "pipe_tags.fit(qs.iloc[:traincut], labels.iloc[:traincut])\n",
    "pred = pipe_tags.predict(qs.iloc[traincut:])\n",
    "print np.column_stack((pred, labels.iloc[traincut:]))\n",
    "print labels.iloc[traincut:].shape[0] * 1. / 2, labels.iloc[traincut:].shape[0]\n",
    "print np.sum(pred == labels.iloc[traincut:])\n",
    "print pipe_tags.score(qs.iloc[traincut:], labels.iloc[traincut:])"
   ]
  },
  {
   "cell_type": "code",
   "execution_count": 260,
   "metadata": {},
   "outputs": [
    {
     "data": {
      "text/plain": [
       "{'alpha': 10.0,\n",
       " 'copy_X': True,\n",
       " 'fit_intercept': True,\n",
       " 'max_iter': None,\n",
       " 'normalize': False,\n",
       " 'random_state': None,\n",
       " 'solver': 'auto',\n",
       " 'tol': 0.001}"
      ]
     },
     "execution_count": 260,
     "metadata": {},
     "output_type": "execute_result"
    }
   ],
   "source": [
    "pipe_tags.named_steps[\"ridge\"].get_params()"
   ]
  },
  {
   "cell_type": "code",
   "execution_count": 344,
   "metadata": {},
   "outputs": [
    {
     "data": {
      "text/plain": [
       "224875     2;6;11;15;61;83;136;178;242;275;433;561;672;3644\n",
       "434387    3;9;13;15;21;218;245;253;339;358;498;618;686;1...\n",
       "22259     2;11;12;21;30;33;51;53;67;96;120;166;211;213;2...\n",
       "311649    1;23;26;43;53;56;71;87;156;226;233;331;370;374...\n",
       "392468               1;3;4;5;25;51;53;60;78;155;157;177;377\n",
       "Name: hot_indices, dtype: object"
      ]
     },
     "execution_count": 344,
     "metadata": {},
     "output_type": "execute_result"
    }
   ],
   "source": [
    "qs.columns\n",
    "qs.hot_indices.head()"
   ]
  },
  {
   "cell_type": "code",
   "execution_count": 398,
   "metadata": {},
   "outputs": [
    {
     "name": "stdout",
     "output_type": "stream",
     "text": [
      "[[False  True]\n",
      " [ True False]\n",
      " [False False]\n",
      " ..., \n",
      " [False False]\n",
      " [False False]\n",
      " [False  True]]\n",
      "184009.5 368019\n",
      "209397\n",
      "0.568984210054\n"
     ]
    }
   ],
   "source": [
    "pipe_words = Pipeline([\n",
    "        (\"cst\", ColumnSelectTransformer([\"hot_indices\"])),\n",
    "        (\"dec\", DictEncoder(\"hot_indices\")),\n",
    "        (\"dvec\", DictVectorizer(sparse=True)),\n",
    "        (\"tfid\", TfidfTransformer()),\n",
    "#        (\"ridge\", Ridge(alpha=1.0))\n",
    "        (\"logi\", LogisticRegression())\n",
    "    ])\n",
    "\n",
    "pipe_words.fit(qs.iloc[:traincut], labels.iloc[:traincut])\n",
    "pred = pipe_words.predict(qs.iloc[traincut:])\n",
    "print np.column_stack((pred, labels.iloc[traincut:]))\n",
    "print labels.iloc[traincut:].shape[0] * 1. / 2, labels.iloc[traincut:].shape[0]\n",
    "print np.sum(pred == labels.iloc[traincut:])\n",
    "print pipe_words.score(qs.iloc[traincut:], labels.iloc[traincut:])"
   ]
  },
  {
   "cell_type": "code",
   "execution_count": null,
   "metadata": {},
   "outputs": [],
   "source": [
    "cv = model_selection.ShuffleSplit(n_splits=20, test_size=0.2, random_state=42)\n",
    "def compute_error(est, X, y):\n",
    "    return -model_selection.cross_val_score(est, X, y, cv=cv, scoring='neg_mean_squared_error').mean()"
   ]
  },
  {
   "cell_type": "code",
   "execution_count": 290,
   "metadata": {},
   "outputs": [
    {
     "data": {
      "text/plain": [
       "Index([u'AcceptedAnswerId', u'AnswerCount', u'BodyNCodes', u'BodyNQMarks',\n",
       "       u'BodySize', u'ClosedDate', u'CommentCount', u'CommunityOwnedDate',\n",
       "       u'CreationDate', u'FavoriteCount', u'Id', u'LastActivityDate',\n",
       "       u'LastEditDate', u'LastEditorUserId', u'OwnerUserId', u'ParentId',\n",
       "       u'PostTypeId', u'Score', u'Tags', u'Title', u'ViewCount', u'Id_r',\n",
       "       u'hot_indices', u'nwords', u'ordersum', u'prob_bern', u'prob_poiss',\n",
       "       u'ratio', u'hasAnswers', u'dt_created', u'AcceptedAnswerId_a',\n",
       "       u'AnswerCount_a', u'BodyNCodes_a', u'BodyNQMarks_a', u'BodySize_a',\n",
       "       u'ClosedDate_a', u'CommentCount_a', u'CommunityOwnedDate_a',\n",
       "       u'CreationDate_a', u'FavoriteCount_a', u'Id_a', u'LastActivityDate_a',\n",
       "       u'LastEditDate_a', u'LastEditorUserId_a', u'OwnerUserId_a',\n",
       "       u'ParentId_a', u'PostTypeId_a', u'Score_a', u'Tags_a', u'Title_a',\n",
       "       u'ViewCount_a'],\n",
       "      dtype='object')"
      ]
     },
     "execution_count": 290,
     "metadata": {},
     "output_type": "execute_result"
    }
   ],
   "source": [
    "qs.columns"
   ]
  },
  {
   "cell_type": "code",
   "execution_count": 346,
   "metadata": {},
   "outputs": [],
   "source": [
    "qs[\"titlelen\"] = qs[\"Title\"].apply(len)"
   ]
  },
  {
   "cell_type": "code",
   "execution_count": 348,
   "metadata": {},
   "outputs": [
    {
     "data": {
      "text/html": [
       "<div>\n",
       "<style>\n",
       "    .dataframe thead tr:only-child th {\n",
       "        text-align: right;\n",
       "    }\n",
       "\n",
       "    .dataframe thead th {\n",
       "        text-align: left;\n",
       "    }\n",
       "\n",
       "    .dataframe tbody tr th {\n",
       "        vertical-align: top;\n",
       "    }\n",
       "</style>\n",
       "<table border=\"1\" class=\"dataframe\">\n",
       "  <thead>\n",
       "    <tr style=\"text-align: right;\">\n",
       "      <th></th>\n",
       "      <th>BodyNCodes</th>\n",
       "      <th>BodyNQMarks</th>\n",
       "      <th>BodySize</th>\n",
       "      <th>nwords</th>\n",
       "      <th>ratio</th>\n",
       "      <th>prob_bern</th>\n",
       "      <th>ordersum</th>\n",
       "      <th>titlelen</th>\n",
       "    </tr>\n",
       "  </thead>\n",
       "  <tbody>\n",
       "    <tr>\n",
       "      <th>224875</th>\n",
       "      <td>1</td>\n",
       "      <td>0</td>\n",
       "      <td>1366</td>\n",
       "      <td>22</td>\n",
       "      <td>0.266667</td>\n",
       "      <td>1.815438e-23</td>\n",
       "      <td>6319</td>\n",
       "      <td>138</td>\n",
       "    </tr>\n",
       "    <tr>\n",
       "      <th>434387</th>\n",
       "      <td>1</td>\n",
       "      <td>1</td>\n",
       "      <td>3176</td>\n",
       "      <td>33</td>\n",
       "      <td>0.611111</td>\n",
       "      <td>1.090123e-37</td>\n",
       "      <td>17431</td>\n",
       "      <td>32</td>\n",
       "    </tr>\n",
       "    <tr>\n",
       "      <th>22259</th>\n",
       "      <td>1</td>\n",
       "      <td>66</td>\n",
       "      <td>11160</td>\n",
       "      <td>56</td>\n",
       "      <td>0.393939</td>\n",
       "      <td>5.871084e-57</td>\n",
       "      <td>25936</td>\n",
       "      <td>50</td>\n",
       "    </tr>\n",
       "    <tr>\n",
       "      <th>311649</th>\n",
       "      <td>0</td>\n",
       "      <td>0</td>\n",
       "      <td>682</td>\n",
       "      <td>58</td>\n",
       "      <td>0.315789</td>\n",
       "      <td>7.922422e-61</td>\n",
       "      <td>31796</td>\n",
       "      <td>74</td>\n",
       "    </tr>\n",
       "    <tr>\n",
       "      <th>392468</th>\n",
       "      <td>2</td>\n",
       "      <td>1</td>\n",
       "      <td>536</td>\n",
       "      <td>16</td>\n",
       "      <td>0.555556</td>\n",
       "      <td>2.841112e-18</td>\n",
       "      <td>1146</td>\n",
       "      <td>34</td>\n",
       "    </tr>\n",
       "  </tbody>\n",
       "</table>\n",
       "</div>"
      ],
      "text/plain": [
       "        BodyNCodes  BodyNQMarks  BodySize  nwords     ratio     prob_bern  \\\n",
       "224875           1            0      1366      22  0.266667  1.815438e-23   \n",
       "434387           1            1      3176      33  0.611111  1.090123e-37   \n",
       "22259            1           66     11160      56  0.393939  5.871084e-57   \n",
       "311649           0            0       682      58  0.315789  7.922422e-61   \n",
       "392468           2            1       536      16  0.555556  2.841112e-18   \n",
       "\n",
       "        ordersum  titlelen  \n",
       "224875      6319       138  \n",
       "434387     17431        32  \n",
       "22259      25936        50  \n",
       "311649     31796        74  \n",
       "392468      1146        34  "
      ]
     },
     "execution_count": 348,
     "metadata": {},
     "output_type": "execute_result"
    }
   ],
   "source": [
    "qs.columns\n",
    "qs[[\"BodyNCodes\", \"BodyNQMarks\", \"BodySize\", \"nwords\", \"ratio\",\n",
    "                                         \"prob_bern\", \"ordersum\", \"titlelen\"]].head()"
   ]
  },
  {
   "cell_type": "code",
   "execution_count": 349,
   "metadata": {},
   "outputs": [
    {
     "name": "stdout",
     "output_type": "stream",
     "text": [
      "BodyNCodes [  0.  15.]\n",
      "BodyNQMarks [  0.  10.]\n",
      "BodySize [   165.    10486.64]\n",
      "nwords [   7.  152.]\n",
      "ratio [ 0.11111111  1.5       ]\n",
      "prob_bern [  9.26546984e-82   1.74969467e-11]\n",
      "ordersum [   941.    47263.64]\n",
      "titlelen [  20.  119.]\n"
     ]
    }
   ],
   "source": [
    "cols = [\"BodyNCodes\", \"BodyNQMarks\", \"BodySize\", \"nwords\", \"ratio\", \"prob_bern\", \"ordersum\", \"titlelen\"]\n",
    "# normalize columns\n",
    "for col in cols:\n",
    "    quants = qs[col].quantile([0.01, 0.99]).values\n",
    "    print col, quants\n",
    "    qs[\"%s_norm\" % col] = (qs[col] - quants[0]) / (quants[1] - quants[0])"
   ]
  },
  {
   "cell_type": "code",
   "execution_count": 350,
   "metadata": {},
   "outputs": [
    {
     "data": {
      "text/html": [
       "<div>\n",
       "<style>\n",
       "    .dataframe thead tr:only-child th {\n",
       "        text-align: right;\n",
       "    }\n",
       "\n",
       "    .dataframe thead th {\n",
       "        text-align: left;\n",
       "    }\n",
       "\n",
       "    .dataframe tbody tr th {\n",
       "        vertical-align: top;\n",
       "    }\n",
       "</style>\n",
       "<table border=\"1\" class=\"dataframe\">\n",
       "  <thead>\n",
       "    <tr style=\"text-align: right;\">\n",
       "      <th></th>\n",
       "      <th>BodyNCodes_norm</th>\n",
       "      <th>BodyNQMarks_norm</th>\n",
       "      <th>BodySize_norm</th>\n",
       "      <th>nwords_norm</th>\n",
       "      <th>ratio_norm</th>\n",
       "      <th>prob_bern_norm</th>\n",
       "      <th>ordersum_norm</th>\n",
       "      <th>titlelen_norm</th>\n",
       "    </tr>\n",
       "  </thead>\n",
       "  <tbody>\n",
       "    <tr>\n",
       "      <th>224875</th>\n",
       "      <td>0.066667</td>\n",
       "      <td>0.0</td>\n",
       "      <td>0.116357</td>\n",
       "      <td>0.103448</td>\n",
       "      <td>0.112000</td>\n",
       "      <td>1.037574e-12</td>\n",
       "      <td>0.116099</td>\n",
       "      <td>1.191919</td>\n",
       "    </tr>\n",
       "    <tr>\n",
       "      <th>434387</th>\n",
       "      <td>0.066667</td>\n",
       "      <td>0.1</td>\n",
       "      <td>0.291717</td>\n",
       "      <td>0.179310</td>\n",
       "      <td>0.360000</td>\n",
       "      <td>6.230361e-27</td>\n",
       "      <td>0.355981</td>\n",
       "      <td>0.121212</td>\n",
       "    </tr>\n",
       "    <tr>\n",
       "      <th>22259</th>\n",
       "      <td>0.066667</td>\n",
       "      <td>6.6</td>\n",
       "      <td>1.065238</td>\n",
       "      <td>0.337931</td>\n",
       "      <td>0.203636</td>\n",
       "      <td>3.355491e-46</td>\n",
       "      <td>0.539585</td>\n",
       "      <td>0.303030</td>\n",
       "    </tr>\n",
       "    <tr>\n",
       "      <th>311649</th>\n",
       "      <td>0.000000</td>\n",
       "      <td>0.0</td>\n",
       "      <td>0.050089</td>\n",
       "      <td>0.351724</td>\n",
       "      <td>0.147368</td>\n",
       "      <td>4.527889e-50</td>\n",
       "      <td>0.666089</td>\n",
       "      <td>0.545455</td>\n",
       "    </tr>\n",
       "    <tr>\n",
       "      <th>392468</th>\n",
       "      <td>0.133333</td>\n",
       "      <td>0.1</td>\n",
       "      <td>0.035944</td>\n",
       "      <td>0.062069</td>\n",
       "      <td>0.320000</td>\n",
       "      <td>1.623776e-07</td>\n",
       "      <td>0.004425</td>\n",
       "      <td>0.141414</td>\n",
       "    </tr>\n",
       "  </tbody>\n",
       "</table>\n",
       "</div>"
      ],
      "text/plain": [
       "        BodyNCodes_norm  BodyNQMarks_norm  BodySize_norm  nwords_norm  \\\n",
       "224875         0.066667               0.0       0.116357     0.103448   \n",
       "434387         0.066667               0.1       0.291717     0.179310   \n",
       "22259          0.066667               6.6       1.065238     0.337931   \n",
       "311649         0.000000               0.0       0.050089     0.351724   \n",
       "392468         0.133333               0.1       0.035944     0.062069   \n",
       "\n",
       "        ratio_norm  prob_bern_norm  ordersum_norm  titlelen_norm  \n",
       "224875    0.112000    1.037574e-12       0.116099       1.191919  \n",
       "434387    0.360000    6.230361e-27       0.355981       0.121212  \n",
       "22259     0.203636    3.355491e-46       0.539585       0.303030  \n",
       "311649    0.147368    4.527889e-50       0.666089       0.545455  \n",
       "392468    0.320000    1.623776e-07       0.004425       0.141414  "
      ]
     },
     "execution_count": 350,
     "metadata": {},
     "output_type": "execute_result"
    }
   ],
   "source": [
    "qs[[\"BodyNCodes_norm\", \"BodyNQMarks_norm\", \"BodySize_norm\", \"nwords_norm\", \"ratio_norm\",\n",
    "                                         \"prob_bern_norm\", \"ordersum_norm\", \"titlelen_norm\"]].head()"
   ]
  },
  {
   "cell_type": "code",
   "execution_count": 368,
   "metadata": {},
   "outputs": [],
   "source": [
    "qs[\"ordersum_norm_trafo\"] = 1. / qs.ordersum_norm\n",
    "qs[\"titlelen_norm_trafo\"] = 1. / qs.titlelen_norm"
   ]
  },
  {
   "cell_type": "code",
   "execution_count": 397,
   "metadata": {},
   "outputs": [
    {
     "name": "stdout",
     "output_type": "stream",
     "text": [
      "[[False  True]\n",
      " [ True False]\n",
      " [False False]\n",
      " ..., \n",
      " [False False]\n",
      " [False False]\n",
      " [ True  True]]\n",
      "184009.5 368019\n",
      "213209\n",
      "0.57934237091\n",
      "[[ 0.63414269  0.36585731]\n",
      " [ 0.37343903  0.62656097]\n",
      " [ 0.62905884  0.37094116]\n",
      " ..., \n",
      " [ 0.54867436  0.45132564]\n",
      " [ 0.72713997  0.27286003]\n",
      " [ 0.41362319  0.58637681]]\n"
     ]
    }
   ],
   "source": [
    "labels = qs.hasAnswers\n",
    "\n",
    "pipe_feat = Pipeline([\n",
    "#        (\"cst\", ColumnSelectTransformer([\"BodyNCodes_norm\", \"BodyNQMarks_norm\", \"BodySize_norm\", \"nwords_norm\", \"ratio_norm\",\n",
    "#                                         \"prob_bern_norm\", \"ordersum_norm\", \"titlelen_norm\"])),\n",
    "         (\"cst\", ColumnSelectTransformer([\"BodyNCodes_norm\", \"BodyNQMarks_norm\", \"nwords_norm\", \"BodySize_norm\",\n",
    "                                          \"ratio_norm\", \"ordersum_norm\", \"titlelen_norm\"])),\n",
    "         (\"poly\", PolynomialFeatures(degree=2)),\n",
    "#        (\"ridge\", Ridge(alpha=1.0))\n",
    "         (\"logi\", LogisticRegression())\n",
    "    ])\n",
    "\n",
    "pipe_feat.fit(qs.iloc[:traincut], labels.iloc[:traincut])\n",
    "pred = pipe_feat.predict(qs.iloc[traincut:])\n",
    "print np.column_stack((pred, labels.iloc[traincut:]))\n",
    "print labels.iloc[traincut:].shape[0] * 1. / 2, labels.iloc[traincut:].shape[0]\n",
    "print np.sum(pred == labels.iloc[traincut:])\n",
    "print pipe_feat.score(qs.iloc[traincut:], labels.iloc[traincut:])\n",
    "print pipe_feat.predict_proba(qs.iloc[traincut:])\n",
    "\n",
    "# print compute_error(pipe_feat, qs, qs.AnswerCount)"
   ]
  },
  {
   "cell_type": "code",
   "execution_count": 406,
   "metadata": {},
   "outputs": [
    {
     "name": "stdout",
     "output_type": "stream",
     "text": [
      "[[False  True]\n",
      " [False False]\n",
      " [False False]\n",
      " ..., \n",
      " [False False]\n",
      " [False False]\n",
      " [False  True]]\n",
      "184009.5 368019\n",
      "207516 0.563873060902\n",
      "0.57934237091\n",
      "[[ 0.63414269  0.36585731]\n",
      " [ 0.37343903  0.62656097]\n",
      " [ 0.62905884  0.37094116]\n",
      " ..., \n",
      " [ 0.54867436  0.45132564]\n",
      " [ 0.72713997  0.27286003]\n",
      " [ 0.41362319  0.58637681]]\n",
      "(368019, 2)\n"
     ]
    }
   ],
   "source": [
    "labels = qs.hasAnswers\n",
    "\n",
    "pipe_prob = Pipeline([\n",
    "         (\"cst\", ColumnSelectTransformer([\"prob_bern_norm\"])),\n",
    "         (\"logi\", LogisticRegression())\n",
    "    ])\n",
    "\n",
    "pipe_prob.fit(qs.iloc[:traincut], labels.iloc[:traincut])\n",
    "pred = pipe_prob.predict(qs.iloc[traincut:])\n",
    "print np.column_stack((pred, labels.iloc[traincut:]))\n",
    "print labels.iloc[traincut:].shape[0] * 1. / 2, labels.iloc[traincut:].shape[0]\n",
    "print np.sum(pred == labels.iloc[traincut:]), np.sum(pred == labels.iloc[traincut:]) * 1. / labels.iloc[traincut:].shape[0]\n",
    "print pipe_feat.score(qs.iloc[traincut:], labels.iloc[traincut:])\n",
    "print pipe_feat.predict_proba(qs.iloc[traincut:])\n",
    "print pipe_feat.predict_proba(qs.iloc[traincut:]).shape\n",
    "\n",
    "# print compute_error(pipe_feat, qs, qs.AnswerCount)"
   ]
  },
  {
   "cell_type": "code",
   "execution_count": 401,
   "metadata": {},
   "outputs": [],
   "source": [
    "class EstimatorTransformer(base.BaseEstimator, base.TransformerMixin):\n",
    "    \n",
    "    def __init__(self, estimator):\n",
    "        self.estimator = estimator\n",
    "    \n",
    "    def fit(self, X, y):\n",
    "        self.estimator.fit(X, y)\n",
    "        return self\n",
    "    \n",
    "    def transform(self, X):\n",
    "        # Use predict on the stored estimator as a \"transformation\".\n",
    "        # Be sure to return a 2-D array.\n",
    "        return [[x] for x in self.estimator.predict(X)]"
   ]
  },
  {
   "cell_type": "code",
   "execution_count": 402,
   "metadata": {},
   "outputs": [],
   "source": [
    "from sklearn.pipeline import FeatureUnion\n",
    "\n",
    "union = FeatureUnion([\n",
    "        (\"tags\", EstimatorTransformer(pipe_tags)),\n",
    "        (\"words\", EstimatorTransformer(pipe_words)),\n",
    "        (\"feat\", EstimatorTransformer(pipe_feat)),\n",
    "        (\"prob\", EstimatorTransformer(pipe_prob))\n",
    "        ])"
   ]
  },
  {
   "cell_type": "code",
   "execution_count": 395,
   "metadata": {},
   "outputs": [],
   "source": [
    "class CustomCombiner(base.BaseEstimator, base.TransformerMixin):\n",
    "    \n",
    "    def fit(self, X, y=None):\n",
    "        return self\n",
    "    \n",
    "    def transform(self, X):\n",
    "        return np.around(np.mean(X, axis=0))"
   ]
  },
  {
   "cell_type": "code",
   "execution_count": 403,
   "metadata": {},
   "outputs": [
    {
     "name": "stdout",
     "output_type": "stream",
     "text": [
      "[[ 0.  1.]\n",
      " [ 0.  0.]\n",
      " [ 0.  0.]\n",
      " ..., \n",
      " [ 0.  0.]\n",
      " [ 0.  0.]\n",
      " [ 1.  1.]]\n",
      "184009.5 368019\n",
      "245743 0.667745415318\n",
      "0.57934237091\n"
     ]
    }
   ],
   "source": [
    "pipe_all = Pipeline([\n",
    "         (\"union\", union),\n",
    "         (\"ridge\", Ridge(alpha=3.0))\n",
    "         #(\"comb\", CustomCombiner())\n",
    "    ])\n",
    "\n",
    "pipe_all.fit(qs.iloc[:traincut], labels.iloc[:traincut])\n",
    "pred = np.around(pipe_all.predict(qs.iloc[traincut:]))\n",
    "print np.column_stack((pred, labels.iloc[traincut:]))\n",
    "print labels.iloc[traincut:].shape[0] * 1. / 2, labels.iloc[traincut:].shape[0]\n",
    "print np.sum(pred == labels.iloc[traincut:]), np.sum(pred == labels.iloc[traincut:]) * 1. / labels.iloc[traincut:].shape[0]\n",
    "print pipe_feat.score(qs.iloc[traincut:], labels.iloc[traincut:])\n",
    "# print pipe_feat.predict_proba(qs.iloc[traincut:])"
   ]
  },
  {
   "cell_type": "code",
   "execution_count": null,
   "metadata": {},
   "outputs": [],
   "source": []
  }
 ],
 "metadata": {
  "kernelspec": {
   "display_name": "Python 2",
   "language": "python",
   "name": "python2"
  },
  "language_info": {
   "codemirror_mode": {
    "name": "ipython",
    "version": 2
   },
   "file_extension": ".py",
   "mimetype": "text/x-python",
   "name": "python",
   "nbconvert_exporter": "python",
   "pygments_lexer": "ipython2",
   "version": "2.7.14"
  }
 },
 "nbformat": 4,
 "nbformat_minor": 2
}
