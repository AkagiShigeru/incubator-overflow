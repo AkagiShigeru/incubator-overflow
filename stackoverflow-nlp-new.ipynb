{
 "cells": [
  {
   "cell_type": "code",
   "execution_count": null,
   "metadata": {},
   "outputs": [],
   "source": [
    "%matplotlib inline\n",
    "import pandas as pd\n",
    "import numpy as np\n",
    "# import seaborn as sns\n",
    "from pyik.mplext import ViolinPlot\n",
    "from matplotlib import pyplot as plt\n",
    "from matplotlib.ticker import MultipleLocator, FormatStrFormatter\n",
    "import sqlite3\n",
    "\n",
    "from pyik.mplext import ViolinPlot\n",
    "from util_general import QuickSlicePlot"
   ]
  },
  {
   "cell_type": "code",
   "execution_count": null,
   "metadata": {},
   "outputs": [],
   "source": [
    "posts_path = \"/home/alex/data/stackexchange/overflow/caches/posts.db\"\n",
    "meta_path = \"/home/alex/data/stackexchange/overflow/caches/posts_2017.hdf5\"\n",
    "word_dict_path = \"./dictionaries/words_2017.hdf5\"\n",
    "word_list_path = \"./words/features_2017.hdf5\""
   ]
  },
  {
   "cell_type": "code",
   "execution_count": null,
   "metadata": {},
   "outputs": [],
   "source": [
    "conn = sqlite3.connect(posts_path)"
   ]
  },
  {
   "cell_type": "code",
   "execution_count": null,
   "metadata": {},
   "outputs": [],
   "source": [
    "store_meta = pd.HDFStore(meta_path, \"r\", complib=\"blosc\", complevel=9)\n",
    "store_dict = pd.HDFStore(word_dict_path, \"r\", complib=\"blosc\", complevel=9)\n",
    "store_feat = pd.HDFStore(word_list_path, \"r\", complib=\"blosc\", complevel=9)"
   ]
  },
  {
   "cell_type": "code",
   "execution_count": null,
   "metadata": {},
   "outputs": [],
   "source": [
    "del qs"
   ]
  },
  {
   "cell_type": "code",
   "execution_count": null,
   "metadata": {},
   "outputs": [],
   "source": [
    "smask = store_meta.select_as_coordinates(\"posts\", \"PostTypeId == 1\")\n",
    "qs = store_meta.select(\"posts\", where=smask)\n",
    "qs.set_index(\"Id\", inplace=True, drop=False)\n",
    "print qs.shape"
   ]
  },
  {
   "cell_type": "code",
   "execution_count": null,
   "metadata": {},
   "outputs": [],
   "source": [
    "answers = store_meta.select(\"posts\", where=store_meta.select_as_coordinates(\"posts\", \"PostTypeId == 2\"))\n",
    "answers.set_index(\"Id\", inplace=True, drop=False)\n",
    "print answers.shape"
   ]
  },
  {
   "cell_type": "code",
   "execution_count": null,
   "metadata": {},
   "outputs": [],
   "source": [
    "words = store_dict.select(\"all\")\n",
    "\n",
    "words[\"freqs\"] = words.n * 1. / words.n.sum()\n",
    "words = words.sort_values(by=\"n\", ascending=False)\n",
    "words[\"order\"] = np.arange(1, words.shape[0] + 1)\n",
    "# drop known nuisance words that made it into the list\n",
    "words = words.drop(544765)\n",
    "words = words.drop(430514)"
   ]
  },
  {
   "cell_type": "code",
   "execution_count": null,
   "metadata": {},
   "outputs": [],
   "source": [
    "features = store_feat.select(\"words\")\n",
    "features.set_index(\"Id\", inplace=True, drop=False)"
   ]
  },
  {
   "cell_type": "code",
   "execution_count": null,
   "metadata": {},
   "outputs": [],
   "source": [
    "first = words.iloc[:20]\n",
    "plt.figure(figsize=(8,6))\n",
    "plt.xlabel(r\"Word\")\n",
    "plt.ylabel(r\"Percentage of occurrence\")\n",
    "plt.bar(np.arange(1, first.shape[0] + 1), first.n.values * 100. / words.n.sum(), \n",
    "        align=\"center\", color=\"k\", alpha=0.6)\n",
    "plt.xticks(np.arange(1, first.shape[0] + 1), first.words.values, rotation=90)\n",
    "plt.savefig(\"./plots/mostcommonwords.pdf\")"
   ]
  },
  {
   "cell_type": "code",
   "execution_count": null,
   "metadata": {},
   "outputs": [],
   "source": [
    "# did the number of answers change with time?\n",
    "plt.figure(figsize=(8,6))\n",
    "plt.xlabel(r\"Number of answers to a question\")\n",
    "plt.ylabel(\"Normalized counts (a.u.)\")\n",
    "qs.AnswerCount.hist(range=[-0.5, 29.5], bins=30, color=\"r\", normed=True, histtype=\"step\", label=\"2017\", axes=plt.gca())\n",
    "plt.legend(loc=\"best\")\n",
    "plt.savefig(\"./plots/nanswers_time.pdf\")"
   ]
  },
  {
   "cell_type": "code",
   "execution_count": null,
   "metadata": {},
   "outputs": [],
   "source": [
    "qs.columns"
   ]
  },
  {
   "cell_type": "code",
   "execution_count": null,
   "metadata": {},
   "outputs": [],
   "source": [
    "# convert to datetime objects\n",
    "datecols = [\"CreationDate\"]\n",
    "for datecol in datecols:\n",
    "    qs[datecol] = pd.to_datetime(qs[datecol], origin=\"julian\", unit=\"D\")"
   ]
  },
  {
   "cell_type": "code",
   "execution_count": null,
   "metadata": {},
   "outputs": [],
   "source": [
    "features"
   ]
  },
  {
   "cell_type": "code",
   "execution_count": null,
   "metadata": {},
   "outputs": [],
   "source": [
    "# check a single (or multiple) posts\n",
    "conn.execute(\"SELECT * FROM posts WHERE id=?\", (158743,)).fetchall()"
   ]
  },
  {
   "cell_type": "code",
   "execution_count": null,
   "metadata": {},
   "outputs": [],
   "source": [
    "# join in information about occurring words, probabilities etc\n",
    "qs = qs.join(features, how=\"inner\", rsuffix=\"_r\")\n",
    "qs.head()"
   ]
  },
  {
   "cell_type": "code",
   "execution_count": null,
   "metadata": {},
   "outputs": [],
   "source": [
    "qs[\"Tags\"] = qs.Tags.apply(lambda x: x.split(\";\")[1:])\n",
    "qs[\"hasAnswers\"] = qs.AnswerCount > 1"
   ]
  },
  {
   "cell_type": "code",
   "execution_count": null,
   "metadata": {},
   "outputs": [],
   "source": [
    "# check available info\n",
    "qs.columns"
   ]
  },
  {
   "cell_type": "code",
   "execution_count": null,
   "metadata": {},
   "outputs": [],
   "source": [
    "now = pd.Timestamp.now()\n",
    "print now"
   ]
  },
  {
   "cell_type": "code",
   "execution_count": null,
   "metadata": {},
   "outputs": [],
   "source": [
    "qs[\"dt_created\"] = now - qs.CreationDate"
   ]
  },
  {
   "cell_type": "code",
   "execution_count": 46,
   "metadata": {},
   "outputs": [
    {
     "data": {
      "image/png": "[encoded data removed]",
      "text/plain": [
       "<matplotlib.figure.Figure at 0x7f21230eac10>"
      ]
     },
     "metadata": {},
     "output_type": "display_data"
    }
   ],
   "source": [
    "plt.figure(figsize=(8,6))\n",
    "plt.xlabel(r\"Number of replies to a question\")\n",
    "plt.ylabel(r\"Counts\")\n",
    "qs.AnswerCount.hist(bins=100, range=(0, 10), color=\"k\", alpha=0.8)\n",
    "plt.savefig(\"./plots/naswers_hist.pdf\")"
   ]
  },
  {
   "cell_type": "code",
   "execution_count": null,
   "metadata": {},
   "outputs": [],
   "source": [
    "plt.figure(figsize=(8,6))\n",
    "plt.xlabel(r\"Days since a question was created\")\n",
    "plt.ylabel(r\"Number of answers\")\n",
    "QuickSlicePlot(qs.dt_created.dt.days, qs.AnswerCount, qs.Score, zbins=1, xbins=10, \n",
    "               yrange=[0, 3], axes=plt.gca(), outliers=False)\n",
    "plt.savefig(\"./plots/nanswers_vs_dt.pdf\")"
   ]
  },
  {
   "cell_type": "code",
   "execution_count": 242,
   "metadata": {},
   "outputs": [],
   "source": [
    "# cutting on too short questions because metrics are not working for those (yet)\n",
    "qs = qs[qs.nwords > 5]"
   ]
  },
  {
   "cell_type": "code",
   "execution_count": 243,
   "metadata": {},
   "outputs": [
    {
     "name": "stdout",
     "output_type": "stream",
     "text": [
      "668019\n"
     ]
    }
   ],
   "source": [
    "print len(qs)"
   ]
  },
  {
   "cell_type": "code",
   "execution_count": 244,
   "metadata": {},
   "outputs": [
    {
     "name": "stdout",
     "output_type": "stream",
     "text": [
      "668019\n"
     ]
    }
   ],
   "source": [
    "# shuffling the df to avoid time dependencies for now\n",
    "from sklearn.utils import shuffle\n",
    "qs = shuffle(qs)\n",
    "print len(qs)"
   ]
  },
  {
   "cell_type": "code",
   "execution_count": null,
   "metadata": {},
   "outputs": [],
   "source": [
    "# join information about first answer into the frame\n",
    "# RUN ONLY ONCE or results in duplicate rows\n",
    "qs = qs.merge(answers, how=\"left\", left_on=\"Id\", right_on=\"ParentId\", suffixes=(\"\", \"_a\"))\n",
    "print qs.head()"
   ]
  },
  {
   "cell_type": "code",
   "execution_count": null,
   "metadata": {},
   "outputs": [],
   "source": [
    "qs[\"CreationDate_a\"] = pd.to_datetime(qs.CreationDate_a, origin=\"julian\", unit=\"D\")"
   ]
  },
  {
   "cell_type": "code",
   "execution_count": null,
   "metadata": {},
   "outputs": [],
   "source": [
    "# time between questions posing and first answer\n",
    "dtanswer = qs.CreationDate_a - qs.CreationDate"
   ]
  },
  {
   "cell_type": "code",
   "execution_count": 239,
   "metadata": {},
   "outputs": [
    {
     "data": {
      "image/png": "[encoded data removed]",
      "text/plain": [
       "<matplotlib.figure.Figure at 0x7f2123244f10>"
      ]
     },
     "metadata": {},
     "output_type": "display_data"
    }
   ],
   "source": [
    "from pyik.fit import ChiSquareFunction\n",
    "from pyik.numpyext import centers\n",
    "\n",
    "dthours = dtanswer.dt.total_seconds() * 1. / 60 / 60\n",
    "dtcont = np.linspace(0, 14 * 24, 1000)\n",
    "\n",
    "counts, e = np.histogram(dthours, range=(0, 24 * 14), bins=24 * 14)\n",
    "cens = centers(e)[0]\n",
    "\n",
    "# print counts, cens\n",
    "\n",
    "fitmodel = lambda dt, pars: 10 ** (pars[0] - dt * pars[1]) + 10 ** (pars[2] - dt * pars[3])\n",
    "# fitmodel = lambda dt, pars: np.e ** pars[0] * dt ** pars[1]\n",
    "chi2fct = ChiSquareFunction(fitmodel, counts, cens, yerrs=np.sqrt(counts))\n",
    "#pars, cov, chi2, ndof = chi2fct.Minimize(np.asfarray([2, 0.1, 5.3, 0.13]), \n",
    "#                                         lower_bounds=np.asfarray([1, 0.01, 5, 0.05]),\n",
    "#                                         upper_bounds=np.asfarray([3, 0.2, 6, 0.3]),\n",
    "#                                         method=\"PRAXIS\")\n",
    "\n",
    "plt.figure(figsize=(8, 6))\n",
    "plt.xlabel(r\"Time between question and answer in hours\")\n",
    "plt.ylabel(r\"Counts\")\n",
    "plt.hist(dthours, bins=24 * 14,\n",
    "         color=\"k\", alpha=0.8, range=(0, 14 * 24),\n",
    "         histtype=\"step\", lw=2)\n",
    "\n",
    "#plt.plot(dtcont, fitmodel(dtcont, pars), \"r-\", lw=2)\n",
    "\n",
    "plt.semilogy(nonposy=\"clip\")\n",
    "plt.savefig(\"./plots/dtanswer_hist.pdf\")"
   ]
  },
  {
   "cell_type": "code",
   "execution_count": 164,
   "metadata": {},
   "outputs": [
    {
     "data": {
      "text/plain": [
       "array([  2.14989868e+00,   5.78100914e-06,   5.20001677e+00,\n",
       "         1.43188132e-01])"
      ]
     },
     "execution_count": 164,
     "metadata": {},
     "output_type": "execute_result"
    }
   ],
   "source": [
    "pars"
   ]
  },
  {
   "cell_type": "code",
   "execution_count": null,
   "metadata": {},
   "outputs": [],
   "source": [
    "# really, answer come so quick\n",
    "qs[dtanswer.dt.total_seconds() < 60][[\"Id\", \"CreationDate\", \"CreationDate_a\"]].head()"
   ]
  },
  {
   "cell_type": "code",
   "execution_count": null,
   "metadata": {},
   "outputs": [],
   "source": [
    "QuickSlicePlot(qs.Score, dtanswer.dt.total_seconds() * 1. / 60 / 60, qs.AnswerCount, zbins=1, xbins=20, yrange=[0, 200])"
   ]
  },
  {
   "cell_type": "code",
   "execution_count": 299,
   "metadata": {},
   "outputs": [],
   "source": [
    "# scikitlearn import\n",
    "from sklearn import base\n",
    "from sklearn.linear_model import Ridge\n",
    "from sklearn.pipeline import Pipeline\n",
    "from sklearn import model_selection\n",
    "from scipy import stats\n",
    "from sklearn.feature_extraction import DictVectorizer\n",
    "from sklearn.feature_extraction.text import TfidfTransformer\n",
    "from sklearn.svm import SVR\n",
    "from sklearn.preprocessing import PolynomialFeatures\n",
    "from sklearn.neural_network import MLPRegressor\n",
    "from sklearn.ensemble import RandomForestRegressor\n",
    "from sklearn.linear_model import LogisticRegression"
   ]
  },
  {
   "cell_type": "code",
   "execution_count": 247,
   "metadata": {},
   "outputs": [],
   "source": [
    "class ColumnSelectTransformer(base.BaseEstimator, base.TransformerMixin):\n",
    "    \n",
    "    def __init__(self, col_names):\n",
    "        self.col_names = col_names  # We will need these in transform()\n",
    "    \n",
    "    def fit(self, X, y=None):\n",
    "        # This transformer doesn't need to learn anything about the data,\n",
    "        # so it can just return self without any further processing\n",
    "        return self\n",
    "    \n",
    "    def transform(self, X):\n",
    "        return X[self.col_names]"
   ]
  },
  {
   "cell_type": "code",
   "execution_count": 270,
   "metadata": {},
   "outputs": [],
   "source": [
    "from collections import Counter\n",
    "\n",
    "class DictEncoder(base.BaseEstimator, base.TransformerMixin):\n",
    "    \n",
    "    def __init__(self, col_name):\n",
    "        self.col_name = col_name\n",
    "    \n",
    "    def fit(self, X, y=None):\n",
    "        return self\n",
    "    \n",
    "    def transform(self, X):\n",
    "        a = X[self.col_name].apply(Counter)\n",
    "        return a"
   ]
  },
  {
   "cell_type": "code",
   "execution_count": 249,
   "metadata": {},
   "outputs": [
    {
     "name": "stdout",
     "output_type": "stream",
     "text": [
      "668019\n"
     ]
    }
   ],
   "source": [
    "print len(qs)"
   ]
  },
  {
   "cell_type": "code",
   "execution_count": 341,
   "metadata": {},
   "outputs": [
    {
     "name": "stdout",
     "output_type": "stream",
     "text": [
      "668019\n"
     ]
    }
   ],
   "source": [
    "traincut = 300000\n",
    "qs = shuffle(qs)\n",
    "print len(qs)\n",
    " \n",
    "# e.g. for regression\n",
    "#labels = qs.AnswerCount\n",
    "\n",
    "# e.g. classification, i.e. logistic regression\n",
    "labels = qs.hasAnswers"
   ]
  },
  {
   "cell_type": "code",
   "execution_count": 399,
   "metadata": {},
   "outputs": [
    {
     "name": "stdout",
     "output_type": "stream",
     "text": [
      "[[False  True]\n",
      " [False False]\n",
      " [False False]\n",
      " ..., \n",
      " [False False]\n",
      " [False False]\n",
      " [ True  True]]\n",
      "184009.5 368019\n",
      "245743\n",
      "0.667745415318\n"
     ]
    }
   ],
   "source": [
    "pipe_tags = Pipeline([\n",
    "         (\"cst\", ColumnSelectTransformer([\"Tags\"])),\n",
    "         (\"dec\", DictEncoder(\"Tags\")),\n",
    "         (\"dvec\", DictVectorizer(sparse=True)),\n",
    "         (\"tfid\", TfidfTransformer()),\n",
    "#        (\"poly\", PolynomialFeatures(degree=2)),  # not working???\n",
    "#        (\"ridge\", Ridge(alpha=10.0))\n",
    "         (\"logi\", LogisticRegression())\n",
    "#        (\"kridge\", KernelRidge(alpha=1.))  # runs out of memory quickly while fitting...\n",
    "#        (\"svr\", SVR())\n",
    "    ])\n",
    "\n",
    "pipe_tags.fit(qs.iloc[:traincut], labels.iloc[:traincut])\n",
    "pred = pipe_tags.predict(qs.iloc[traincut:])\n",
    "print np.column_stack((pred, labels.iloc[traincut:]))\n",
    "print labels.iloc[traincut:].shape[0] * 1. / 2, labels.iloc[traincut:].shape[0]\n",
    "print np.sum(pred == labels.iloc[traincut:])\n",
    "print pipe_tags.score(qs.iloc[traincut:], labels.iloc[traincut:])"
   ]
  },
  {
   "cell_type": "code",
   "execution_count": 260,
   "metadata": {},
   "outputs": [
    {
     "data": {
      "text/plain": [
       "{'alpha': 10.0,\n",
       " 'copy_X': True,\n",
       " 'fit_intercept': True,\n",
       " 'max_iter': None,\n",
       " 'normalize': False,\n",
       " 'random_state': None,\n",
       " 'solver': 'auto',\n",
       " 'tol': 0.001}"
      ]
     },
     "execution_count": 260,
     "metadata": {},
     "output_type": "execute_result"
    }
   ],
   "source": [
    "pipe_tags.named_steps[\"ridge\"].get_params()"
   ]
  },
  {
   "cell_type": "code",
   "execution_count": 344,
   "metadata": {},
   "outputs": [
    {
     "data": {
      "text/plain": [
       "224875     2;6;11;15;61;83;136;178;242;275;433;561;672;3644\n",
       "434387    3;9;13;15;21;218;245;253;339;358;498;618;686;1...\n",
       "22259     2;11;12;21;30;33;51;53;67;96;120;166;211;213;2...\n",
       "311649    1;23;26;43;53;56;71;87;156;226;233;331;370;374...\n",
       "392468               1;3;4;5;25;51;53;60;78;155;157;177;377\n",
       "Name: hot_indices, dtype: object"
      ]
     },
     "execution_count": 344,
     "metadata": {},
     "output_type": "execute_result"
    }
   ],
   "source": [
    "qs.columns\n",
    "qs.hot_indices.head()"
   ]
  },
  {
   "cell_type": "code",
   "execution_count": 398,
   "metadata": {},
   "outputs": [
    {
     "name": "stdout",
     "output_type": "stream",
     "text": [
      "[[False  True]\n",
      " [ True False]\n",
      " [False False]\n",
      " ..., \n",
      " [False False]\n",
      " [False False]\n",
      " [False  True]]\n",
      "184009.5 368019\n",
      "209397\n",
      "0.568984210054\n"
     ]
    }
   ],
   "source": [
    "pipe_words = Pipeline([\n",
    "        (\"cst\", ColumnSelectTransformer([\"hot_indices\"])),\n",
    "        (\"dec\", DictEncoder(\"hot_indices\")),\n",
    "        (\"dvec\", DictVectorizer(sparse=True)),\n",
    "        (\"tfid\", TfidfTransformer()),\n",
    "#        (\"ridge\", Ridge(alpha=1.0))\n",
    "        (\"logi\", LogisticRegression())\n",
    "    ])\n",
    "\n",
    "pipe_words.fit(qs.iloc[:traincut], labels.iloc[:traincut])\n",
    "pred = pipe_words.predict(qs.iloc[traincut:])\n",
    "print np.column_stack((pred, labels.iloc[traincut:]))\n",
    "print labels.iloc[traincut:].shape[0] * 1. / 2, labels.iloc[traincut:].shape[0]\n",
    "print np.sum(pred == labels.iloc[traincut:])\n",
    "print pipe_words.score(qs.iloc[traincut:], labels.iloc[traincut:])"
   ]
  },
  {
   "cell_type": "code",
   "execution_count": null,
   "metadata": {},
   "outputs": [],
   "source": [
    "cv = model_selection.ShuffleSplit(n_splits=20, test_size=0.2, random_state=42)\n",
    "def compute_error(est, X, y):\n",
    "    return -model_selection.cross_val_score(est, X, y, cv=cv, scoring='neg_mean_squared_error').mean()"
   ]
  },
  {
   "cell_type": "code",
   "execution_count": 290,
   "metadata": {},
   "outputs": [
    {
     "data": {
      "text/plain": [
       "Index([u'AcceptedAnswerId', u'AnswerCount', u'BodyNCodes', u'BodyNQMarks',\n",
       "       u'BodySize', u'ClosedDate', u'CommentCount', u'CommunityOwnedDate',\n",
       "       u'CreationDate', u'FavoriteCount', u'Id', u'LastActivityDate',\n",
       "       u'LastEditDate', u'LastEditorUserId', u'OwnerUserId', u'ParentId',\n",
       "       u'PostTypeId', u'Score', u'Tags', u'Title', u'ViewCount', u'Id_r',\n",
       "       u'hot_indices', u'nwords', u'ordersum', u'prob_bern', u'prob_poiss',\n",
       "       u'ratio', u'hasAnswers', u'dt_created', u'AcceptedAnswerId_a',\n",
       "       u'AnswerCount_a', u'BodyNCodes_a', u'BodyNQMarks_a', u'BodySize_a',\n",
       "       u'ClosedDate_a', u'CommentCount_a', u'CommunityOwnedDate_a',\n",
       "       u'CreationDate_a', u'FavoriteCount_a', u'Id_a', u'LastActivityDate_a',\n",
       "       u'LastEditDate_a', u'LastEditorUserId_a', u'OwnerUserId_a',\n",
       "       u'ParentId_a', u'PostTypeId_a', u'Score_a', u'Tags_a', u'Title_a',\n",
       "       u'ViewCount_a'],\n",
       "      dtype='object')"
      ]
     },
     "execution_count": 290,
     "metadata": {},
     "output_type": "execute_result"
    }
   ],
   "source": [
    "qs.columns"
   ]
  },
  {
   "cell_type": "code",
   "execution_count": 346,
   "metadata": {},
   "outputs": [],
   "source": [
    "qs[\"titlelen\"] = qs[\"Title\"].apply(len)"
   ]
  },
  {
   "cell_type": "code",
   "execution_count": 348,
   "metadata": {},
   "outputs": [
    {
     "data": {
      "text/html": [
       "<div>\n",
       "<style>\n",
       "    .dataframe thead tr:only-child th {\n",
       "        text-align: right;\n",
       "    }\n",
       "\n",
       "    .dataframe thead th {\n",
       "        text-align: left;\n",
       "    }\n",
       "\n",
       "    .dataframe tbody tr th {\n",
       "        vertical-align: top;\n",
       "    }\n",
       "</style>\n",
       "<table border=\"1\" class=\"dataframe\">\n",
       "  <thead>\n",
       "    <tr style=\"text-align: right;\">\n",
       "      <th></th>\n",
       "      <th>BodyNCodes</th>\n",
       "      <th>BodyNQMarks</th>\n",
       "      <th>BodySize</th>\n",
       "      <th>nwords</th>\n",
       "      <th>ratio</th>\n",
       "      <th>prob_bern</th>\n",
       "      <th>ordersum</th>\n",
       "      <th>titlelen</th>\n",
       "    </tr>\n",
       "  </thead>\n",
       "  <tbody>\n",
       "    <tr>\n",
       "      <th>224875</th>\n",
       "      <td>1</td>\n",
       "      <td>0</td>\n",
       "      <td>1366</td>\n",
       "      <td>22</td>\n",
       "      <td>0.266667</td>\n",
       "      <td>1.815438e-23</td>\n",
       "      <td>6319</td>\n",
       "      <td>138</td>\n",
       "    </tr>\n",
       "    <tr>\n",
       "      <th>434387</th>\n",
       "      <td>1</td>\n",
       "      <td>1</td>\n",
       "      <td>3176</td>\n",
       "      <td>33</td>\n",
       "      <td>0.611111</td>\n",
       "      <td>1.090123e-37</td>\n",
       "      <td>17431</td>\n",
       "      <td>32</td>\n",
       "    </tr>\n",
       "    <tr>\n",
       "      <th>22259</th>\n",
       "      <td>1</td>\n",
       "      <td>66</td>\n",
       "      <td>11160</td>\n",
       "      <td>56</td>\n",
       "      <td>0.393939</td>\n",
       "      <td>5.871084e-57</td>\n",
       "      <td>25936</td>\n",
       "      <td>50</td>\n",
       "    </tr>\n",
       "    <tr>\n",
       "      <th>311649</th>\n",
       "      <td>0</td>\n",
       "      <td>0</td>\n",
       "      <td>682</td>\n",
       "      <td>58</td>\n",
       "      <td>0.315789</td>\n",
       "      <td>7.922422e-61</td>\n",
       "      <td>31796</td>\n",
       "      <td>74</td>\n",
       "    </tr>\n",
       "    <tr>\n",
       "      <th>392468</th>\n",
       "      <td>2</td>\n",
       "      <td>1</td>\n",
       "      <td>536</td>\n",
       "      <td>16</td>\n",
       "      <td>0.555556</td>\n",
       "      <td>2.841112e-18</td>\n",
       "      <td>1146</td>\n",
       "      <td>34</td>\n",
       "    </tr>\n",
       "  </tbody>\n",
       "</table>\n",
       "</div>"
      ],
      "text/plain": [
       "        BodyNCodes  BodyNQMarks  BodySize  nwords     ratio     prob_bern  \\\n",
       "224875           1            0      1366      22  0.266667  1.815438e-23   \n",
       "434387           1            1      3176      33  0.611111  1.090123e-37   \n",
       "22259            1           66     11160      56  0.393939  5.871084e-57   \n",
       "311649           0            0       682      58  0.315789  7.922422e-61   \n",
       "392468           2            1       536      16  0.555556  2.841112e-18   \n",
       "\n",
       "        ordersum  titlelen  \n",
       "224875      6319       138  \n",
       "434387     17431        32  \n",
       "22259      25936        50  \n",
       "311649     31796        74  \n",
       "392468      1146        34  "
      ]
     },
     "execution_count": 348,
     "metadata": {},
     "output_type": "execute_result"
    }
   ],
   "source": [
    "qs.columns\n",
    "qs[[\"BodyNCodes\", \"BodyNQMarks\", \"BodySize\", \"nwords\", \"ratio\",\n",
    "                                         \"prob_bern\", \"ordersum\", \"titlelen\"]].head()"
   ]
  },
  {
   "cell_type": "code",
   "execution_count": 349,
   "metadata": {},
   "outputs": [
    {
     "name": "stdout",
     "output_type": "stream",
     "text": [
      "BodyNCodes [  0.  15.]\n",
      "BodyNQMarks [  0.  10.]\n",
      "BodySize [   165.    10486.64]\n",
      "nwords [   7.  152.]\n",
      "ratio [ 0.11111111  1.5       ]\n",
      "prob_bern [  9.26546984e-82   1.74969467e-11]\n",
      "ordersum [   941.    47263.64]\n",
      "titlelen [  20.  119.]\n"
     ]
    }
   ],
   "source": [
    "cols = [\"BodyNCodes\", \"BodyNQMarks\", \"BodySize\", \"nwords\", \"ratio\", \"prob_bern\", \"ordersum\", \"titlelen\"]\n",
    "# normalize columns\n",
    "for col in cols:\n",
    "    quants = qs[col].quantile([0.01, 0.99]).values\n",
    "    print col, quants\n",
    "    qs[\"%s_norm\" % col] = (qs[col] - quants[0]) / (quants[1] - quants[0])"
   ]
  },
  {
   "cell_type": "code",
   "execution_count": 350,
   "metadata": {},
   "outputs": [
    {
     "data": {
      "text/html": [
       "<div>\n",
       "<style>\n",
       "    .dataframe thead tr:only-child th {\n",
       "        text-align: right;\n",
       "    }\n",
       "\n",
       "    .dataframe thead th {\n",
       "        text-align: left;\n",
       "    }\n",
       "\n",
       "    .dataframe tbody tr th {\n",
       "        vertical-align: top;\n",
       "    }\n",
       "</style>\n",
       "<table border=\"1\" class=\"dataframe\">\n",
       "  <thead>\n",
       "    <tr style=\"text-align: right;\">\n",
       "      <th></th>\n",
       "      <th>BodyNCodes_norm</th>\n",
       "      <th>BodyNQMarks_norm</th>\n",
       "      <th>BodySize_norm</th>\n",
       "      <th>nwords_norm</th>\n",
       "      <th>ratio_norm</th>\n",
       "      <th>prob_bern_norm</th>\n",
       "      <th>ordersum_norm</th>\n",
       "      <th>titlelen_norm</th>\n",
       "    </tr>\n",
       "  </thead>\n",
       "  <tbody>\n",
       "    <tr>\n",
       "      <th>224875</th>\n",
       "      <td>0.066667</td>\n",
       "      <td>0.0</td>\n",
       "      <td>0.116357</td>\n",
       "      <td>0.103448</td>\n",
       "      <td>0.112000</td>\n",
       "      <td>1.037574e-12</td>\n",
       "      <td>0.116099</td>\n",
       "      <td>1.191919</td>\n",
       "    </tr>\n",
       "    <tr>\n",
       "      <th>434387</th>\n",
       "      <td>0.066667</td>\n",
       "      <td>0.1</td>\n",
       "      <td>0.291717</td>\n",
       "      <td>0.179310</td>\n",
       "      <td>0.360000</td>\n",
       "      <td>6.230361e-27</td>\n",
       "      <td>0.355981</td>\n",
       "      <td>0.121212</td>\n",
       "    </tr>\n",
       "    <tr>\n",
       "      <th>22259</th>\n",
       "      <td>0.066667</td>\n",
       "      <td>6.6</td>\n",
       "      <td>1.065238</td>\n",
       "      <td>0.337931</td>\n",
       "      <td>0.203636</td>\n",
       "      <td>3.355491e-46</td>\n",
       "      <td>0.539585</td>\n",
       "      <td>0.303030</td>\n",
       "    </tr>\n",
       "    <tr>\n",
       "      <th>311649</th>\n",
       "      <td>0.000000</td>\n",
       "      <td>0.0</td>\n",
       "      <td>0.050089</td>\n",
       "      <td>0.351724</td>\n",
       "      <td>0.147368</td>\n",
       "      <td>4.527889e-50</td>\n",
       "      <td>0.666089</td>\n",
       "      <td>0.545455</td>\n",
       "    </tr>\n",
       "    <tr>\n",
       "      <th>392468</th>\n",
       "      <td>0.133333</td>\n",
       "      <td>0.1</td>\n",
       "      <td>0.035944</td>\n",
       "      <td>0.062069</td>\n",
       "      <td>0.320000</td>\n",
       "      <td>1.623776e-07</td>\n",
       "      <td>0.004425</td>\n",
       "      <td>0.141414</td>\n",
       "    </tr>\n",
       "  </tbody>\n",
       "</table>\n",
       "</div>"
      ],
      "text/plain": [
       "        BodyNCodes_norm  BodyNQMarks_norm  BodySize_norm  nwords_norm  \\\n",
       "224875         0.066667               0.0       0.116357     0.103448   \n",
       "434387         0.066667               0.1       0.291717     0.179310   \n",
       "22259          0.066667               6.6       1.065238     0.337931   \n",
       "311649         0.000000               0.0       0.050089     0.351724   \n",
       "392468         0.133333               0.1       0.035944     0.062069   \n",
       "\n",
       "        ratio_norm  prob_bern_norm  ordersum_norm  titlelen_norm  \n",
       "224875    0.112000    1.037574e-12       0.116099       1.191919  \n",
       "434387    0.360000    6.230361e-27       0.355981       0.121212  \n",
       "22259     0.203636    3.355491e-46       0.539585       0.303030  \n",
       "311649    0.147368    4.527889e-50       0.666089       0.545455  \n",
       "392468    0.320000    1.623776e-07       0.004425       0.141414  "
      ]
     },
     "execution_count": 350,
     "metadata": {},
     "output_type": "execute_result"
    }
   ],
   "source": [
    "qs[[\"BodyNCodes_norm\", \"BodyNQMarks_norm\", \"BodySize_norm\", \"nwords_norm\", \"ratio_norm\",\n",
    "                                         \"prob_bern_norm\", \"ordersum_norm\", \"titlelen_norm\"]].head()"
   ]
  },
  {
   "cell_type": "code",
   "execution_count": 368,
   "metadata": {},
   "outputs": [],
   "source": [
    "qs[\"ordersum_norm_trafo\"] = 1. / qs.ordersum_norm\n",
    "qs[\"titlelen_norm_trafo\"] = 1. / qs.titlelen_norm"
   ]
  },
  {
   "cell_type": "code",
   "execution_count": 397,
   "metadata": {},
   "outputs": [
    {
     "name": "stdout",
     "output_type": "stream",
     "text": [
      "[[False  True]\n",
      " [ True False]\n",
      " [False False]\n",
      " ..., \n",
      " [False False]\n",
      " [False False]\n",
      " [ True  True]]\n",
      "184009.5 368019\n",
      "213209\n",
      "0.57934237091\n",
      "[[ 0.63414269  0.36585731]\n",
      " [ 0.37343903  0.62656097]\n",
      " [ 0.62905884  0.37094116]\n",
      " ..., \n",
      " [ 0.54867436  0.45132564]\n",
      " [ 0.72713997  0.27286003]\n",
      " [ 0.41362319  0.58637681]]\n"
     ]
    }
   ],
   "source": [
    "labels = qs.hasAnswers\n",
    "\n",
    "pipe_feat = Pipeline([\n",
    "#        (\"cst\", ColumnSelectTransformer([\"BodyNCodes_norm\", \"BodyNQMarks_norm\", \"BodySize_norm\", \"nwords_norm\", \"ratio_norm\",\n",
    "#                                         \"prob_bern_norm\", \"ordersum_norm\", \"titlelen_norm\"])),\n",
    "         (\"cst\", ColumnSelectTransformer([\"BodyNCodes_norm\", \"BodyNQMarks_norm\", \"nwords_norm\", \"BodySize_norm\",\n",
    "                                          \"ratio_norm\", \"ordersum_norm\", \"titlelen_norm\"])),\n",
    "         (\"poly\", PolynomialFeatures(degree=2)),\n",
    "#        (\"ridge\", Ridge(alpha=1.0))\n",
    "         (\"logi\", LogisticRegression())\n",
    "    ])\n",
    "\n",
    "pipe_feat.fit(qs.iloc[:traincut], labels.iloc[:traincut])\n",
    "pred = pipe_feat.predict(qs.iloc[traincut:])\n",
    "print np.column_stack((pred, labels.iloc[traincut:]))\n",
    "print labels.iloc[traincut:].shape[0] * 1. / 2, labels.iloc[traincut:].shape[0]\n",
    "print np.sum(pred == labels.iloc[traincut:])\n",
    "print pipe_feat.score(qs.iloc[traincut:], labels.iloc[traincut:])\n",
    "print pipe_feat.predict_proba(qs.iloc[traincut:])\n",
    "\n",
    "# print compute_error(pipe_feat, qs, qs.AnswerCount)"
   ]
  },
  {
   "cell_type": "code",
   "execution_count": 406,
   "metadata": {},
   "outputs": [
    {
     "name": "stdout",
     "output_type": "stream",
     "text": [
      "[[False  True]\n",
      " [False False]\n",
      " [False False]\n",
      " ..., \n",
      " [False False]\n",
      " [False False]\n",
      " [False  True]]\n",
      "184009.5 368019\n",
      "207516 0.563873060902\n",
      "0.57934237091\n",
      "[[ 0.63414269  0.36585731]\n",
      " [ 0.37343903  0.62656097]\n",
      " [ 0.62905884  0.37094116]\n",
      " ..., \n",
      " [ 0.54867436  0.45132564]\n",
      " [ 0.72713997  0.27286003]\n",
      " [ 0.41362319  0.58637681]]\n",
      "(368019, 2)\n"
     ]
    }
   ],
   "source": [
    "labels = qs.hasAnswers\n",
    "\n",
    "pipe_prob = Pipeline([\n",
    "         (\"cst\", ColumnSelectTransformer([\"prob_bern_norm\"])),\n",
    "         (\"logi\", LogisticRegression())\n",
    "    ])\n",
    "\n",
    "pipe_prob.fit(qs.iloc[:traincut], labels.iloc[:traincut])\n",
    "pred = pipe_prob.predict(qs.iloc[traincut:])\n",
    "print np.column_stack((pred, labels.iloc[traincut:]))\n",
    "print labels.iloc[traincut:].shape[0] * 1. / 2, labels.iloc[traincut:].shape[0]\n",
    "print np.sum(pred == labels.iloc[traincut:]), np.sum(pred == labels.iloc[traincut:]) * 1. / labels.iloc[traincut:].shape[0]\n",
    "print pipe_feat.score(qs.iloc[traincut:], labels.iloc[traincut:])\n",
    "print pipe_feat.predict_proba(qs.iloc[traincut:])\n",
    "print pipe_feat.predict_proba(qs.iloc[traincut:]).shape\n",
    "\n",
    "# print compute_error(pipe_feat, qs, qs.AnswerCount)"
   ]
  },
  {
   "cell_type": "code",
   "execution_count": 401,
   "metadata": {},
   "outputs": [],
   "source": [
    "class EstimatorTransformer(base.BaseEstimator, base.TransformerMixin):\n",
    "    \n",
    "    def __init__(self, estimator):\n",
    "        self.estimator = estimator\n",
    "    \n",
    "    def fit(self, X, y):\n",
    "        self.estimator.fit(X, y)\n",
    "        return self\n",
    "    \n",
    "    def transform(self, X):\n",
    "        # Use predict on the stored estimator as a \"transformation\".\n",
    "        # Be sure to return a 2-D array.\n",
    "        return [[x] for x in self.estimator.predict(X)]"
   ]
  },
  {
   "cell_type": "code",
   "execution_count": 402,
   "metadata": {},
   "outputs": [],
   "source": [
    "from sklearn.pipeline import FeatureUnion\n",
    "\n",
    "union = FeatureUnion([\n",
    "        (\"tags\", EstimatorTransformer(pipe_tags)),\n",
    "        (\"words\", EstimatorTransformer(pipe_words)),\n",
    "        (\"feat\", EstimatorTransformer(pipe_feat)),\n",
    "        (\"prob\", EstimatorTransformer(pipe_prob))\n",
    "        ])"
   ]
  },
  {
   "cell_type": "code",
   "execution_count": 395,
   "metadata": {},
   "outputs": [],
   "source": [
    "class CustomCombiner(base.BaseEstimator, base.TransformerMixin):\n",
    "    \n",
    "    def fit(self, X, y=None):\n",
    "        return self\n",
    "    \n",
    "    def transform(self, X):\n",
    "        return np.around(np.mean(X, axis=0))"
   ]
  },
  {
   "cell_type": "code",
   "execution_count": 403,
   "metadata": {},
   "outputs": [
    {
     "name": "stdout",
     "output_type": "stream",
     "text": [
      "[[ 0.  1.]\n",
      " [ 0.  0.]\n",
      " [ 0.  0.]\n",
      " ..., \n",
      " [ 0.  0.]\n",
      " [ 0.  0.]\n",
      " [ 1.  1.]]\n",
      "184009.5 368019\n",
      "245743 0.667745415318\n",
      "0.57934237091\n"
     ]
    }
   ],
   "source": [
    "pipe_all = Pipeline([\n",
    "         (\"union\", union),\n",
    "         (\"ridge\", Ridge(alpha=3.0))\n",
    "         #(\"comb\", CustomCombiner())\n",
    "    ])\n",
    "\n",
    "pipe_all.fit(qs.iloc[:traincut], labels.iloc[:traincut])\n",
    "pred = np.around(pipe_all.predict(qs.iloc[traincut:]))\n",
    "print np.column_stack((pred, labels.iloc[traincut:]))\n",
    "print labels.iloc[traincut:].shape[0] * 1. / 2, labels.iloc[traincut:].shape[0]\n",
    "print np.sum(pred == labels.iloc[traincut:]), np.sum(pred == labels.iloc[traincut:]) * 1. / labels.iloc[traincut:].shape[0]\n",
    "print pipe_feat.score(qs.iloc[traincut:], labels.iloc[traincut:])\n",
    "# print pipe_feat.predict_proba(qs.iloc[traincut:])"
   ]
  },
  {
   "cell_type": "code",
   "execution_count": null,
   "metadata": {},
   "outputs": [],
   "source": []
  }
 ],
 "metadata": {
  "kernelspec": {
   "display_name": "Python 2",
   "language": "python",
   "name": "python2"
  },
  "language_info": {
   "codemirror_mode": {
    "name": "ipython",
    "version": 2
   },
   "file_extension": ".py",
   "mimetype": "text/x-python",
   "name": "python",
   "nbconvert_exporter": "python",
   "pygments_lexer": "ipython2",
   "version": "2.7.14"
  }
 },
 "nbformat": 4,
 "nbformat_minor": 2
}
