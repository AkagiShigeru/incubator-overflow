{
 "cells": [
  {
   "cell_type": "code",
   "execution_count": 1,
   "metadata": {},
   "outputs": [],
   "source": [
    "%matplotlib inline\n",
    "import pandas as pd\n",
    "import numpy as np\n",
    "# import seaborn as sns\n",
    "from pyik.mplext import ViolinPlot\n",
    "from matplotlib import pyplot as plt\n",
    "from matplotlib.ticker import MultipleLocator, FormatStrFormatter\n",
    "import sqlite3\n",
    "\n",
    "from pyik.mplext import ViolinPlot\n",
    "from util_general import QuickSlicePlot"
   ]
  },
  {
   "cell_type": "code",
   "execution_count": 2,
   "metadata": {},
   "outputs": [],
   "source": [
    "posts_path = \"/home/alex/data/stackexchange/overflow/caches/posts.db\"\n",
    "meta_path = \"/home/alex/data/stackexchange/overflow/caches/posts_2017.hdf5\"\n",
    "word_dict_path = \"./dictionaries/words_2017.hdf5\"\n",
    "word_list_path = \"./words/features_2017.hdf5\""
   ]
  },
  {
   "cell_type": "code",
   "execution_count": 3,
   "metadata": {},
   "outputs": [],
   "source": [
    "conn = sqlite3.connect(posts_path)"
   ]
  },
  {
   "cell_type": "code",
   "execution_count": 4,
   "metadata": {},
   "outputs": [],
   "source": [
    "store_meta = pd.HDFStore(meta_path, \"r\", complib=\"blosc\", complevel=9)\n",
    "store_dict = pd.HDFStore(word_dict_path, \"r\", complib=\"blosc\", complevel=9)\n",
    "store_feat = pd.HDFStore(word_list_path, \"r\", complib=\"blosc\", complevel=9)"
   ]
  },
  {
   "cell_type": "code",
   "execution_count": 45,
   "metadata": {},
   "outputs": [],
   "source": [
    "del qs"
   ]
  },
  {
   "cell_type": "code",
   "execution_count": 5,
   "metadata": {},
   "outputs": [
    {
     "name": "stdout",
     "output_type": "stream",
     "text": [
      "(1696819, 21)\n"
     ]
    }
   ],
   "source": [
    "smask = store_meta.select_as_coordinates(\"posts\", \"PostTypeId == 1\")\n",
    "qs = store_meta.select(\"posts\", where=smask)\n",
    "qs.set_index(\"Id\", inplace=True, drop=False)\n",
    "print qs.shape"
   ]
  },
  {
   "cell_type": "code",
   "execution_count": 6,
   "metadata": {},
   "outputs": [
    {
     "name": "stdout",
     "output_type": "stream",
     "text": [
      "(2028240, 21)\n"
     ]
    }
   ],
   "source": [
    "answers = store_meta.select(\"posts\", where=store_meta.select_as_coordinates(\"posts\", \"PostTypeId == 2\"))\n",
    "answers.set_index(\"Id\", inplace=True, drop=False)\n",
    "print answers.shape"
   ]
  },
  {
   "cell_type": "code",
   "execution_count": 7,
   "metadata": {},
   "outputs": [],
   "source": [
    "words = store_dict.select(\"all\")\n",
    "\n",
    "words[\"freqs\"] = words.n * 1. / words.n.sum()\n",
    "words = words.sort_values(by=\"n\", ascending=False)\n",
    "words[\"order\"] = np.arange(1, words.shape[0] + 1)\n",
    "# drop known nuisance words that made it into the list\n",
    "words = words.drop(544765)\n",
    "words = words.drop(430514)"
   ]
  },
  {
   "cell_type": "code",
   "execution_count": 8,
   "metadata": {},
   "outputs": [],
   "source": [
    "features = store_feat.select(\"words\")\n",
    "features.set_index(\"Id\", inplace=True, drop=False)"
   ]
  },
  {
   "cell_type": "code",
   "execution_count": 9,
   "metadata": {},
   "outputs": [
    {
     "data": {
      "image/png": "[encoded data removed]",
      "text/plain": [
       "<matplotlib.figure.Figure at 0x7f20d6f460d0>"
      ]
     },
     "metadata": {},
     "output_type": "display_data"
    }
   ],
   "source": [
    "first = words.iloc[:20]\n",
    "plt.figure(figsize=(8,6))\n",
    "plt.xlabel(r\"Word\")\n",
    "plt.ylabel(r\"Percentage of occurrence\")\n",
    "plt.bar(np.arange(1, first.shape[0] + 1), first.n.values * 100. / words.n.sum(), \n",
    "        align=\"center\", color=\"k\", alpha=0.6)\n",
    "plt.xticks(np.arange(1, first.shape[0] + 1), first.words.values, rotation=90)\n",
    "plt.savefig(\"./plots/mostcommonwords.pdf\")"
   ]
  },
  {
   "cell_type": "code",
   "execution_count": 10,
   "metadata": {},
   "outputs": [
    {
     "data": {
      "image/png": "[encoded data removed]",
      "text/plain": [
       "<matplotlib.figure.Figure at 0x7f20d6fbdd10>"
      ]
     },
     "metadata": {},
     "output_type": "display_data"
    }
   ],
   "source": [
    "# did the number of answers change with time?\n",
    "plt.figure(figsize=(8,6))\n",
    "plt.xlabel(r\"Number of answers to a question\")\n",
    "plt.ylabel(\"Normalized counts (a.u.)\")\n",
    "qs.AnswerCount.hist(range=[-0.5, 29.5], bins=30, color=\"r\", normed=True, histtype=\"step\", label=\"2017\", axes=plt.gca())\n",
    "plt.legend(loc=\"best\")\n",
    "plt.savefig(\"./plots/nanswers_time.pdf\")"
   ]
  },
  {
   "cell_type": "code",
   "execution_count": 11,
   "metadata": {},
   "outputs": [
    {
     "data": {
      "text/plain": [
       "Index([u'AcceptedAnswerId', u'AnswerCount', u'BodyNCodes', u'BodyNQMarks',\n",
       "       u'BodySize', u'ClosedDate', u'CommentCount', u'CommunityOwnedDate',\n",
       "       u'CreationDate', u'FavoriteCount', u'Id', u'LastActivityDate',\n",
       "       u'LastEditDate', u'LastEditorUserId', u'OwnerUserId', u'ParentId',\n",
       "       u'PostTypeId', u'Score', u'Tags', u'Title', u'ViewCount'],\n",
       "      dtype='object')"
      ]
     },
     "execution_count": 11,
     "metadata": {},
     "output_type": "execute_result"
    }
   ],
   "source": [
    "qs.columns"
   ]
  },
  {
   "cell_type": "code",
   "execution_count": 12,
   "metadata": {},
   "outputs": [],
   "source": [
    "# convert to datetime objects\n",
    "datecols = [\"CreationDate\"]\n",
    "for datecol in datecols:\n",
    "    qs[datecol] = pd.to_datetime(qs[datecol], origin=\"julian\", unit=\"D\")"
   ]
  },
  {
   "cell_type": "code",
   "execution_count": null,
   "metadata": {},
   "outputs": [],
   "source": [
    "features"
   ]
  },
  {
   "cell_type": "code",
   "execution_count": null,
   "metadata": {},
   "outputs": [],
   "source": [
    "# check a single (or multiple) posts\n",
    "conn.execute(\"SELECT * FROM posts WHERE id=?\", (158743,)).fetchall()"
   ]
  },
  {
   "cell_type": "code",
   "execution_count": 13,
   "metadata": {},
   "outputs": [
    {
     "data": {
      "text/html": [
       "<div>\n",
       "<style>\n",
       "    .dataframe thead tr:only-child th {\n",
       "        text-align: right;\n",
       "    }\n",
       "\n",
       "    .dataframe thead th {\n",
       "        text-align: left;\n",
       "    }\n",
       "\n",
       "    .dataframe tbody tr th {\n",
       "        vertical-align: top;\n",
       "    }\n",
       "</style>\n",
       "<table border=\"1\" class=\"dataframe\">\n",
       "  <thead>\n",
       "    <tr style=\"text-align: right;\">\n",
       "      <th></th>\n",
       "      <th>AcceptedAnswerId</th>\n",
       "      <th>AnswerCount</th>\n",
       "      <th>BodyNCodes</th>\n",
       "      <th>BodyNQMarks</th>\n",
       "      <th>BodySize</th>\n",
       "      <th>ClosedDate</th>\n",
       "      <th>CommentCount</th>\n",
       "      <th>CommunityOwnedDate</th>\n",
       "      <th>CreationDate</th>\n",
       "      <th>FavoriteCount</th>\n",
       "      <th>...</th>\n",
       "      <th>Tags</th>\n",
       "      <th>Title</th>\n",
       "      <th>ViewCount</th>\n",
       "      <th>Id_r</th>\n",
       "      <th>hot_indices</th>\n",
       "      <th>nwords</th>\n",
       "      <th>ordersum</th>\n",
       "      <th>prob_bern</th>\n",
       "      <th>prob_poiss</th>\n",
       "      <th>ratio</th>\n",
       "    </tr>\n",
       "    <tr>\n",
       "      <th>Id</th>\n",
       "      <th></th>\n",
       "      <th></th>\n",
       "      <th></th>\n",
       "      <th></th>\n",
       "      <th></th>\n",
       "      <th></th>\n",
       "      <th></th>\n",
       "      <th></th>\n",
       "      <th></th>\n",
       "      <th></th>\n",
       "      <th></th>\n",
       "      <th></th>\n",
       "      <th></th>\n",
       "      <th></th>\n",
       "      <th></th>\n",
       "      <th></th>\n",
       "      <th></th>\n",
       "      <th></th>\n",
       "      <th></th>\n",
       "      <th></th>\n",
       "      <th></th>\n",
       "    </tr>\n",
       "  </thead>\n",
       "  <tbody>\n",
       "    <tr>\n",
       "      <th>41412454</th>\n",
       "      <td>-1</td>\n",
       "      <td>0</td>\n",
       "      <td>2</td>\n",
       "      <td>1</td>\n",
       "      <td>1635</td>\n",
       "      <td>-1.0</td>\n",
       "      <td>6</td>\n",
       "      <td>-1.0</td>\n",
       "      <td>2017-01-01 00:00:04.492800</td>\n",
       "      <td>-1</td>\n",
       "      <td>...</td>\n",
       "      <td>;postgresql;grails;gsp</td>\n",
       "      <td>Update on 2 or more tables</td>\n",
       "      <td>78</td>\n",
       "      <td>41412454</td>\n",
       "      <td>1;3;5;7;15;16;25;31;39;44;51;82;93;120;128;173...</td>\n",
       "      <td>34</td>\n",
       "      <td>9808</td>\n",
       "      <td>8.207604e-35</td>\n",
       "      <td>1.379798e-45</td>\n",
       "      <td>0.473684</td>\n",
       "    </tr>\n",
       "    <tr>\n",
       "      <th>41412456</th>\n",
       "      <td>41412707</td>\n",
       "      <td>1</td>\n",
       "      <td>5</td>\n",
       "      <td>1</td>\n",
       "      <td>1022</td>\n",
       "      <td>-1.0</td>\n",
       "      <td>2</td>\n",
       "      <td>-1.0</td>\n",
       "      <td>2017-01-01 00:00:39.744000</td>\n",
       "      <td>-1</td>\n",
       "      <td>...</td>\n",
       "      <td>;python;shell;expect</td>\n",
       "      <td>A expect script with multiple shell statements</td>\n",
       "      <td>52</td>\n",
       "      <td>41412456</td>\n",
       "      <td>1;5;7;8;9;20;21;26;29;32;35;40;106;116;177;235...</td>\n",
       "      <td>41</td>\n",
       "      <td>11612</td>\n",
       "      <td>7.156278e-38</td>\n",
       "      <td>4.739314e-50</td>\n",
       "      <td>0.571429</td>\n",
       "    </tr>\n",
       "    <tr>\n",
       "      <th>41412462</th>\n",
       "      <td>-1</td>\n",
       "      <td>1</td>\n",
       "      <td>6</td>\n",
       "      <td>2</td>\n",
       "      <td>5680</td>\n",
       "      <td>-1.0</td>\n",
       "      <td>0</td>\n",
       "      <td>-1.0</td>\n",
       "      <td>2017-01-01 00:02:06.748800</td>\n",
       "      <td>-1</td>\n",
       "      <td>...</td>\n",
       "      <td>;angularjs;provider;hybrid</td>\n",
       "      <td>While bootstrapping a hybrid angular 1 + 2 app...</td>\n",
       "      <td>205</td>\n",
       "      <td>41412462</td>\n",
       "      <td>2;18;25;29;34;53;65;73;74;76;84;106;112;113;13...</td>\n",
       "      <td>177</td>\n",
       "      <td>29357</td>\n",
       "      <td>3.510274e-47</td>\n",
       "      <td>1.470589e-171</td>\n",
       "      <td>0.206186</td>\n",
       "    </tr>\n",
       "    <tr>\n",
       "      <th>41412463</th>\n",
       "      <td>41412502</td>\n",
       "      <td>1</td>\n",
       "      <td>7</td>\n",
       "      <td>1</td>\n",
       "      <td>834</td>\n",
       "      <td>-1.0</td>\n",
       "      <td>4</td>\n",
       "      <td>-1.0</td>\n",
       "      <td>2017-01-01 00:02:29.817600</td>\n",
       "      <td>-1</td>\n",
       "      <td>...</td>\n",
       "      <td>;javascript;node.js</td>\n",
       "      <td>Is Javascript's setInterval killed when the pa...</td>\n",
       "      <td>76</td>\n",
       "      <td>41412463</td>\n",
       "      <td>1;3;10;14;28;29;72;90;92;117;141;270;443;457;5...</td>\n",
       "      <td>30</td>\n",
       "      <td>11140</td>\n",
       "      <td>6.456232e-34</td>\n",
       "      <td>4.154225e-43</td>\n",
       "      <td>0.352941</td>\n",
       "    </tr>\n",
       "    <tr>\n",
       "      <th>41412466</th>\n",
       "      <td>-1</td>\n",
       "      <td>0</td>\n",
       "      <td>7</td>\n",
       "      <td>0</td>\n",
       "      <td>3600</td>\n",
       "      <td>-1.0</td>\n",
       "      <td>0</td>\n",
       "      <td>-1.0</td>\n",
       "      <td>2017-01-01 00:03:28.569600</td>\n",
       "      <td>-1</td>\n",
       "      <td>...</td>\n",
       "      <td>;android;dataset;adapter;android-adapter;chang...</td>\n",
       "      <td>Adapter not notifyDataSetChanged immediately?</td>\n",
       "      <td>35</td>\n",
       "      <td>41412466</td>\n",
       "      <td>2;5;17;20;21;23;31;44;58;80;82;108;112;119;189...</td>\n",
       "      <td>42</td>\n",
       "      <td>14821</td>\n",
       "      <td>2.230625e-34</td>\n",
       "      <td>2.098941e-63</td>\n",
       "      <td>0.789474</td>\n",
       "    </tr>\n",
       "  </tbody>\n",
       "</table>\n",
       "<p>5 rows × 28 columns</p>\n",
       "</div>"
      ],
      "text/plain": [
       "          AcceptedAnswerId  AnswerCount  BodyNCodes  BodyNQMarks  BodySize  \\\n",
       "Id                                                                           \n",
       "41412454                -1            0           2            1      1635   \n",
       "41412456          41412707            1           5            1      1022   \n",
       "41412462                -1            1           6            2      5680   \n",
       "41412463          41412502            1           7            1       834   \n",
       "41412466                -1            0           7            0      3600   \n",
       "\n",
       "          ClosedDate  CommentCount  CommunityOwnedDate  \\\n",
       "Id                                                       \n",
       "41412454        -1.0             6                -1.0   \n",
       "41412456        -1.0             2                -1.0   \n",
       "41412462        -1.0             0                -1.0   \n",
       "41412463        -1.0             4                -1.0   \n",
       "41412466        -1.0             0                -1.0   \n",
       "\n",
       "                       CreationDate  FavoriteCount    ...     \\\n",
       "Id                                                    ...      \n",
       "41412454 2017-01-01 00:00:04.492800             -1    ...      \n",
       "41412456 2017-01-01 00:00:39.744000             -1    ...      \n",
       "41412462 2017-01-01 00:02:06.748800             -1    ...      \n",
       "41412463 2017-01-01 00:02:29.817600             -1    ...      \n",
       "41412466 2017-01-01 00:03:28.569600             -1    ...      \n",
       "\n",
       "                                                       Tags  \\\n",
       "Id                                                            \n",
       "41412454                             ;postgresql;grails;gsp   \n",
       "41412456                               ;python;shell;expect   \n",
       "41412462                         ;angularjs;provider;hybrid   \n",
       "41412463                                ;javascript;node.js   \n",
       "41412466  ;android;dataset;adapter;android-adapter;chang...   \n",
       "\n",
       "                                                      Title  ViewCount  \\\n",
       "Id                                                                       \n",
       "41412454                         Update on 2 or more tables         78   \n",
       "41412456     A expect script with multiple shell statements         52   \n",
       "41412462  While bootstrapping a hybrid angular 1 + 2 app...        205   \n",
       "41412463  Is Javascript's setInterval killed when the pa...         76   \n",
       "41412466      Adapter not notifyDataSetChanged immediately?         35   \n",
       "\n",
       "              Id_r                                        hot_indices  nwords  \\\n",
       "Id                                                                              \n",
       "41412454  41412454  1;3;5;7;15;16;25;31;39;44;51;82;93;120;128;173...      34   \n",
       "41412456  41412456  1;5;7;8;9;20;21;26;29;32;35;40;106;116;177;235...      41   \n",
       "41412462  41412462  2;18;25;29;34;53;65;73;74;76;84;106;112;113;13...     177   \n",
       "41412463  41412463  1;3;10;14;28;29;72;90;92;117;141;270;443;457;5...      30   \n",
       "41412466  41412466  2;5;17;20;21;23;31;44;58;80;82;108;112;119;189...      42   \n",
       "\n",
       "          ordersum     prob_bern     prob_poiss     ratio  \n",
       "Id                                                         \n",
       "41412454      9808  8.207604e-35   1.379798e-45  0.473684  \n",
       "41412456     11612  7.156278e-38   4.739314e-50  0.571429  \n",
       "41412462     29357  3.510274e-47  1.470589e-171  0.206186  \n",
       "41412463     11140  6.456232e-34   4.154225e-43  0.352941  \n",
       "41412466     14821  2.230625e-34   2.098941e-63  0.789474  \n",
       "\n",
       "[5 rows x 28 columns]"
      ]
     },
     "execution_count": 13,
     "metadata": {},
     "output_type": "execute_result"
    }
   ],
   "source": [
    "# join in information about occurring words, probabilities etc\n",
    "qs = qs.join(features, how=\"inner\", rsuffix=\"_r\")\n",
    "qs.head()"
   ]
  },
  {
   "cell_type": "code",
   "execution_count": 14,
   "metadata": {},
   "outputs": [],
   "source": [
    "qs[\"Tags\"] = qs.Tags.apply(lambda x: x.split(\";\")[1:])\n",
    "qs[\"hasAnswers\"] = qs.AnswerCount > 1"
   ]
  },
  {
   "cell_type": "code",
   "execution_count": 15,
   "metadata": {},
   "outputs": [
    {
     "data": {
      "text/plain": [
       "Index([u'AcceptedAnswerId', u'AnswerCount', u'BodyNCodes', u'BodyNQMarks',\n",
       "       u'BodySize', u'ClosedDate', u'CommentCount', u'CommunityOwnedDate',\n",
       "       u'CreationDate', u'FavoriteCount', u'Id', u'LastActivityDate',\n",
       "       u'LastEditDate', u'LastEditorUserId', u'OwnerUserId', u'ParentId',\n",
       "       u'PostTypeId', u'Score', u'Tags', u'Title', u'ViewCount', u'Id_r',\n",
       "       u'hot_indices', u'nwords', u'ordersum', u'prob_bern', u'prob_poiss',\n",
       "       u'ratio', u'hasAnswers'],\n",
       "      dtype='object')"
      ]
     },
     "execution_count": 15,
     "metadata": {},
     "output_type": "execute_result"
    }
   ],
   "source": [
    "# check available info\n",
    "qs.columns"
   ]
  },
  {
   "cell_type": "code",
   "execution_count": 16,
   "metadata": {},
   "outputs": [
    {
     "name": "stdout",
     "output_type": "stream",
     "text": [
      "2017-10-25 11:54:50.862249\n"
     ]
    }
   ],
   "source": [
    "now = pd.Timestamp.now()\n",
    "print now"
   ]
  },
  {
   "cell_type": "code",
   "execution_count": 17,
   "metadata": {},
   "outputs": [],
   "source": [
    "qs[\"dt_created\"] = now - qs.CreationDate"
   ]
  },
  {
   "cell_type": "code",
   "execution_count": 18,
   "metadata": {},
   "outputs": [
    {
     "data": {
      "image/png": "[encoded data removed]",
      "text/plain": [
       "<matplotlib.figure.Figure at 0x7f2164baef50>"
      ]
     },
     "metadata": {},
     "output_type": "display_data"
    }
   ],
   "source": [
    "plt.figure(figsize=(8,6))\n",
    "plt.xlabel(r\"Number of replies to a question\")\n",
    "plt.ylabel(r\"Counts\")\n",
    "qs.AnswerCount.hist(bins=100, range=(0, 10), color=\"k\", alpha=0.8)\n",
    "plt.savefig(\"./plots/naswers_hist.pdf\")"
   ]
  },
  {
   "cell_type": "code",
   "execution_count": 19,
   "metadata": {},
   "outputs": [
    {
     "name": "stderr",
     "output_type": "stream",
     "text": [
      "/home/alex/auger/coding/utilities/util_general.py:563: RuntimeWarning: invalid value encountered in log10\n",
      "  max(2 - np.floor(np.abs(np.log10(ztrafo(zedgs[i])))), 0), 2)\n"
     ]
    },
    {
     "data": {
      "image/png": "[encoded data removed]",
      "text/plain": [
       "<matplotlib.figure.Figure at 0x7f213eb63e10>"
      ]
     },
     "metadata": {},
     "output_type": "display_data"
    }
   ],
   "source": [
    "plt.figure(figsize=(8,6))\n",
    "plt.xlabel(r\"Days since a question was created\")\n",
    "plt.ylabel(r\"Number of answers\")\n",
    "QuickSlicePlot(qs.dt_created.dt.days, qs.AnswerCount, qs.Score, zbins=1, xbins=10, \n",
    "               yrange=[0, 3], axes=plt.gca(), outliers=False)\n",
    "plt.savefig(\"./plots/nanswers_vs_dt.pdf\")"
   ]
  },
  {
   "cell_type": "code",
   "execution_count": 20,
   "metadata": {},
   "outputs": [],
   "source": [
    "# cutting on too short questions because metrics are not working for those (yet)\n",
    "qs = qs[qs.nwords > 5]"
   ]
  },
  {
   "cell_type": "code",
   "execution_count": 21,
   "metadata": {},
   "outputs": [
    {
     "name": "stdout",
     "output_type": "stream",
     "text": [
      "495285\n"
     ]
    }
   ],
   "source": [
    "print len(qs)"
   ]
  },
  {
   "cell_type": "code",
   "execution_count": 22,
   "metadata": {},
   "outputs": [
    {
     "name": "stdout",
     "output_type": "stream",
     "text": [
      "495285\n"
     ]
    }
   ],
   "source": [
    "# shuffling the df to avoid time dependencies for now\n",
    "from sklearn.utils import shuffle\n",
    "qs = shuffle(qs)\n",
    "print len(qs)"
   ]
  },
  {
   "cell_type": "code",
   "execution_count": 23,
   "metadata": {},
   "outputs": [
    {
     "name": "stdout",
     "output_type": "stream",
     "text": [
      "   AcceptedAnswerId  AnswerCount  BodyNCodes  BodyNQMarks  BodySize  \\\n",
      "0                -1            1           2            3       901   \n",
      "1          41895867            1          10            1      1735   \n",
      "2                -1            0           0            1       402   \n",
      "3                -1            1           1            4      2052   \n",
      "4                -1            0           2            2     17330   \n",
      "\n",
      "     ClosedDate  CommentCount  CommunityOwnedDate               CreationDate  \\\n",
      "0 -1.000000e+00             0                -1.0 2017-01-20 17:10:55.488000   \n",
      "1 -1.000000e+00             1                -1.0 2017-01-27 12:48:25.286400   \n",
      "2  2.457755e+06             0                -1.0 2017-01-01 02:51:21.254400   \n",
      "3 -1.000000e+00             2                -1.0 2017-02-07 16:23:52.972800   \n",
      "4 -1.000000e+00             2                -1.0 2017-01-14 10:32:51.072000   \n",
      "\n",
      "   FavoriteCount     ...      LastActivityDate_a  LastEditDate_a  \\\n",
      "0             -1     ...            2.457774e+06    2.457774e+06   \n",
      "1             -1     ...            2.457781e+06    2.457781e+06   \n",
      "2             -1     ...                     NaN             NaN   \n",
      "3             -1     ...            2.457792e+06   -1.000000e+00   \n",
      "4             -1     ...                     NaN             NaN   \n",
      "\n",
      "   LastEditorUserId_a  OwnerUserId_a  ParentId_a  PostTypeId_a  Score_a  \\\n",
      "0           3777113.0      3777113.0  41768983.0           2.0      1.0   \n",
      "1           1447173.0      1447173.0  41894360.0           2.0      1.0   \n",
      "2                 NaN            NaN         NaN           NaN      NaN   \n",
      "3                -1.0      7089934.0  42094946.0           2.0      0.0   \n",
      "4                 NaN            NaN         NaN           NaN      NaN   \n",
      "\n",
      "   Tags_a Title_a ViewCount_a  \n",
      "0                        -1.0  \n",
      "1                        -1.0  \n",
      "2     NaN     NaN         NaN  \n",
      "3                        -1.0  \n",
      "4     NaN     NaN         NaN  \n",
      "\n",
      "[5 rows x 51 columns]\n"
     ]
    }
   ],
   "source": [
    "# join information about first answer into the frame\n",
    "# RUN ONLY ONCE or results in duplicate rows\n",
    "qs = qs.merge(answers, how=\"left\", left_on=\"Id\", right_on=\"ParentId\", suffixes=(\"\", \"_a\"))\n",
    "print qs.head()"
   ]
  },
  {
   "cell_type": "code",
   "execution_count": 25,
   "metadata": {},
   "outputs": [],
   "source": [
    "qs[\"CreationDate_a\"] = pd.to_datetime(qs.CreationDate_a, origin=\"julian\", unit=\"D\")"
   ]
  },
  {
   "cell_type": "code",
   "execution_count": 26,
   "metadata": {},
   "outputs": [],
   "source": [
    "# time between questions posing and first answer\n",
    "dtanswer = qs.CreationDate_a - qs.CreationDate"
   ]
  },
  {
   "cell_type": "code",
   "execution_count": 27,
   "metadata": {},
   "outputs": [
    {
     "data": {
      "text/plain": [
       "count                      531129\n",
       "mean       4 days 19:10:11.643834\n",
       "std       22 days 09:47:44.240422\n",
       "min      -1 days +05:13:42.067200\n",
       "25%        0 days 00:11:27.052800\n",
       "50%        0 days 00:40:35.702400\n",
       "75%        0 days 06:26:01.939200\n",
       "max      237 days 05:34:29.078400\n",
       "dtype: object"
      ]
     },
     "execution_count": 27,
     "metadata": {},
     "output_type": "execute_result"
    }
   ],
   "source": [
    "plt.figure(figsize=(8, 6))\n",
    "plt.xlabel(r\"Time between question and answer\")\n",
    "plt.ylabel(r\"Counts\")\n",
    "plt.hist(dtanswer, bins=100, color=\"k\", alpha=0.8)\n",
    "plt.savefig(\"./plots/dtanswer_hist.pdf\")"
   ]
  },
  {
   "cell_type": "code",
   "execution_count": 32,
   "metadata": {},
   "outputs": [],
   "source": [
    "# scikitlearn import\n",
    "from sklearn import base\n",
    "from sklearn.linear_model import Ridge\n",
    "from sklearn.pipeline import Pipeline\n",
    "from sklearn import model_selection\n",
    "from scipy import stats\n",
    "from sklearn.feature_extraction import DictVectorizer\n",
    "from sklearn.feature_extraction.text import TfidfTransformer\n",
    "from sklearn.svm import SVR\n",
    "from sklearn.preprocessing import PolynomialFeatures\n",
    "from sklearn.neural_network import MLPRegressor\n",
    "from sklearn.ensemble import RandomForestRegressor"
   ]
  },
  {
   "cell_type": "code",
   "execution_count": 33,
   "metadata": {},
   "outputs": [],
   "source": [
    "class ColumnSelectTransformer(base.BaseEstimator, base.TransformerMixin):\n",
    "    \n",
    "    def __init__(self, col_names):\n",
    "        self.col_names = col_names  # We will need these in transform()\n",
    "    \n",
    "    def fit(self, X, y=None):\n",
    "        # This transformer doesn't need to learn anything about the data,\n",
    "        # so it can just return self without any further processing\n",
    "        return self\n",
    "    \n",
    "    def transform(self, X):\n",
    "        return X[self.col_names]"
   ]
  },
  {
   "cell_type": "code",
   "execution_count": 34,
   "metadata": {},
   "outputs": [],
   "source": [
    "from collections import Counter\n",
    "\n",
    "class DictEncoder(base.BaseEstimator, base.TransformerMixin):\n",
    "    \n",
    "    def fit(self, X, y=None):\n",
    "        return self\n",
    "    \n",
    "    def transform(self, X):\n",
    "        a = X.Tags.apply(Counter)\n",
    "        return a"
   ]
  },
  {
   "cell_type": "code",
   "execution_count": null,
   "metadata": {},
   "outputs": [],
   "source": [
    "pipe_tags = Pipeline([\n",
    "        (\"cst\", ColumnSelectTransformer([\"Tags\"])),\n",
    "        (\"dec\", DictEncoder()),\n",
    "        (\"dvec\", DictVectorizer(sparse=False)),\n",
    "        (\"tfid\", TfidfTransformer()),\n",
    "#        (\"poly\", PolynomialFeatures(degree=2)),  # not working???\n",
    "        (\"ridge\", Ridge(alpha=10.0))\n",
    "#        (\"kridge\", KernelRidge(alpha=1.))  # runs out of memory quickly while fitting...\n",
    "#        (\"svr\", SVR())\n",
    "    ])\n",
    "\n",
    "pipe_tags.fit(qs.iloc[:10000], qs.AnswerCount.iloc[:10000])\n",
    "pred = pipe_tags.predict(qs08.iloc[-5000:])\n",
    "print np.column_stack((pred, qs08.AnswerCount.iloc[-5000:]))\n",
    "print pipe_tags.score(qs08.iloc[-5000:], qs08.AnswerCount.iloc[-5000:])"
   ]
  },
  {
   "cell_type": "code",
   "execution_count": null,
   "metadata": {},
   "outputs": [],
   "source": [
    "from sklearn.pipeline import FeatureUnion\n",
    "\n",
    "#union = FeatureUnion([\n",
    "#        (\"city\", EstimatorTransformer(city_est)),\n",
    "#        (\"latlong\", EstimatorTransformer(pipe_latlong)),\n",
    "#        (\"attribute\", EstimatorTransformer(pipe_attribute)),\n",
    "#        (\"category\", EstimatorTransformer(pipe_category))\n",
    "#    ])"
   ]
  },
  {
   "cell_type": "code",
   "execution_count": null,
   "metadata": {},
   "outputs": [],
   "source": [
    "cv = model_selection.ShuffleSplit(n_splits=20, test_size=0.2, random_state=42)\n",
    "def compute_error(est, X, y):\n",
    "    return -model_selection.cross_val_score(est, X, y, cv=cv, scoring='neg_mean_squared_error').mean()"
   ]
  },
  {
   "cell_type": "code",
   "execution_count": null,
   "metadata": {},
   "outputs": [],
   "source": [
    "qs08.columns"
   ]
  },
  {
   "cell_type": "code",
   "execution_count": null,
   "metadata": {},
   "outputs": [],
   "source": [
    "pipe_f = Pipeline([\n",
    "        (\"cst\", ColumnSelectTransformer([\"BodyNCodes\", \"BodyNQMarks\", \"BodySize\", \"nwords\", \"ratios\"])),\n",
    "        (\"poly\", PolynomialFeatures(degree=3)),\n",
    "        (\"ridge\", Ridge(alpha=10.0))\n",
    "#        (\"kridge\", KernelRidge(alpha=1.))  # runs out of memory quickly while fitting...\n",
    "#        (\"svr\", SVR())\n",
    "    ])\n",
    "\n",
    "pipe_f.fit(qs08.iloc[:10000], qs08.AnswerCount.iloc[:10000])\n",
    "pred = pipe_f.predict(qs08.iloc[-5000:])\n",
    "print np.column_stack((pred, qs08.AnswerCount.iloc[-5000:]))\n",
    "print pipe_f.score(qs08.iloc[-5000:], qs08.AnswerCount.iloc[-5000:])\n",
    "\n",
    "print compute_error(pipe_f, qs08, qs08.AnswerCount)"
   ]
  },
  {
   "cell_type": "code",
   "execution_count": null,
   "metadata": {},
   "outputs": [],
   "source": [
    "plt.plot(qs08.probs, qs08.AnswerCount, \"k.\")"
   ]
  },
  {
   "cell_type": "code",
   "execution_count": null,
   "metadata": {},
   "outputs": [],
   "source": []
  }
 ],
 "metadata": {
  "kernelspec": {
   "display_name": "Python 2",
   "language": "python",
   "name": "python2"
  },
  "language_info": {
   "codemirror_mode": {
    "name": "ipython",
    "version": 2
   },
   "file_extension": ".py",
   "mimetype": "text/x-python",
   "name": "python",
   "nbconvert_exporter": "python",
   "pygments_lexer": "ipython2",
   "version": "2.7.14"
  }
 },
 "nbformat": 4,
 "nbformat_minor": 2
}
