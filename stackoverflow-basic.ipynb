{
 "cells": [
  {
   "cell_type": "markdown",
   "metadata": {
    "slideshow": {
     "slide_type": "slide"
    }
   },
   "source": [
    "# Stackoverflow: basic analysis"
   ]
  },
  {
   "cell_type": "markdown",
   "metadata": {
    "slideshow": {
     "slide_type": "slide"
    }
   },
   "source": [
    "![Screenshot](screenshot.png \"The Stackoverflow website\")"
   ]
  },
  {
   "cell_type": "markdown",
   "metadata": {
    "slideshow": {
     "slide_type": "subslide"
    }
   },
   "source": [
    "https://stackoverflow.com/ is a wonderful resource for people with a professional background in software development, beginners, or all intermediate levels. Users can ask detailed questions about topics related to software and software development. People with more experience in the topic will respond to those questions. This leads to fruitful discussions and interesting connections between users with different levels of expertise, and of course connections between different areas of software development.\n",
    "\n",
    "The idea of the basic analysis in this notebook is to plot general values like the number of posts versus time, additionally split into different categories / tags.\n",
    "The frequency of tags and the relation between those tags is of further interest. We want to also plot the network of tags in order to discover interesting connections and links (possible as a function of time).\n",
    "The later goal of training tensorflow to predict good questions and responses with natural language processing will be attempted in a seperate notebook."
   ]
  },
  {
   "cell_type": "markdown",
   "metadata": {
    "slideshow": {
     "slide_type": "subslide"
    }
   },
   "source": [
    "The data of posts, comments, etc from the stackoverflow website as well as all other stack exchange websites is openly available at https://archive.org/details/stackexchange under the CreativeCommons 3.0 license. We hereby indicate that proper reference to the source of the data was given.\n",
    "\n",
    "All of the data is provided in 7zipped XML files with a clear and clean structure.\n",
    "These huge XML files can be unzipped and read, or alternatively, iterated over directly in zipped form. We decided to start with the latter approach in order to not occupy too much disk space. Unzipping the files first, however, enables us to have more freedom in parallelizing the reading of data. This might need to be explored more at a later point.\n",
    "\n",
    "The python library hosted at https://github.com/smartfile/python-libarchive provides an interface to libarchive written in C++. Using this library, we can open and iterative 7z files directly without unpacking them first."
   ]
  },
  {
   "cell_type": "markdown",
   "metadata": {
    "slideshow": {
     "slide_type": "subslide"
    }
   },
   "source": [
    "The technical part of iterating over the zipped files and saving them out is done by a python module found here: https://github.com/AkagiShigeru/incubator-overflow/blob/master/stack_readin.py. Through the use of a generator to iterate over the entries in the file, the memory consumption is very low. The writing to the HDF file is done sequentielly. A certain chunk from memory is written and the memory is released.\n",
    "\n",
    "For the purpose of some first insightful plots, we will start to analyse the subset of the first 5 million posts. These were written out into an hdf5 file and can be conveniently read with pandas and its interface to pytables. The total number of posts (questions + answers) in the stackoverflow dump until 2017 is around 37 million."
   ]
  },
  {
   "cell_type": "code",
   "execution_count": 92,
   "metadata": {},
   "outputs": [],
   "source": [
    "%matplotlib inline\n",
    "import pandas as pd\n",
    "import numpy as np\n",
    "import seaborn as sns\n",
    "from pyik.mplext import ViolinPlot\n",
    "from matplotlib import pyplot as plt\n",
    "from matplotlib.ticker import MultipleLocator, FormatStrFormatter"
   ]
  },
  {
   "cell_type": "markdown",
   "metadata": {},
   "source": [
    "We are using the PyIK library (https://github.com/HDembinski/pyik) for some special plots and analyses. We are co-authors of this nice library with some neat additions to numpy and matplotlib, specifically for fitting and data analysis."
   ]
  },
  {
   "cell_type": "code",
   "execution_count": 3,
   "metadata": {},
   "outputs": [],
   "source": [
    "# path to the hdf file containing the first 5M posts (posts or comments)\n",
    "posts_path = \"/home/alex/data/stackexchange/overflow/caches/posts_first5M.hdf5\""
   ]
  },
  {
   "cell_type": "code",
   "execution_count": 8,
   "metadata": {},
   "outputs": [],
   "source": [
    "store = pd.HDFStore(posts_path, \"r\", complib=\"blosc\", complevel=9)\n",
    "\n",
    "# the hdf file containing posts was written in pytables tables format\n",
    "# this optionally allows the user to query for a subset of the data on disk without ever loading all data into RAM\n",
    "\n",
    "# select only questions, they have PostTypeId == 1\n",
    "# we can specify only certain columns that should be returned\n",
    "cols = None\n",
    "smask = store.select_as_coordinates(\"posts\", \"PostTypeId < 2\")\n",
    "posts = store.select(\"posts\", where=smask)"
   ]
  },
  {
   "cell_type": "code",
   "execution_count": 24,
   "metadata": {},
   "outputs": [
    {
     "name": "stdout",
     "output_type": "stream",
     "text": [
      "(1522025, 23)\n",
      "   AcceptedAnswerId  AnswerCount Body  BodyNQMarks  BodySize ClosedDate  \\\n",
      "0                 7           13                 0       662        NaT   \n",
      "1                31            5                 3       978        NaT   \n",
      "3              1404           60                 1       140        NaT   \n",
      "4              1248           33                 0       265        NaT   \n",
      "6                -1           24                 2       188        NaT   \n",
      "\n",
      "   CommentCount      CommunityOwnedDate            CreationDate  \\\n",
      "0             5 2012-10-31 16:42:47.213 2008-07-31 21:42:52.667   \n",
      "1             0                     NaT 2008-07-31 22:08:08.620   \n",
      "3             8 2011-08-16 19:40:43.080 2008-07-31 23:40:59.743   \n",
      "4             3 2009-09-04 13:15:59.820 2008-07-31 23:55:37.967   \n",
      "6             3                     NaT 2008-08-01 00:42:38.903   \n",
      "\n",
      "   FavoriteCount    ...      LastEditorDisplayName LastEditorUserId  \\\n",
      "0             37    ...                     Rich B           126970   \n",
      "1              8    ...                     Rich B            63550   \n",
      "3            344    ...                     Rich B          6025198   \n",
      "4            521    ...                user2370523          6479704   \n",
      "6            123    ...                     Rich B          3155639   \n",
      "\n",
      "  OwnerDisplayName OwnerUserId  ParentId PostTypeId  Score  \\\n",
      "0                            8        -1          1    506   \n",
      "1                            9        -1          1    223   \n",
      "3                            1        -1          1   1546   \n",
      "4                            1        -1          1   1205   \n",
      "6                            9        -1          1    495   \n",
      "\n",
      "                                               Tags  \\\n",
      "0      ;c#;winforms;type-conversion;decimal;opacity   \n",
      "1                ;html;css;css3;internet-explorer-7   \n",
      "3                                 ;c#;.net;datetime   \n",
      "4     ;c#;datetime;time;datediff;relative-time-span   \n",
      "6  ;javascript;html;browser;timezone;timezoneoffset   \n",
      "\n",
      "                                               Title  ViewCount  \n",
      "0  While applying opacity to a form should we use...      32399  \n",
      "1  Percentage width child element in absolutely p...      14997  \n",
      "3                                Calculate age in C#     399006  \n",
      "4                      Calculate relative time in C#     122973  \n",
      "6                        Determine a User's Timezone     141997  \n",
      "\n",
      "[5 rows x 23 columns]\n"
     ]
    }
   ],
   "source": [
    "print posts.shape\n",
    "print posts.head()"
   ]
  },
  {
   "cell_type": "code",
   "execution_count": 25,
   "metadata": {},
   "outputs": [],
   "source": [
    "posts.columns\n",
    "dates = [\"ClosedDate\", \"CommunityOwnedDate\", \"CreationDate\", \"LastActivityDate\", \"LastEditDate\"]"
   ]
  },
  {
   "cell_type": "code",
   "execution_count": 26,
   "metadata": {},
   "outputs": [],
   "source": [
    "# convert creation date to pandas datetime\n",
    "for date in dates:\n",
    "    posts[date] = pd.to_datetime(posts[date])"
   ]
  },
  {
   "cell_type": "code",
   "execution_count": 27,
   "metadata": {},
   "outputs": [
    {
     "data": {
      "text/html": [
       "<div>\n",
       "<style>\n",
       "    .dataframe thead tr:only-child th {\n",
       "        text-align: right;\n",
       "    }\n",
       "\n",
       "    .dataframe thead th {\n",
       "        text-align: left;\n",
       "    }\n",
       "\n",
       "    .dataframe tbody tr th {\n",
       "        vertical-align: top;\n",
       "    }\n",
       "</style>\n",
       "<table border=\"1\" class=\"dataframe\">\n",
       "  <thead>\n",
       "    <tr style=\"text-align: right;\">\n",
       "      <th></th>\n",
       "      <th>AcceptedAnswerId</th>\n",
       "      <th>AnswerCount</th>\n",
       "      <th>Body</th>\n",
       "      <th>BodyNQMarks</th>\n",
       "      <th>BodySize</th>\n",
       "      <th>ClosedDate</th>\n",
       "      <th>CommentCount</th>\n",
       "      <th>CommunityOwnedDate</th>\n",
       "      <th>CreationDate</th>\n",
       "      <th>FavoriteCount</th>\n",
       "      <th>...</th>\n",
       "      <th>LastEditorDisplayName</th>\n",
       "      <th>LastEditorUserId</th>\n",
       "      <th>OwnerDisplayName</th>\n",
       "      <th>OwnerUserId</th>\n",
       "      <th>ParentId</th>\n",
       "      <th>PostTypeId</th>\n",
       "      <th>Score</th>\n",
       "      <th>Tags</th>\n",
       "      <th>Title</th>\n",
       "      <th>ViewCount</th>\n",
       "    </tr>\n",
       "  </thead>\n",
       "  <tbody>\n",
       "    <tr>\n",
       "      <th>199993</th>\n",
       "      <td>6034133</td>\n",
       "      <td>1</td>\n",
       "      <td></td>\n",
       "      <td>0</td>\n",
       "      <td>394</td>\n",
       "      <td>NaT</td>\n",
       "      <td>0</td>\n",
       "      <td>NaT</td>\n",
       "      <td>2011-05-17 16:25:35.593</td>\n",
       "      <td>-1</td>\n",
       "      <td>...</td>\n",
       "      <td></td>\n",
       "      <td>210916</td>\n",
       "      <td></td>\n",
       "      <td>131050</td>\n",
       "      <td>-1</td>\n",
       "      <td>1</td>\n",
       "      <td>5</td>\n",
       "      <td>;node.js;connect;express</td>\n",
       "      <td>Connect session middleware - regenerate vs reload</td>\n",
       "      <td>1742</td>\n",
       "    </tr>\n",
       "    <tr>\n",
       "      <th>199996</th>\n",
       "      <td>6034065</td>\n",
       "      <td>1</td>\n",
       "      <td></td>\n",
       "      <td>1</td>\n",
       "      <td>187</td>\n",
       "      <td>NaT</td>\n",
       "      <td>2</td>\n",
       "      <td>NaT</td>\n",
       "      <td>2011-05-17 16:25:37.787</td>\n",
       "      <td>-1</td>\n",
       "      <td>...</td>\n",
       "      <td></td>\n",
       "      <td>436641</td>\n",
       "      <td></td>\n",
       "      <td>590898</td>\n",
       "      <td>-1</td>\n",
       "      <td>1</td>\n",
       "      <td>0</td>\n",
       "      <td>;android;google-maps</td>\n",
       "      <td>How can I use Google Maps to let people see ea...</td>\n",
       "      <td>529</td>\n",
       "    </tr>\n",
       "    <tr>\n",
       "      <th>199997</th>\n",
       "      <td>6035228</td>\n",
       "      <td>1</td>\n",
       "      <td></td>\n",
       "      <td>2</td>\n",
       "      <td>803</td>\n",
       "      <td>NaT</td>\n",
       "      <td>2</td>\n",
       "      <td>NaT</td>\n",
       "      <td>2011-05-17 16:25:42.970</td>\n",
       "      <td>-1</td>\n",
       "      <td>...</td>\n",
       "      <td></td>\n",
       "      <td>592301</td>\n",
       "      <td></td>\n",
       "      <td>592301</td>\n",
       "      <td>-1</td>\n",
       "      <td>1</td>\n",
       "      <td>0</td>\n",
       "      <td>;html5;silverlight-4.0;richtextbox;contentedit...</td>\n",
       "      <td>HTML5 Equivalent to Silverlight RichTextBox?</td>\n",
       "      <td>1648</td>\n",
       "    </tr>\n",
       "    <tr>\n",
       "      <th>199998</th>\n",
       "      <td>6034142</td>\n",
       "      <td>2</td>\n",
       "      <td></td>\n",
       "      <td>0</td>\n",
       "      <td>1622</td>\n",
       "      <td>NaT</td>\n",
       "      <td>0</td>\n",
       "      <td>NaT</td>\n",
       "      <td>2011-05-17 16:25:47.757</td>\n",
       "      <td>-1</td>\n",
       "      <td>...</td>\n",
       "      <td></td>\n",
       "      <td>-1</td>\n",
       "      <td></td>\n",
       "      <td>604876</td>\n",
       "      <td>-1</td>\n",
       "      <td>1</td>\n",
       "      <td>0</td>\n",
       "      <td>;java;mysql;jboss;entity</td>\n",
       "      <td>insertupdate sql mysql and jpa entity</td>\n",
       "      <td>1531</td>\n",
       "    </tr>\n",
       "    <tr>\n",
       "      <th>199999</th>\n",
       "      <td>6034829</td>\n",
       "      <td>2</td>\n",
       "      <td></td>\n",
       "      <td>3</td>\n",
       "      <td>667</td>\n",
       "      <td>NaT</td>\n",
       "      <td>0</td>\n",
       "      <td>NaT</td>\n",
       "      <td>2011-05-17 16:25:53.373</td>\n",
       "      <td>1</td>\n",
       "      <td>...</td>\n",
       "      <td></td>\n",
       "      <td>-1</td>\n",
       "      <td></td>\n",
       "      <td>169867</td>\n",
       "      <td>-1</td>\n",
       "      <td>1</td>\n",
       "      <td>3</td>\n",
       "      <td>;entity-framework;entity-framework-4;entity</td>\n",
       "      <td>Why is the TableAttribute in the Entity Framew...</td>\n",
       "      <td>3258</td>\n",
       "    </tr>\n",
       "  </tbody>\n",
       "</table>\n",
       "<p>5 rows × 23 columns</p>\n",
       "</div>"
      ],
      "text/plain": [
       "        AcceptedAnswerId  AnswerCount Body  BodyNQMarks  BodySize ClosedDate  \\\n",
       "199993           6034133            1                 0       394        NaT   \n",
       "199996           6034065            1                 1       187        NaT   \n",
       "199997           6035228            1                 2       803        NaT   \n",
       "199998           6034142            2                 0      1622        NaT   \n",
       "199999           6034829            2                 3       667        NaT   \n",
       "\n",
       "        CommentCount CommunityOwnedDate            CreationDate  \\\n",
       "199993             0                NaT 2011-05-17 16:25:35.593   \n",
       "199996             2                NaT 2011-05-17 16:25:37.787   \n",
       "199997             2                NaT 2011-05-17 16:25:42.970   \n",
       "199998             0                NaT 2011-05-17 16:25:47.757   \n",
       "199999             0                NaT 2011-05-17 16:25:53.373   \n",
       "\n",
       "        FavoriteCount    ...      LastEditorDisplayName LastEditorUserId  \\\n",
       "199993             -1    ...                                      210916   \n",
       "199996             -1    ...                                      436641   \n",
       "199997             -1    ...                                      592301   \n",
       "199998             -1    ...                                          -1   \n",
       "199999              1    ...                                          -1   \n",
       "\n",
       "       OwnerDisplayName OwnerUserId  ParentId PostTypeId  Score  \\\n",
       "199993                       131050        -1          1      5   \n",
       "199996                       590898        -1          1      0   \n",
       "199997                       592301        -1          1      0   \n",
       "199998                       604876        -1          1      0   \n",
       "199999                       169867        -1          1      3   \n",
       "\n",
       "                                                     Tags  \\\n",
       "199993                           ;node.js;connect;express   \n",
       "199996                               ;android;google-maps   \n",
       "199997  ;html5;silverlight-4.0;richtextbox;contentedit...   \n",
       "199998                           ;java;mysql;jboss;entity   \n",
       "199999        ;entity-framework;entity-framework-4;entity   \n",
       "\n",
       "                                                    Title  ViewCount  \n",
       "199993  Connect session middleware - regenerate vs reload       1742  \n",
       "199996  How can I use Google Maps to let people see ea...        529  \n",
       "199997       HTML5 Equivalent to Silverlight RichTextBox?       1648  \n",
       "199998              insertupdate sql mysql and jpa entity       1531  \n",
       "199999  Why is the TableAttribute in the Entity Framew...       3258  \n",
       "\n",
       "[5 rows x 23 columns]"
      ]
     },
     "execution_count": 27,
     "metadata": {},
     "output_type": "execute_result"
    }
   ],
   "source": [
    "posts.tail()"
   ]
  },
  {
   "cell_type": "code",
   "execution_count": 52,
   "metadata": {},
   "outputs": [
    {
     "data": {
      "image/png": "[encoded data removed]",
      "text/plain": [
       "<matplotlib.figure.Figure at 0x7f29f54d8c50>"
      ]
     },
     "metadata": {},
     "output_type": "display_data"
    }
   ],
   "source": [
    "# plot a histogram of the overall number of questions vs. time\n",
    "plt.figure()\n",
    "plt.ylabel(r\"Number of questions per time interval\")\n",
    "posts.CreationDate.hist(grid=False, xrot=90, figsize=(8, 6), histtype=\"step\", color=\"black\", lw=2, bins=40)\n",
    "plt.gca().yaxis.set_major_formatter(FormatStrFormatter(\"%.0f\"))"
   ]
  },
  {
   "cell_type": "code",
   "execution_count": 81,
   "metadata": {},
   "outputs": [
    {
     "name": "stdout",
     "output_type": "stream",
     "text": [
      "0    Thursday\n",
      "1    Thursday\n",
      "3    Thursday\n",
      "4    Thursday\n",
      "6      Friday\n",
      "Name: CreationDate, dtype: object\n",
      "0    3\n",
      "1    3\n",
      "3    3\n",
      "4    3\n",
      "6    4\n",
      "Name: CreationDate, dtype: int64\n"
     ]
    },
    {
     "data": {
      "image/png": "[encoded data removed]",
      "text/plain": [
       "<matplotlib.figure.Figure at 0x7f2a0c3634d0>"
      ]
     },
     "metadata": {},
     "output_type": "display_data"
    }
   ],
   "source": [
    "# what about the day of the week?\n",
    "print posts.CreationDate.dt.weekday_name.head()\n",
    "print posts.CreationDate.dt.weekday.head()\n",
    "plt.figure()\n",
    "plt.ylabel(r\"Number of questions per day\")\n",
    "posts.CreationDate.dt.weekday.hist(grid=False, xrot=90, figsize=(8, 6), histtype=\"step\", color=\"black\", lw=2, bins=40)\n",
    "plt.gca().set_xticklabels([\"\", \"Monday\", \"Tuesday\", \"Wednesday\", \"Thursday\", \"Friday\", \"Saturday\", \"Sunday\"])\n",
    "plt.gca().yaxis.set_major_formatter(FormatStrFormatter(\"%.0f\"))"
   ]
  },
  {
   "cell_type": "code",
   "execution_count": 47,
   "metadata": {},
   "outputs": [
    {
     "name": "stdout",
     "output_type": "stream",
     "text": [
      "Number of questions related to Python 58422\n",
      "Number of questions related to C++ 73010\n",
      "Number of questions related to Java 215200\n",
      "Number of questions related to SQL 127350\n",
      "Number of questions related to Bash 5773\n"
     ]
    }
   ],
   "source": [
    "# testing for different tags, e.g. python\n",
    "print \"Number of questions related to Python\", np.sum(posts.Tags.str.lower().str.contains(\"python\"))\n",
    "print \"Number of questions related to C++\", np.sum(posts.Tags.str.lower().str.contains(\"c\\+\\+\"))\n",
    "print \"Number of questions related to Java\", np.sum(posts.Tags.str.lower().str.contains(\"java\"))\n",
    "print \"Number of questions related to SQL\", np.sum(posts.Tags.str.lower().str.contains(\"sql\"))\n",
    "print \"Number of questions related to Bash\", np.sum(posts.Tags.str.lower().str.contains(\"bash\"))"
   ]
  },
  {
   "cell_type": "code",
   "execution_count": 51,
   "metadata": {},
   "outputs": [],
   "source": [
    "# importing a few utilties\n",
    "from stack_util import *\n",
    "tags = [\"Python\", \"C\\+\\+\", \"Java\", \"SQL\", \"Bash\"]"
   ]
  },
  {
   "cell_type": "code",
   "execution_count": 102,
   "metadata": {},
   "outputs": [
    {
     "data": {
      "text/plain": [
       "<matplotlib.legend.Legend at 0x7f2a7c989dd0>"
      ]
     },
     "execution_count": 102,
     "metadata": {},
     "output_type": "execute_result"
    },
    {
     "data": {
      "image/png": "[encoded data removed]",
      "text/plain": [
       "<matplotlib.figure.Figure at 0x7f29f39c1150>"
      ]
     },
     "metadata": {},
     "output_type": "display_data"
    }
   ],
   "source": [
    "# plot a histogram of posts vs. time for those selected tags\n",
    "# plot a histogram of the overall number of questions vs. time\n",
    "plt.figure()\n",
    "plt.ylabel(r\"Number of questions per time bin\")\n",
    "for i, tag in enumerate(tags):\n",
    "    tagposts = posts[posts.Tags.str.lower().str.contains(tag.lower())]\n",
    "    tagposts.CreationDate.hist(grid=False, xrot=90, figsize=(8, 6), \n",
    "                               histtype=\"step\", color=g_carr[i], lw=2, bins=20, \n",
    "                               label=\"%s\" % tag.replace(\"\\\\\",\"\"))\n",
    "#plt.gca().yaxis.set_major_formatter(FormatStrFormatter(\"%.0f\"))\n",
    "plt.semilogy(nonposy=\"clip\")\n",
    "plt.legend(loc=\"upper left\")"
   ]
  },
  {
   "cell_type": "code",
   "execution_count": null,
   "metadata": {},
   "outputs": [],
   "source": [
    "# what if we want to normalize with respect to the overall number of questions (to better see trend)?\n",
    "# in that case it makes sense to look at a resampled representation of our DataFrame, for example one entry per month\n",
    "resample = posts.resample(\"1M\", on=\"CreationDate\").CreationDate.agg(len)\n",
    "print resample.head()\n",
    "print posts.head()"
   ]
  },
  {
   "cell_type": "code",
   "execution_count": 91,
   "metadata": {},
   "outputs": [
    {
     "data": {
      "image/png": "[encoded data removed]",
      "text/plain": [
       "<matplotlib.figure.Figure at 0x7f29efd42490>"
      ]
     },
     "metadata": {},
     "output_type": "display_data"
    }
   ],
   "source": [
    "# this is code to check that the resampling logic works as expected\n",
    "plt.figure()\n",
    "plt.ylabel(r\"Number of questions per time interval\")\n",
    "posts.CreationDate.hist(grid=False, xrot=90, figsize=(8, 6), histtype=\"step\", color=\"black\", lw=2, bins=35)\n",
    "plt.plot(resample.index, resample, \"ro\")\n",
    "plt.gca().yaxis.set_major_formatter(FormatStrFormatter(\"%.0f\"))"
   ]
  },
  {
   "cell_type": "markdown",
   "metadata": {},
   "source": [
    "another maybe cleaner option is to define a date range to be used as histogram edges for the whole data and apply it to each of the subselections"
   ]
  },
  {
   "cell_type": "code",
   "execution_count": 119,
   "metadata": {},
   "outputs": [],
   "source": [
    "date_edges = pd.date_range(posts.CreationDate.min(), posts.CreationDate.max(), freq=\"M\")\n",
    "# print date_edges\n",
    "date_centers = date_edges[:-1] + (date_edges[1:] - date_edges[:-1]) / 2\n",
    "# print date_centers"
   ]
  },
  {
   "cell_type": "code",
   "execution_count": 120,
   "metadata": {},
   "outputs": [],
   "source": [
    "allcounts = pd.cut(posts.CreationDate, bins=date_edges).value_counts()"
   ]
  },
  {
   "cell_type": "markdown",
   "metadata": {},
   "source": [
    "Plot again the number of questions vs. time for the different tags, but this time normalized to the total number of posts"
   ]
  },
  {
   "cell_type": "code",
   "execution_count": 125,
   "metadata": {},
   "outputs": [
    {
     "data": {
      "text/plain": [
       "<matplotlib.legend.Legend at 0x7f2a0d24f890>"
      ]
     },
     "execution_count": 125,
     "metadata": {},
     "output_type": "execute_result"
    },
    {
     "data": {
      "image/png": "[encoded data removed]",
      "text/plain": [
       "<matplotlib.figure.Figure at 0x7f2a0c2997d0>"
      ]
     },
     "metadata": {},
     "output_type": "display_data"
    }
   ],
   "source": [
    "plt.figure(figsize=(8, 6))\n",
    "plt.ylabel(r\"Number of questions per time bin and per total questions\")\n",
    "for i, tag in enumerate(tags):\n",
    "    tagposts = posts[posts.Tags.str.lower().str.contains(tag.lower())]\n",
    "    tagcounts = pd.cut(tagposts.CreationDate, bins=date_edges).value_counts()\n",
    "    plt.plot_date(date_centers, tagcounts * 1. / allcounts, ls=\"-\", ms=0,\n",
    "                  marker=g_markers[i], color=g_carr[i], \n",
    "                  label=\"%s\" % tag.replace(\"\\\\\",\"\"))\n",
    "#plt.gca().yaxis.set_major_formatter(FormatStrFormatter(\"%.0f\"))\n",
    "# plt.semilogy(nonposy=\"clip\")\n",
    "# plt.gca().set_xticklabels(plt.gca().get_xticklabels(), rotation=90, fontsize=12)\n",
    "plt.legend(loc=\"upper left\", ncol=2)"
   ]
  },
  {
   "cell_type": "code",
   "execution_count": null,
   "metadata": {},
   "outputs": [],
   "source": []
  }
 ],
 "metadata": {
  "kernelspec": {
   "display_name": "Python 2",
   "language": "python",
   "name": "python2"
  },
  "language_info": {
   "codemirror_mode": {
    "name": "ipython",
    "version": 2
   },
   "file_extension": ".py",
   "mimetype": "text/x-python",
   "name": "python",
   "nbconvert_exporter": "python",
   "pygments_lexer": "ipython2",
   "version": "2.7.14"
  }
 },
 "nbformat": 4,
 "nbformat_minor": 2
}
