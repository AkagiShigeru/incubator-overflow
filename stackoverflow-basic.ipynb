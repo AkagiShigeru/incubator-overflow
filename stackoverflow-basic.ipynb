{
 "cells": [
  {
   "cell_type": "markdown",
   "metadata": {},
   "source": [
    "# Stackoverflow: basic analysis"
   ]
  },
  {
   "cell_type": "markdown",
   "metadata": {},
   "source": [
    "![Screenshot](screenshot.png \"The Stackoverflow website\")"
   ]
  },
  {
   "cell_type": "markdown",
   "metadata": {},
   "source": [
    "https://stackoverflow.com/ is a wonderful resource for people with a professional background in software development, beginners, or all intermediate levels. Users can ask detailed questions about topics related to software and software development. People with more experience in the topic will respond to those questions. This leads to fruitful discussions and interesting connections between users with different levels of expertise, and of course connections between different areas in software development."
   ]
  },
  {
   "cell_type": "markdown",
   "metadata": {},
   "source": [
    "The idea of the basic analysis is to plot general values like the number of posts versus time, additionally split into different categories / tags.\n",
    "The frequency of tags and the relation between those tags is of further interest. We want to also plot the network of tags in order to discover interesting connections and links (possible as a function of time).\n",
    "The later goal of training tensorflow to predict good questions and responses will be attempted in a seperate notebook."
   ]
  },
  {
   "cell_type": "markdown",
   "metadata": {},
   "source": [
    "The data of posts, comments, etc from the stackoverflow website as well as all other stack exchange websites is openly available at https://archive.org/details/stackexchange under the CreativeCommons 3.0 license. We hereby indicate that proper reference to the source of the data was given."
   ]
  },
  {
   "cell_type": "markdown",
   "metadata": {},
   "source": [
    "All of the data is provided in 7zipped XML files with a clear and clean structure.\n",
    "These huge XML files can be unzipped and read, or alternatively, iterated over directly in zipped form. We decided to start with the latter approach in order to not occupy too much disk space. Unzipping the files first, however, enables us to have more freedom in parallelizing the reading of data. This might need to be explored more at a later point.\n",
    "\n",
    "The python library hosted at https://github.com/smartfile/python-libarchive provides an interface to libarchive written in C++. Using this library, we can open and iterative 7z files directly without unpacking them first."
   ]
  },
  {
   "cell_type": "markdown",
   "metadata": {},
   "source": [
    "The technical part of iterating over the zipped files and saving them out is done by a python module found here: https://github.com/AkagiShigeru/incubator-overflow/blob/master/stack_readin.py. Through the use of a generator to iterate over the entries in the file, the memory consumption is very low. The writing to the HDF file is done sequentielly. A certain chunk from memory is written and the memory is released."
   ]
  },
  {
   "cell_type": "markdown",
   "metadata": {},
   "source": [
    "For the purpose of some first insightful plots, we will start to analyse the subset of the first 100 million posts. These were written out into an hdf5 file and can be conveniently read with pandas and its interface to pytables."
   ]
  },
  {
   "cell_type": "code",
   "execution_count": 2,
   "metadata": {},
   "outputs": [],
   "source": [
    "import pandas as pd\n",
    "import numpy as np\n",
    "import seaborn as sns\n",
    "from pyik.mplext import ViolinPlot\n",
    "from matplotlib import pyplot as plt"
   ]
  },
  {
   "cell_type": "markdown",
   "metadata": {},
   "source": [
    "We are using the PyIK library (https://github.com/HDembinski/pyik) for some special plots and analyses. We are co-authors of this nice library with some neat additions to numpy and matplotlib."
   ]
  },
  {
   "cell_type": "code",
   "execution_count": 1,
   "metadata": {},
   "outputs": [],
   "source": [
    "# path to the hdf file containing the first 5M posts (posts or comments)\n",
    "posts_path = \"/home/alex/data/stackexchange/overflow/caches/posts_first5M.hdf5\""
   ]
  },
  {
   "cell_type": "code",
   "execution_count": null,
   "metadata": {},
   "outputs": [],
   "source": [
    "store = pd.HDFStore(posts_path, \"r\", complib=\"blosc\", complevel=9)\n",
    "\n",
    "# the hdf file containing posts was written in pytables tables format\n",
    "# this optionally allows the user to query for a subset of the data on disk without ever loading all data into RAM\n",
    "# smask = store.select_as_coordinates(\"posts\", \"Id > %f\" % 10000)\n",
    "# posts = store.select(\"data\", where=smask)"
   ]
  }
 ],
 "metadata": {
  "kernelspec": {
   "display_name": "Python 2",
   "language": "python",
   "name": "python2"
  },
  "language_info": {
   "codemirror_mode": {
    "name": "ipython",
    "version": 2
   },
   "file_extension": ".py",
   "mimetype": "text/x-python",
   "name": "python",
   "nbconvert_exporter": "python",
   "pygments_lexer": "ipython2",
   "version": "2.7.14"
  }
 },
 "nbformat": 4,
 "nbformat_minor": 2
}
