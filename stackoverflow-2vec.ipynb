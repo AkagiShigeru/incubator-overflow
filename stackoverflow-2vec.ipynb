{
 "cells": [
  {
   "cell_type": "code",
   "execution_count": 2,
   "metadata": {
    "ExecuteTime": {
     "end_time": "2017-11-20T11:45:00.753694Z",
     "start_time": "2017-11-20T11:44:59.787859Z"
    }
   },
   "outputs": [
    {
     "name": "stderr",
     "output_type": "stream",
     "text": [
      "Using TensorFlow backend.\n"
     ]
    }
   ],
   "source": [
    "%matplotlib inline\n",
    "from stack_nlp import *\n",
    "from jupyter_mplsettings import *\n",
    "matplotlib.rc('font', **font)\n",
    "from glob import glob"
   ]
  },
  {
   "cell_type": "code",
   "execution_count": 5,
   "metadata": {
    "ExecuteTime": {
     "end_time": "2017-11-20T11:45:55.302258Z",
     "start_time": "2017-11-20T11:45:55.298626Z"
    }
   },
   "outputs": [],
   "source": [
    "cfg = local_import(\"./laptop.py\")"
   ]
  },
  {
   "cell_type": "code",
   "execution_count": null,
   "metadata": {},
   "outputs": [],
   "source": [
    "conn = sqlite3.connect(cfg.posts_path)"
   ]
  },
  {
   "cell_type": "code",
   "execution_count": 8,
   "metadata": {
    "ExecuteTime": {
     "end_time": "2017-11-20T11:46:15.642204Z",
     "start_time": "2017-11-20T11:46:15.636771Z"
    }
   },
   "outputs": [
    {
     "name": "stdout",
     "output_type": "stream",
     "text": [
      "['/home/alex/data/stackexchange/overflow/caches/posts_2008.hdf5', '/home/alex/data/stackexchange/overflow/caches/posts_2009.hdf5', '/home/alex/data/stackexchange/overflow/caches/posts_2010.hdf5', '/home/alex/data/stackexchange/overflow/caches/posts_2011.hdf5', '/home/alex/data/stackexchange/overflow/caches/posts_2012.hdf5', '/home/alex/data/stackexchange/overflow/caches/posts_2013.hdf5', '/home/alex/data/stackexchange/overflow/caches/posts_2014.hdf5', '/home/alex/data/stackexchange/overflow/caches/posts_2015.hdf5', '/home/alex/data/stackexchange/overflow/caches/posts_2016.hdf5', '/home/alex/data/stackexchange/overflow/caches/posts_2017.hdf5']\n"
     ]
    }
   ],
   "source": [
    "allmetas = sorted(glob(os.path.join(cfg.paths[\"metas\"], \"posts_*.hdf5\")))\n",
    "print allmetas"
   ]
  },
  {
   "cell_type": "code",
   "execution_count": 10,
   "metadata": {
    "ExecuteTime": {
     "end_time": "2017-11-20T12:01:11.678697Z",
     "start_time": "2017-11-20T11:59:16.057389Z"
    }
   },
   "outputs": [
    {
     "name": "stdout",
     "output_type": "stream",
     "text": [
      "/home/alex/data/stackexchange/overflow/caches/posts_2008.hdf5\n",
      "47818 high-scorers\n",
      "/home/alex/data/stackexchange/overflow/caches/posts_2009.hdf5\n",
      "129569 high-scorers\n",
      "/home/alex/data/stackexchange/overflow/caches/posts_2010.hdf5\n",
      "169439 high-scorers\n",
      "/home/alex/data/stackexchange/overflow/caches/posts_2011.hdf5\n",
      "203142 high-scorers\n",
      "/home/alex/data/stackexchange/overflow/caches/posts_2012.hdf5\n",
      "197105 high-scorers\n",
      "/home/alex/data/stackexchange/overflow/caches/posts_2013.hdf5\n",
      "174314 high-scorers\n",
      "/home/alex/data/stackexchange/overflow/caches/posts_2014.hdf5\n",
      "110332 high-scorers\n",
      "/home/alex/data/stackexchange/overflow/caches/posts_2015.hdf5\n",
      "80620 high-scorers\n",
      "/home/alex/data/stackexchange/overflow/caches/posts_2016.hdf5\n",
      "42255 high-scorers\n",
      "/home/alex/data/stackexchange/overflow/caches/posts_2017.hdf5\n",
      "8907 high-scorers\n"
     ]
    }
   ],
   "source": [
    "highscorers = []\n",
    "for meta_path in allmetas:\n",
    "    print meta_path\n",
    "    store_meta = pd.HDFStore(meta_path, \"r\", complib=\"blosc\", complevel=9)\n",
    "    smask = store_meta.select_as_coordinates(\"posts\", \"Score > 10\")\n",
    "    ids = store_meta.select(\"posts\", where=smask, columns=\"Id\").values\n",
    "    print \"%i high-scorers\" % len(ids)\n",
    "    highscorers.append(ids)"
   ]
  },
  {
   "cell_type": "code",
   "execution_count": null,
   "metadata": {},
   "outputs": [],
   "source": [
    "from gensim.parsing import preprocessing\n",
    "\n",
    "i = 0\n",
    "for post in YieldDBPosts(conn):\n",
    "    print post[0]\n",
    "    print preprocessing.preprocess_string(post[0])\n",
    "    i += 1\n",
    "    if i == 3:\n",
    "        break"
   ]
  }
 ],
 "metadata": {
  "kernelspec": {
   "display_name": "Python 2",
   "language": "python",
   "name": "python2"
  },
  "language_info": {
   "codemirror_mode": {
    "name": "ipython",
    "version": 2
   },
   "file_extension": ".py",
   "mimetype": "text/x-python",
   "name": "python",
   "nbconvert_exporter": "python",
   "pygments_lexer": "ipython2",
   "version": "2.7.14"
  },
  "varInspector": {
   "cols": {
    "lenName": 16,
    "lenType": 16,
    "lenVar": 40
   },
   "kernels_config": {
    "python": {
     "delete_cmd_postfix": "",
     "delete_cmd_prefix": "del ",
     "library": "var_list.py",
     "varRefreshCmd": "print(var_dic_list())"
    },
    "r": {
     "delete_cmd_postfix": ") ",
     "delete_cmd_prefix": "rm(",
     "library": "var_list.r",
     "varRefreshCmd": "cat(var_dic_list()) "
    }
   },
   "types_to_exclude": [
    "module",
    "function",
    "builtin_function_or_method",
    "instance",
    "_Feature"
   ],
   "window_display": false
  }
 },
 "nbformat": 4,
 "nbformat_minor": 2
}
