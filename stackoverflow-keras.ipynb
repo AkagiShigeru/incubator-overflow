{
 "cells": [
  {
   "cell_type": "code",
   "execution_count": 1,
   "metadata": {
    "ExecuteTime": {
     "end_time": "2017-11-01T09:15:17.392948Z",
     "start_time": "2017-11-01T09:15:17.065392Z"
    }
   },
   "outputs": [],
   "source": [
    "%matplotlib inline\n",
    "from stack_nlp import *\n",
    "from jupyter_mplsettings import *\n",
    "matplotlib.rc('font', **font)"
   ]
  },
  {
   "cell_type": "code",
   "execution_count": 2,
   "metadata": {
    "ExecuteTime": {
     "end_time": "2017-11-01T09:15:24.203489Z",
     "start_time": "2017-11-01T09:15:24.199049Z"
    }
   },
   "outputs": [],
   "source": [
    "cfg = local_import(\"./default.py\")"
   ]
  },
  {
   "cell_type": "code",
   "execution_count": null,
   "metadata": {},
   "outputs": [],
   "source": [
    "PrepareData(cfg)\n",
    "data = cfg.data\n",
    "data.keys()\n",
    "qs = data[\"meta\"];"
   ]
  }
 ],
 "metadata": {
  "kernelspec": {
   "display_name": "Python 2",
   "language": "python",
   "name": "python2"
  },
  "language_info": {
   "codemirror_mode": {
    "name": "ipython",
    "version": 2
   },
   "file_extension": ".py",
   "mimetype": "text/x-python",
   "name": "python",
   "nbconvert_exporter": "python",
   "pygments_lexer": "ipython2",
   "version": "2.7.14"
  }
 },
 "nbformat": 4,
 "nbformat_minor": 2
}
