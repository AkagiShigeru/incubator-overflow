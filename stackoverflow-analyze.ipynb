{
 "cells": [
  {
   "cell_type": "code",
   "execution_count": 1,
   "metadata": {
    "ExecuteTime": {
     "end_time": "2017-11-28T13:47:43.028672Z",
     "start_time": "2017-11-28T13:47:21.007740Z"
    },
    "slideshow": {
     "slide_type": "skip"
    }
   },
   "outputs": [
    {
     "name": "stderr",
     "output_type": "stream",
     "text": [
      "Using TensorFlow backend.\n"
     ]
    }
   ],
   "source": [
    "%matplotlib inline\n",
    "from jupyter_mplsettings import *\n",
    "from stack_util import local_import\n",
    "matplotlib.rc('font', **font)\n",
    "from ipywidgets import widgets\n",
    "from ipywidgets import *\n",
    "from IPython.display import display, clear_output\n",
    "from stack_analyze import PrepareModels, AnalyzePosts"
   ]
  },
  {
   "cell_type": "code",
   "execution_count": 2,
   "metadata": {
    "ExecuteTime": {
     "end_time": "2017-11-28T13:49:55.502268Z",
     "start_time": "2017-11-28T13:48:25.993174Z"
    },
    "slideshow": {
     "slide_type": "skip"
    }
   },
   "outputs": [
    {
     "name": "stdout",
     "output_type": "stream",
     "text": [
      "Loading word dictionary...\n",
      "Preparing keras_tagprediction.\n",
      "Preparing keras_scoreprediction_twoclasses_cnn.\n"
     ]
    }
   ],
   "source": [
    "cfg = local_import(\"./livedemo.py\")\n",
    "cfg = PrepareModels(cfg)"
   ]
  },
  {
   "cell_type": "code",
   "execution_count": 3,
   "metadata": {
    "ExecuteTime": {
     "end_time": "2017-11-28T13:50:06.208717Z",
     "start_time": "2017-11-28T13:50:06.021236Z"
    },
    "slideshow": {
     "slide_type": "slide"
    }
   },
   "outputs": [
    {
     "data": {
      "application/vnd.jupyter.widget-view+json": {
       "model_id": "e599cf37114b4873ac5407b3d55a6f27",
       "version_major": 2,
       "version_minor": 0
      },
      "text/html": [
       "<p>Failed to display Jupyter Widget of type <code>Box</code>.</p>\n",
       "<p>\n",
       "  If you're reading this message in the Jupyter Notebook or JupyterLab Notebook, it may mean\n",
       "  that the widgets JavaScript is still loading. If this message persists, it\n",
       "  likely means that the widgets JavaScript library is either not installed or\n",
       "  not enabled. See the <a href=\"https://ipywidgets.readthedocs.io/en/stable/user_install.html\">Jupyter\n",
       "  Widgets Documentation</a> for setup instructions.\n",
       "</p>\n",
       "<p>\n",
       "  If you're reading this message in another frontend (for example, a static\n",
       "  rendering on GitHub or <a href=\"https://nbviewer.jupyter.org/\">NBViewer</a>),\n",
       "  it may mean that your frontend doesn't currently support widgets.\n",
       "</p>\n"
      ],
      "text/plain": [
       "Box(children=(Box(children=(Label(value=u'Title'), Text(value=u'my bad title')), layout=Layout(display=u'flex', flex_flow=u'row', justify_content=u'space-between')), Box(children=(Label(value=u'Question'), Textarea(value=u'type your question...')), layout=Layout(display=u'flex', flex_flow=u'row', justify_content=u'space-between')), Box(children=(Label(value=u''), Button(description=u'Submit', style=ButtonStyle())), layout=Layout(display=u'flex', flex_flow=u'row', justify_content=u'space-between')), Box(children=(Label(value=u''), Output()), layout=Layout(display=u'flex', flex_flow=u'row', justify_content=u'space-between'))), layout=Layout(align_items=u'stretch', border=u'solid 1px', display=u'flex', flex_flow=u'column', width=u'50%'))"
      ]
     },
     "metadata": {},
     "output_type": "display_data"
    }
   ],
   "source": [
    "form_item_layout = Layout(\n",
    "    display='flex',\n",
    "    flex_flow='row',\n",
    "    justify_content='space-between'\n",
    ")\n",
    "\n",
    "button = widgets.Button(description='Submit')\n",
    "titlefield = widgets.Text(value=\"my bad title\", width=700)\n",
    "postfield = widgets.Textarea(value='type your question...', width=500)\n",
    "out = widgets.Output()\n",
    "\n",
    "form_items = [\n",
    "    Box([Label(value='Title'), titlefield], \n",
    "        layout=form_item_layout),\n",
    "    Box([Label(value='Question'), postfield], \n",
    "        layout=form_item_layout),\n",
    "    Box([Label(value=''),\n",
    "        button], \n",
    "        layout=form_item_layout),\n",
    "    Box([Label(value=''),\n",
    "         out],\n",
    "        layout=form_item_layout)\n",
    "]\n",
    "\n",
    "def on_submit(b):\n",
    "    userpost = {\"Body\": postfield.value,\n",
    "                \"Title\": titlefield.value,\n",
    "                \"CreationDate\": \"27/11/2017\",\n",
    "                \"UserName\": \"testuser\"}\n",
    "    res = AnalyzePosts(cfg, userposts=[userpost], pids=None, debug=False)\n",
    "    \n",
    "    tagprobs = res[\"keras_tagprediction\"][0]\n",
    "    goodprobs = res[\"keras_scoreprediction_twoclasses_cnn\"][0]\n",
    "    \n",
    "    prob_sort = np.argsort(tagprobs)[::-1][:3]\n",
    "    probs = tagprobs[prob_sort]\n",
    "    tags = cfg.mostcommon_tags.tags.values\n",
    "    tags[30] = \"other / not identified\"\n",
    "    prob_sort_topics = tags[prob_sort]\n",
    "    \n",
    "    with out:\n",
    "        clear_output()\n",
    "        print \"Three hottest recognized topics:\"\n",
    "        for ip in range(len(prob_sort)):\n",
    "            print \"%s (%.1f percent)\" % (prob_sort_topics[ip], 100. * probs[ip])\n",
    "        if goodprobs[1] > goodprobs[0]:\n",
    "            print \"We estimate that this question is more likely a good question.\"\n",
    "        else:\n",
    "            print \"We estimate that this question is more likely not very good. Have a look if you can provide more information or structure your question better. Also check out the suggestions below.\"\n",
    "        print \"Estimated probability to be a good question: %.1f percent\" % (goodprobs[1] * 100.)\n",
    "    \n",
    "        print \"\\nSuggestions based on simple text analysis:\"\n",
    "        pfeatures = cfg.data[\"post_features\"]\n",
    "        feat_qs = cfg.feat_quantiles\n",
    "        feat_qs = feat_qs.reset_index()\n",
    "        features = feat_qs.feature.values\n",
    "        feat_qs.set_index(\"feature\", inplace=True)\n",
    "        evaluation = [\"extremely low\", \"very low\", \"low\", \"low to moderate\", \"moderate to high\", \"high\", \"very high\", \"extremely high\"]\n",
    "        desc = {\"BodyNCodes\": \"Number of code fields\", \"BodyNQMarks\": \"Number of question marks\",\n",
    "                \"BodySize\": \"Size of the post\", \"nwords\": \"Number of words\",\n",
    "                \"ordermean\": \"Word prevalence\", \"ratio\": \"Ratio of verbs to nouns\",\n",
    "                \"titlelen\": \"Length of the title\"}\n",
    "        for feat in features:\n",
    "            if feat == \"quants\":\n",
    "                continue\n",
    "            qs = feat_qs.loc[feat].values\n",
    "            val = pfeatures[feat][0]\n",
    "#             loc = np.digitize(val, qs)\n",
    "            loc = np.searchsorted(qs, val)\n",
    "            if feat in desc:\n",
    "                print \"%s: %s\" % (desc[feat], evaluation[loc])\n",
    "            \n",
    "    \n",
    "    \n",
    "button.on_click(on_submit)\n",
    "\n",
    "form = Box(form_items, layout=Layout(\n",
    "    display='flex',\n",
    "    flex_flow='column',\n",
    "    border='solid 1px',\n",
    "    align_items='stretch',\n",
    "    width='50%'\n",
    "))\n",
    "form"
   ]
  },
  {
   "cell_type": "code",
   "execution_count": null,
   "metadata": {},
   "outputs": [],
   "source": []
  }
 ],
 "metadata": {
  "hide_input": false,
  "kernelspec": {
   "display_name": "Python 2",
   "language": "python",
   "name": "python2"
  },
  "language_info": {
   "codemirror_mode": {
    "name": "ipython",
    "version": 2
   },
   "file_extension": ".py",
   "mimetype": "text/x-python",
   "name": "python",
   "nbconvert_exporter": "python",
   "pygments_lexer": "ipython2",
   "version": "2.7.14"
  },
  "varInspector": {
   "cols": {
    "lenName": 16,
    "lenType": 16,
    "lenVar": 40
   },
   "kernels_config": {
    "python": {
     "delete_cmd_postfix": "",
     "delete_cmd_prefix": "del ",
     "library": "var_list.py",
     "varRefreshCmd": "print(var_dic_list())"
    },
    "r": {
     "delete_cmd_postfix": ") ",
     "delete_cmd_prefix": "rm(",
     "library": "var_list.r",
     "varRefreshCmd": "cat(var_dic_list()) "
    }
   },
   "types_to_exclude": [
    "module",
    "function",
    "builtin_function_or_method",
    "instance",
    "_Feature"
   ],
   "window_display": false
  }
 },
 "nbformat": 4,
 "nbformat_minor": 2
}
