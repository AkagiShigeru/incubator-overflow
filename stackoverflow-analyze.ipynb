{
 "cells": [
  {
   "cell_type": "code",
   "execution_count": 1,
   "metadata": {
    "ExecuteTime": {
     "end_time": "2017-11-27T16:03:00.378131Z",
     "start_time": "2017-11-27T16:02:39.054795Z"
    }
   },
   "outputs": [
    {
     "name": "stderr",
     "output_type": "stream",
     "text": [
      "Using TensorFlow backend.\n"
     ]
    }
   ],
   "source": [
    "%matplotlib inline\n",
    "from jupyter_mplsettings import *\n",
    "from stack_util import local_import\n",
    "matplotlib.rc('font', **font)\n",
    "from ipywidgets import widgets\n",
    "from ipywidgets import *\n",
    "from IPython.display import display\n",
    "from stack_analyze import PrepareModels, AnalyzePosts"
   ]
  },
  {
   "cell_type": "code",
   "execution_count": 2,
   "metadata": {
    "ExecuteTime": {
     "end_time": "2017-11-27T16:04:51.177177Z",
     "start_time": "2017-11-27T16:03:24.243132Z"
    }
   },
   "outputs": [
    {
     "name": "stdout",
     "output_type": "stream",
     "text": [
      "Loading word dictionary...\n",
      "Preparing keras_tagprediction.\n",
      "Preparing keras_scoreprediction_twoclasses_cnn.\n"
     ]
    }
   ],
   "source": [
    "cfg = local_import(\"./laptop_fit.py\")\n",
    "cfg = PrepareModels(cfg)"
   ]
  },
  {
   "cell_type": "code",
   "execution_count": 12,
   "metadata": {
    "ExecuteTime": {
     "end_time": "2017-11-27T16:13:43.275482Z",
     "start_time": "2017-11-27T16:13:42.999014Z"
    }
   },
   "outputs": [
    {
     "data": {
      "application/vnd.jupyter.widget-view+json": {
       "model_id": "2eacce3dee6e4cdf9fc958a9ee295d4b",
       "version_major": 2,
       "version_minor": 0
      },
      "text/html": [
       "<p>Failed to display Jupyter Widget of type <code>Box</code>.</p>\n",
       "<p>\n",
       "  If you're reading this message in the Jupyter Notebook or JupyterLab Notebook, it may mean\n",
       "  that the widgets JavaScript is still loading. If this message persists, it\n",
       "  likely means that the widgets JavaScript library is either not installed or\n",
       "  not enabled. See the <a href=\"https://ipywidgets.readthedocs.io/en/stable/user_install.html\">Jupyter\n",
       "  Widgets Documentation</a> for setup instructions.\n",
       "</p>\n",
       "<p>\n",
       "  If you're reading this message in another frontend (for example, a static\n",
       "  rendering on GitHub or <a href=\"https://nbviewer.jupyter.org/\">NBViewer</a>),\n",
       "  it may mean that your frontend doesn't currently support widgets.\n",
       "</p>\n"
      ],
      "text/plain": [
       "Box(children=(Box(children=(Label(value=u'Title'), Text(value=u'')), layout=Layout(display=u'flex', flex_flow=u'row', justify_content=u'space-between')), Box(children=(Label(value=u'Question'), Textarea(value=u'type your question...')), layout=Layout(display=u'flex', flex_flow=u'row', justify_content=u'space-between')), Box(children=(Label(value=u''), Button(description=u'Submit', style=ButtonStyle())), layout=Layout(display=u'flex', flex_flow=u'row', justify_content=u'space-between'))), layout=Layout(align_items=u'stretch', border=u'solid 1px', display=u'flex', flex_flow=u'column', width=u'50%'))"
      ]
     },
     "metadata": {},
     "output_type": "display_data"
    }
   ],
   "source": [
    "form_item_layout = Layout(\n",
    "    display='flex',\n",
    "    flex_flow='row',\n",
    "    justify_content='space-between'\n",
    ")\n",
    "\n",
    "button = widgets.Button(description='Submit')\n",
    "titlefield = widgets.Text(width=700)\n",
    "postfield = widgets.Textarea(value='type your question...', disabled=False, width=500)\n",
    "\n",
    "form_items = [\n",
    "    Box([Label(value='Title'), titlefield], \n",
    "        layout=form_item_layout),\n",
    "    Box([Label(value='Question'), postfield], \n",
    "        layout=form_item_layout),\n",
    "    Box([Label(value=''),\n",
    "        button], \n",
    "        layout=form_item_layout),\n",
    "]\n",
    "\n",
    "def on_submit(b):\n",
    "    userpost = {\"Body\": postfield.value,\n",
    "                \"Title\": titlefield.value,\n",
    "                \"CreationDate\": \"27/11/2017\",\n",
    "                \"UserName\": \"testuser\"}\n",
    "    res = AnalyzePosts(cfg, userposts=[userpost], pids=None, debug=False)\n",
    "    tagprobs = res[\"keras_tagprediction\"][0]\n",
    "    goodprobs = res[\"keras_scoreprediction_twoclasses_cnn\"][0]\n",
    "    prob_sort = np.argsort(tagprobs)[::-1][:3]\n",
    "    probs = tagprobs[prob_sort]\n",
    "    prob_sort_topics = cfg.mostcommon_tags.tags.values[prob_sort]\n",
    "    print \"Three hottest topics:\"\n",
    "    for ip in range(len(prob_sort)):\n",
    "        print \"%s (%.1f percent)\" % (prob_sort_topics[ip], probs[ip])\n",
    "    \n",
    "    \n",
    "button.on_click(on_submit)\n",
    "\n",
    "form = Box(form_items, layout=Layout(\n",
    "    display='flex',\n",
    "    flex_flow='column',\n",
    "    border='solid 1px',\n",
    "    align_items='stretch',\n",
    "    width='50%'\n",
    "))\n",
    "form"
   ]
  },
  {
   "cell_type": "code",
   "execution_count": null,
   "metadata": {},
   "outputs": [],
   "source": []
  }
 ],
 "metadata": {
  "kernelspec": {
   "display_name": "Python 2",
   "language": "python",
   "name": "python2"
  },
  "language_info": {
   "codemirror_mode": {
    "name": "ipython",
    "version": 2
   },
   "file_extension": ".py",
   "mimetype": "text/x-python",
   "name": "python",
   "nbconvert_exporter": "python",
   "pygments_lexer": "ipython2",
   "version": "2.7.14"
  },
  "varInspector": {
   "cols": {
    "lenName": 16,
    "lenType": 16,
    "lenVar": 40
   },
   "kernels_config": {
    "python": {
     "delete_cmd_postfix": "",
     "delete_cmd_prefix": "del ",
     "library": "var_list.py",
     "varRefreshCmd": "print(var_dic_list())"
    },
    "r": {
     "delete_cmd_postfix": ") ",
     "delete_cmd_prefix": "rm(",
     "library": "var_list.r",
     "varRefreshCmd": "cat(var_dic_list()) "
    }
   },
   "types_to_exclude": [
    "module",
    "function",
    "builtin_function_or_method",
    "instance",
    "_Feature"
   ],
   "window_display": false
  }
 },
 "nbformat": 4,
 "nbformat_minor": 2
}
